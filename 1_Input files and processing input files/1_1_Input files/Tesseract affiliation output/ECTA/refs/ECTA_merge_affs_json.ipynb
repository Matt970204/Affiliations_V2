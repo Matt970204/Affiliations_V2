{
 "cells": [
  {
   "cell_type": "code",
   "execution_count": 27,
   "metadata": {},
   "outputs": [],
   "source": [
    "# Merge AER json files together\n",
    "# Missing 1943 won't load\n",
    "# 1969 missing\n",
    "\n",
    "import json\n",
    "import pandas as pd\n",
    "\n",
    "with open('ECTA_ref_output_1940_1949.json') as f0:               # open the file\n",
    "    data0 = json.load(f0)\n",
    "\n",
    "with open('ECTA_ref_output_1950_1959.json') as f1:               # open the file\n",
    "    data1 = json.load(f1)\n",
    "\n",
    "with open('ECTA_ref_output_1960_1979.json') as f2:                # open the file       \n",
    "    data2 = json.load(f2)\n",
    "\n",
    "with open('ECTA_ref_output_1980_1989.json') as f3:                # open the file       \n",
    "    data3 = json.load(f3)\n",
    "\n",
    "with open('ECTA_ref_output_1990_1999.json') as f4:                # open the file       \n",
    "    data4 = json.load(f4)\n",
    "\n",
    "with open('ECTA_ref_output_2000_2010.json') as f5:                # open the file       \n",
    "    data5 = json.load(f5)\n",
    "\n",
    "# Creating DataFrames\n",
    "df0 = pd.DataFrame([data0]) \n",
    "df1 = pd.DataFrame([data1])                      \n",
    "df2 = pd.DataFrame([data2])  \n",
    "df3 = pd.DataFrame([data3])     \n",
    "df4 = pd.DataFrame([data4])                      \n",
    "df5 = pd.DataFrame([data5])  \n",
    "\n",
    "MergeJson = pd.concat([df0, df1, df2, df3, df4, df5], axis=1)\n",
    "\n",
    "MergeJson.to_json(\"ECTA_aff_output_1940_2010_merged.json\")          # Writing Json"
   ]
  }
 ],
 "metadata": {
  "kernelspec": {
   "display_name": "Python 3",
   "language": "python",
   "name": "python3"
  },
  "language_info": {
   "codemirror_mode": {
    "name": "ipython",
    "version": 3
   },
   "file_extension": ".py",
   "mimetype": "text/x-python",
   "name": "python",
   "nbconvert_exporter": "python",
   "pygments_lexer": "ipython3",
   "version": "3.9.6"
  },
  "orig_nbformat": 4
 },
 "nbformat": 4,
 "nbformat_minor": 2
}
