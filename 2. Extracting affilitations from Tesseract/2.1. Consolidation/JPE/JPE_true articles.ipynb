{
 "cells": [
  {
   "cell_type": "code",
   "execution_count": 1,
   "metadata": {},
   "outputs": [
    {
     "name": "stdout",
     "output_type": "stream",
     "text": [
      "(4337, 38)\n",
      "(3823, 38)\n"
     ]
    }
   ],
   "source": [
    "import pandas as pd\n",
    "JPE = pd.read_excel('/Users/MattJohnson/Library/CloudStorage/OneDrive-UniversityofCapeTown/Masters_thesis/Data checks/Consolidation/Finalized/JPE_aff_out_full.xlsx', 'Final JPE')\n",
    "print(JPE.shape)\n",
    "\n",
    "#JPE['year'] = JPE['year'].astype('int')\n",
    "\n",
    "list = []\n",
    "for i in range(1940,2011):\n",
    "    list.append(i)\n",
    "\n",
    "mask_year = JPE['year'].isin(list)\n",
    "JPE = JPE[mask_year]\n",
    "\n",
    "mask_type = JPE['content_type'].isin(['Article'])\n",
    "JPE = JPE[mask_type]\n",
    "\n",
    "JPE = JPE.reset_index(drop = True)\n",
    "\n",
    "print(JPE.shape)"
   ]
  },
  {
   "cell_type": "code",
   "execution_count": 2,
   "metadata": {},
   "outputs": [],
   "source": [
    "JPE.to_excel('/Users/MattJohnson/Library/CloudStorage/OneDrive-UniversityofCapeTown/Masters_thesis/Data checks/Consolidation/Finalized/JPE_affiliations.xlsx') \n"
   ]
  }
 ],
 "metadata": {
  "kernelspec": {
   "display_name": "Python 3",
   "language": "python",
   "name": "python3"
  },
  "language_info": {
   "codemirror_mode": {
    "name": "ipython",
    "version": 3
   },
   "file_extension": ".py",
   "mimetype": "text/x-python",
   "name": "python",
   "nbconvert_exporter": "python",
   "pygments_lexer": "ipython3",
   "version": "3.9.6"
  }
 },
 "nbformat": 4,
 "nbformat_minor": 2
}
