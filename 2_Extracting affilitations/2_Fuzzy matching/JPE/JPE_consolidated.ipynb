{
 "cells": [
  {
   "cell_type": "code",
   "execution_count": 53,
   "metadata": {},
   "outputs": [
    {
     "name": "stdout",
     "output_type": "stream",
     "text": [
      "UCSD\n",
      "UCSD\n",
      "University of Illinois\n",
      "UCSD and University of Illinois and UCSD\n"
     ]
    }
   ],
   "source": [
    "#Universities_dict = {(\"UN\",\"University of California, San Diego\"):\"UCSD\", \"Uniersity of Illinois\": \"University of Illinois\"}\n",
    "Universities_dict = {\"University of California, San Diego\":\"UCSD\",\"University of Catifornia, San Diego\":\"UCSD\", \"Uniersity of Illinois\": \"University of Illinois\"}\n",
    "\n",
    "aff_string = \"University of California, San Diego and Uniersity of Illinois and University of Catifornia, San Diego\"\n",
    "for key in Universities_dict.keys():\n",
    "    aff_string = aff_string.replace(key, Universities_dict[key])\n",
    "    print(Universities_dict[key])\n",
    "\n",
    "print(aff_string)"
   ]
  }
 ],
 "metadata": {
  "kernelspec": {
   "display_name": "Python 3",
   "language": "python",
   "name": "python3"
  },
  "language_info": {
   "codemirror_mode": {
    "name": "ipython",
    "version": 3
   },
   "file_extension": ".py",
   "mimetype": "text/x-python",
   "name": "python",
   "nbconvert_exporter": "python",
   "pygments_lexer": "ipython3",
   "version": "3.9.6"
  },
  "orig_nbformat": 4
 },
 "nbformat": 4,
 "nbformat_minor": 2
}
