{
 "cells": [
  {
   "cell_type": "code",
   "execution_count": 5,
   "metadata": {},
   "outputs": [
    {
     "name": "stdout",
     "output_type": "stream",
     "text": [
      "0     [tets, 1]\n",
      "1    [2, 6, 10]\n",
      "2    [2, 5, 11]\n",
      "3    [3, 7, 11]\n",
      "4    [4, 8, 12]\n",
      "dtype: object\n"
     ]
    }
   ],
   "source": [
    "import pandas as pd\n",
    "\n",
    "# Sample DataFrame\n",
    "data = {'col1': ['tets', 2, 2, 3, 4],\n",
    "        'col2': ['tets', 6, 5, 7, 8],\n",
    "        'col3': [1, 10, 11, 11, 12]}\n",
    "df = pd.DataFrame(data)\n",
    "\n",
    "# Function to remove duplicates in a row\n",
    "def remove_duplicates_row(row):\n",
    "    return list(pd.unique(row))\n",
    "\n",
    "# Apply the function to each row of the DataFrame\n",
    "df_cleaned = df.apply(remove_duplicates_row, axis=1)\n",
    "\n",
    "print(df_cleaned)\n"
   ]
  },
  {
   "cell_type": "code",
   "execution_count": null,
   "metadata": {},
   "outputs": [],
   "source": [
    "import pandas as pd\n",
    "\n",
    "# Sample DataFrame\n",
    "data = {'col1': ['tets', 2, 2, 3, 4],\n",
    "        'col2': ['tets', 6, 5, 7, 8],\n",
    "        'col3': [1, 10, 11, 11, 12]}\n",
    "df = pd.DataFrame(data)\n",
    "\n",
    "# Function to remove duplicates in a row\n",
    "def remove_duplicates_row(row):\n",
    "    return list(pd.unique(row))\n",
    "\n",
    "# Apply the function to each row of the DataFrame\n",
    "df_cleaned = df.apply(list(pd.unique(row)), axis=1)\n",
    "\n",
    "print(df_cleaned)\n"
   ]
  }
 ],
 "metadata": {
  "kernelspec": {
   "display_name": "Python 3",
   "language": "python",
   "name": "python3"
  },
  "language_info": {
   "codemirror_mode": {
    "name": "ipython",
    "version": 3
   },
   "file_extension": ".py",
   "mimetype": "text/x-python",
   "name": "python",
   "nbconvert_exporter": "python",
   "pygments_lexer": "ipython3",
   "version": "3.9.6"
  },
  "orig_nbformat": 4
 },
 "nbformat": 4,
 "nbformat_minor": 2
}
