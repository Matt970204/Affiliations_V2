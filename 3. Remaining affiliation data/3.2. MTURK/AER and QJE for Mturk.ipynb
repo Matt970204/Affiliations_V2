{
 "cells": [
  {
   "cell_type": "code",
   "execution_count": 1,
   "metadata": {},
   "outputs": [
    {
     "name": "stdout",
     "output_type": "stream",
     "text": [
      "[1940, 1941, 1942, 1943, 1944, 1945, 1946, 1947, 1948, 1949, 1950, 1951, 1952, 1953, 1954, 1955, 1956, 1957, 1958, 1959, 1960, 1961, 1962, 1963, 1964, 1965, 1966, 1967, 1968, 1969, 1970, 1971, 1972, 1973, 1974, 1975, 1976, 1977, 1978, 1979, 1980, 1981, 1982, 1983, 1984, 1985, 1986, 1987, 1988, 1989, 1990, 1991, 1992, 1993, 1994, 1995, 1996, 1997, 1998, 1999, 2000, 2001, 2002, 2003, 2004, 2005, 2006, 2007, 2008, 2009, 2010]\n",
      "(9340, 11)\n"
     ]
    },
    {
     "name": "stderr",
     "output_type": "stream",
     "text": [
      "/var/folders/23/ft9qf9c11rj_vqhbjml910f40000gn/T/ipykernel_3877/352687616.py:10: SettingWithCopyWarning: \n",
      "A value is trying to be set on a copy of a slice from a DataFrame.\n",
      "Try using .loc[row_indexer,col_indexer] = value instead\n",
      "\n",
      "See the caveats in the documentation: https://pandas.pydata.org/pandas-docs/stable/user_guide/indexing.html#returning-a-view-versus-a-copy\n",
      "  AER_master_condenced['year'] = AER_master_condenced['year'].astype('int')\n",
      "/var/folders/23/ft9qf9c11rj_vqhbjml910f40000gn/T/ipykernel_3877/352687616.py:11: SettingWithCopyWarning: \n",
      "A value is trying to be set on a copy of a slice from a DataFrame.\n",
      "Try using .loc[row_indexer,col_indexer] = value instead\n",
      "\n",
      "See the caveats in the documentation: https://pandas.pydata.org/pandas-docs/stable/user_guide/indexing.html#returning-a-view-versus-a-copy\n",
      "  AER_master_condenced['Article_ID'] = AER_master_condenced['Article_ID'].astype('int')\n"
     ]
    },
    {
     "data": {
      "text/html": [
       "<div>\n",
       "<style scoped>\n",
       "    .dataframe tbody tr th:only-of-type {\n",
       "        vertical-align: middle;\n",
       "    }\n",
       "\n",
       "    .dataframe tbody tr th {\n",
       "        vertical-align: top;\n",
       "    }\n",
       "\n",
       "    .dataframe thead th {\n",
       "        text-align: right;\n",
       "    }\n",
       "</style>\n",
       "<table border=\"1\" class=\"dataframe\">\n",
       "  <thead>\n",
       "    <tr style=\"text-align: right;\">\n",
       "      <th></th>\n",
       "      <th>Article_ID</th>\n",
       "      <th>year</th>\n",
       "      <th>authors</th>\n",
       "      <th>content_type</th>\n",
       "      <th>title</th>\n",
       "      <th>issue</th>\n",
       "      <th>volume</th>\n",
       "      <th>pages</th>\n",
       "      <th>journal</th>\n",
       "      <th>stable_url</th>\n",
       "      <th>issue_url</th>\n",
       "    </tr>\n",
       "  </thead>\n",
       "  <tbody>\n",
       "    <tr>\n",
       "      <th>2187</th>\n",
       "      <td>41038751</td>\n",
       "      <td>2010</td>\n",
       "      <td>Enrique G. Mendoza</td>\n",
       "      <td>Article</td>\n",
       "      <td>Sudden Stops, Financial Crises, and Leverage</td>\n",
       "      <td>5.0</td>\n",
       "      <td>100.0</td>\n",
       "      <td>1941-1966</td>\n",
       "      <td>AER</td>\n",
       "      <td>https://www.jstor.org/stable/41038751</td>\n",
       "      <td>https://www.jstor.org/stable/10.2307/i40046434</td>\n",
       "    </tr>\n",
       "    <tr>\n",
       "      <th>2188</th>\n",
       "      <td>41038752</td>\n",
       "      <td>2010</td>\n",
       "      <td>Atif Mian, Amir Sufi and Francesco Trebbi</td>\n",
       "      <td>Article</td>\n",
       "      <td>The Political Economy of the US Mortgage Defau...</td>\n",
       "      <td>5.0</td>\n",
       "      <td>100.0</td>\n",
       "      <td>1967-1998</td>\n",
       "      <td>AER</td>\n",
       "      <td>https://www.jstor.org/stable/41038752</td>\n",
       "      <td>https://www.jstor.org/stable/10.2307/i40046434</td>\n",
       "    </tr>\n",
       "    <tr>\n",
       "      <th>2189</th>\n",
       "      <td>41038753</td>\n",
       "      <td>2010</td>\n",
       "      <td>Marc-Andreas Muendler and Sascha O. Becker</td>\n",
       "      <td>Article</td>\n",
       "      <td>Margins of Multinational Labor Substitution</td>\n",
       "      <td>5.0</td>\n",
       "      <td>100.0</td>\n",
       "      <td>1999-2030</td>\n",
       "      <td>AER</td>\n",
       "      <td>https://www.jstor.org/stable/41038753</td>\n",
       "      <td>https://www.jstor.org/stable/10.2307/i40046434</td>\n",
       "    </tr>\n",
       "    <tr>\n",
       "      <th>2190</th>\n",
       "      <td>41038754</td>\n",
       "      <td>2010</td>\n",
       "      <td>Diego Comin and Bart Hobijn</td>\n",
       "      <td>Article</td>\n",
       "      <td>An Exploration of Technology Diffusion</td>\n",
       "      <td>5.0</td>\n",
       "      <td>100.0</td>\n",
       "      <td>2031-2059</td>\n",
       "      <td>AER</td>\n",
       "      <td>https://www.jstor.org/stable/41038754</td>\n",
       "      <td>https://www.jstor.org/stable/10.2307/i40046434</td>\n",
       "    </tr>\n",
       "    <tr>\n",
       "      <th>2191</th>\n",
       "      <td>41038755</td>\n",
       "      <td>2010</td>\n",
       "      <td>Yann Algan and Pierre Cahuc</td>\n",
       "      <td>Article</td>\n",
       "      <td>Inherited Trust and Growth</td>\n",
       "      <td>5.0</td>\n",
       "      <td>100.0</td>\n",
       "      <td>2060-2092</td>\n",
       "      <td>AER</td>\n",
       "      <td>https://www.jstor.org/stable/41038755</td>\n",
       "      <td>https://www.jstor.org/stable/10.2307/i40046434</td>\n",
       "    </tr>\n",
       "  </tbody>\n",
       "</table>\n",
       "</div>"
      ],
      "text/plain": [
       "      Article_ID  year                                     authors  \\\n",
       "2187    41038751  2010                          Enrique G. Mendoza   \n",
       "2188    41038752  2010   Atif Mian, Amir Sufi and Francesco Trebbi   \n",
       "2189    41038753  2010  Marc-Andreas Muendler and Sascha O. Becker   \n",
       "2190    41038754  2010                 Diego Comin and Bart Hobijn   \n",
       "2191    41038755  2010                 Yann Algan and Pierre Cahuc   \n",
       "\n",
       "     content_type                                              title issue  \\\n",
       "2187      Article       Sudden Stops, Financial Crises, and Leverage   5.0   \n",
       "2188      Article  The Political Economy of the US Mortgage Defau...   5.0   \n",
       "2189      Article        Margins of Multinational Labor Substitution   5.0   \n",
       "2190      Article             An Exploration of Technology Diffusion   5.0   \n",
       "2191      Article                         Inherited Trust and Growth   5.0   \n",
       "\n",
       "      volume      pages journal                             stable_url  \\\n",
       "2187   100.0  1941-1966     AER  https://www.jstor.org/stable/41038751   \n",
       "2188   100.0  1967-1998     AER  https://www.jstor.org/stable/41038752   \n",
       "2189   100.0  1999-2030     AER  https://www.jstor.org/stable/41038753   \n",
       "2190   100.0  2031-2059     AER  https://www.jstor.org/stable/41038754   \n",
       "2191   100.0  2060-2092     AER  https://www.jstor.org/stable/41038755   \n",
       "\n",
       "                                           issue_url  \n",
       "2187  https://www.jstor.org/stable/10.2307/i40046434  \n",
       "2188  https://www.jstor.org/stable/10.2307/i40046434  \n",
       "2189  https://www.jstor.org/stable/10.2307/i40046434  \n",
       "2190  https://www.jstor.org/stable/10.2307/i40046434  \n",
       "2191  https://www.jstor.org/stable/10.2307/i40046434  "
      ]
     },
     "execution_count": 1,
     "metadata": {},
     "output_type": "execute_result"
    }
   ],
   "source": [
    "#Read in the master sheet\n",
    "#Local store of AER_master\n",
    "import pandas as pd\n",
    "\n",
    "AER_master = pd.read_excel('/Users/MattJohnson/Desktop/Affiliations/1_Input files and processing input files/1_1_Input files/Master lists/Processed/AER_processed.xlsx')\n",
    "for i in range(len(AER_master)):\n",
    "    AER_master.loc[i,['Article_ID']] = AER_master.loc[i,['stable_url']].to_string().rsplit('/',1)[-1]\n",
    "\n",
    "AER_master_condenced  = AER_master[['Article_ID','year','authors','content_type','title','issue','volume','pages','journal', 'stable_url','issue_url']]\n",
    "AER_master_condenced['year'] = AER_master_condenced['year'].astype('int')\n",
    "AER_master_condenced['Article_ID'] = AER_master_condenced['Article_ID'].astype('int')\n",
    "\n",
    "list = []\n",
    "for i in range(1940,2011):\n",
    "    list.append(i)\n",
    "print(list)\n",
    "\n",
    "mask_year = AER_master_condenced['year'].isin(list)\n",
    "AER_master_condenced = AER_master_condenced[mask_year]\n",
    "\n",
    "mask_type = AER_master_condenced['content_type'].isin(['Article'])\n",
    "AER_master_condenced = AER_master_condenced[mask_type]\n",
    "#AER_master_condenced.drop(~AER_master_condenced.loc[AER_master_condenced['year_master'].isin([2016])].index, inplace=True)\n",
    "print(AER_master_condenced.shape)\n",
    "AER_master_condenced.head()"
   ]
  },
  {
   "cell_type": "code",
   "execution_count": 2,
   "metadata": {},
   "outputs": [
    {
     "name": "stdout",
     "output_type": "stream",
     "text": [
      "(0, 11)\n"
     ]
    },
    {
     "data": {
      "text/html": [
       "<div>\n",
       "<style scoped>\n",
       "    .dataframe tbody tr th:only-of-type {\n",
       "        vertical-align: middle;\n",
       "    }\n",
       "\n",
       "    .dataframe tbody tr th {\n",
       "        vertical-align: top;\n",
       "    }\n",
       "\n",
       "    .dataframe thead th {\n",
       "        text-align: right;\n",
       "    }\n",
       "</style>\n",
       "<table border=\"1\" class=\"dataframe\">\n",
       "  <thead>\n",
       "    <tr style=\"text-align: right;\">\n",
       "      <th></th>\n",
       "      <th>Article_ID</th>\n",
       "      <th>year</th>\n",
       "      <th>authors</th>\n",
       "      <th>content_type</th>\n",
       "      <th>title</th>\n",
       "      <th>issue</th>\n",
       "      <th>volume</th>\n",
       "      <th>pages</th>\n",
       "      <th>journal</th>\n",
       "      <th>stable_url</th>\n",
       "      <th>issue_url</th>\n",
       "    </tr>\n",
       "  </thead>\n",
       "  <tbody>\n",
       "  </tbody>\n",
       "</table>\n",
       "</div>"
      ],
      "text/plain": [
       "Empty DataFrame\n",
       "Columns: [Article_ID, year, authors, content_type, title, issue, volume, pages, journal, stable_url, issue_url]\n",
       "Index: []"
      ]
     },
     "execution_count": 2,
     "metadata": {},
     "output_type": "execute_result"
    }
   ],
   "source": [
    "mask_blank = AER_master_condenced['authors'].isna()\n",
    "AER_master_condenced_blank = AER_master_condenced[mask_blank]\n",
    "\n",
    "print(AER_master_condenced_blank.shape)\n",
    "AER_master_condenced_blank.head()"
   ]
  },
  {
   "cell_type": "code",
   "execution_count": 9,
   "metadata": {},
   "outputs": [
    {
     "name": "stdout",
     "output_type": "stream",
     "text": [
      "(9340, 3)\n",
      "(1908, 3)\n"
     ]
    },
    {
     "data": {
      "text/html": [
       "<div>\n",
       "<style scoped>\n",
       "    .dataframe tbody tr th:only-of-type {\n",
       "        vertical-align: middle;\n",
       "    }\n",
       "\n",
       "    .dataframe tbody tr th {\n",
       "        vertical-align: top;\n",
       "    }\n",
       "\n",
       "    .dataframe thead th {\n",
       "        text-align: right;\n",
       "    }\n",
       "</style>\n",
       "<table border=\"1\" class=\"dataframe\">\n",
       "  <thead>\n",
       "    <tr style=\"text-align: right;\">\n",
       "      <th></th>\n",
       "      <th>Article_ID</th>\n",
       "      <th>year</th>\n",
       "      <th>authors</th>\n",
       "      <th>content_type</th>\n",
       "      <th>title</th>\n",
       "      <th>issue</th>\n",
       "      <th>volume</th>\n",
       "      <th>pages</th>\n",
       "      <th>journal</th>\n",
       "      <th>stable_url</th>\n",
       "      <th>issue_url</th>\n",
       "    </tr>\n",
       "  </thead>\n",
       "  <tbody>\n",
       "  </tbody>\n",
       "</table>\n",
       "</div>"
      ],
      "text/plain": [
       "Empty DataFrame\n",
       "Columns: [Article_ID, year, authors, content_type, title, issue, volume, pages, journal, stable_url, issue_url]\n",
       "Index: []"
      ]
     },
     "execution_count": 9,
     "metadata": {},
     "output_type": "execute_result"
    }
   ],
   "source": [
    "AER_master = pd.read_excel('/Users/MattJohnson/Desktop/Affiliations/2_Extracting affilitations/3_consolidation/AER/AER_Merged.xlsx')\n",
    "\n",
    "AER_master_shrunk  = AER_master[['Article_ID','Screened','year_master']]\n",
    "\n",
    "mask_screened = AER_master_shrunk['Screened'].isin(['y'])\n",
    "AER_master_shrunk_screened = AER_master_shrunk[~mask_screened]\n",
    "\n",
    "print(AER_master_shrunk.shape)\n",
    "print(AER_master_shrunk_screened.shape)\n",
    "\n",
    "AER_master_condenced_blank.head()"
   ]
  },
  {
   "cell_type": "code",
   "execution_count": 11,
   "metadata": {},
   "outputs": [],
   "source": [
    "# Excel output to get an overview of the data\n",
    "AER_master_shrunk_screened.head\n",
    "AER_master_shrunk_screened.to_excel('/Users/MattJohnson/Desktop/Affiliations/2_Extracting affilitations/3_consolidation/AER/AER_MTurk.xlsx') "
   ]
  },
  {
   "cell_type": "code",
   "execution_count": 14,
   "metadata": {},
   "outputs": [
    {
     "name": "stdout",
     "output_type": "stream",
     "text": [
      "(2890, 4)\n",
      "(160, 4)\n"
     ]
    }
   ],
   "source": [
    "QJE = pd.read_excel('/Users/MattJohnson/Desktop/Affiliations/2_Extracting affilitations/3_consolidation/AER/QJE_Final.xlsx')\n",
    "\n",
    "QJE_shrunk  = QJE[['Article_ID','0_author_affs_consolidated_0','year_master','Journal_Name']]\n",
    "\n",
    "mask_screened = QJE_shrunk['0_author_affs_consolidated_0'].isna()\n",
    "QJE_shrunk_screened = QJE_shrunk[mask_screened]\n",
    "\n",
    "print(QJE_shrunk.shape)\n",
    "print(QJE_shrunk_screened.shape)"
   ]
  },
  {
   "cell_type": "code",
   "execution_count": 15,
   "metadata": {},
   "outputs": [],
   "source": [
    "# Excel output to get an overview of the data\n",
    "QJE_shrunk_screened.head\n",
    "QJE_shrunk_screened.to_excel('/Users/MattJohnson/Desktop/Affiliations/2_Extracting affilitations/3_consolidation/AER/QJE_MTurk.xlsx') "
   ]
  }
 ],
 "metadata": {
  "kernelspec": {
   "display_name": "Python 3",
   "language": "python",
   "name": "python3"
  },
  "language_info": {
   "codemirror_mode": {
    "name": "ipython",
    "version": 3
   },
   "file_extension": ".py",
   "mimetype": "text/x-python",
   "name": "python",
   "nbconvert_exporter": "python",
   "pygments_lexer": "ipython3",
   "version": "3.9.6"
  }
 },
 "nbformat": 4,
 "nbformat_minor": 2
}
