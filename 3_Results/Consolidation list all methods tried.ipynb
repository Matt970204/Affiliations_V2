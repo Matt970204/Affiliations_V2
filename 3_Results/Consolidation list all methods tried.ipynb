{
 "cells": [
  {
   "cell_type": "code",
   "execution_count": 86,
   "metadata": {},
   "outputs": [
    {
     "name": "stdout",
     "output_type": "stream",
     "text": [
      "(138, 2)\n",
      "(231, 2)\n",
      "(979, 2)\n",
      "(957, 3)\n"
     ]
    }
   ],
   "source": [
    "# Creating a dictionary for consolidation\n",
    "# Read in from Excel sheet, 2 columns first one with incorrect spelling and second one with correct spellig\n",
    "import pandas as pd\n",
    "\n",
    "cities = pd.read_excel('/Users/MattJohnson/Library/CloudStorage/OneDrive-UniversityofCapeTown/Masters_thesis/Data checks/consolidated list Final Use.xlsx', 'Cities')\n",
    "cities = cities[['Incorrect spelling', 'Correct spelling']]\n",
    "print(cities.shape)\n",
    "\n",
    "comma_in_name = pd.read_excel('/Users/MattJohnson/Library/CloudStorage/OneDrive-UniversityofCapeTown/Masters_thesis/Data checks/consolidated list Final Use.xlsx', 'Comma in name')\n",
    "comma_in_name = comma_in_name[['Incorrect spelling', 'Correct spelling']]\n",
    "print(comma_in_name.shape)\n",
    "\n",
    "misspellings = pd.read_excel('/Users/MattJohnson/Library/CloudStorage/OneDrive-UniversityofCapeTown/Masters_thesis/Data checks/consolidated list Final Use.xlsx', 'Misspellings')\n",
    "misspellings = misspellings[['Incorrect spelling', 'Correct spelling']]\n",
    "\n",
    "colleges = pd.read_excel('/Users/MattJohnson/Library/CloudStorage/OneDrive-UniversityofCapeTown/Masters_thesis/Data checks/consolidated list Final Use.xlsx', 'Colleges')\n",
    "colleges = colleges[['Incorrect spelling', 'Correct spelling']]\n",
    "\n",
    "colleges_full = pd.read_excel('/Users/MattJohnson/Library/CloudStorage/OneDrive-UniversityofCapeTown/Masters_thesis/Data checks/consolidated list Final Use.xlsx', 'Colleges Full')\n",
    "colleges_full = colleges_full[['Incorrect spelling', 'Correct spelling']]\n",
    "\n",
    "#Remove cities\n",
    "frames = [cities, misspellings, comma_in_name,colleges_full ,colleges]\n",
    "first_consolidation = pd.concat(frames)\n",
    "print(first_consolidation.shape)\n",
    "\n",
    "for i in range(len(first_consolidation)):\n",
    "    first_consolidation.iloc[i]['Incorrect spelling'] = first_consolidation.iloc[i]['Incorrect spelling'].strip()\n",
    "    first_consolidation.iloc[i]['Correct spelling'] = first_consolidation.iloc[i]['Correct spelling'].strip().title()\n",
    "\n",
    "first_consolidation = first_consolidation.rename(columns = {'Incorrect spelling': 'Original_Affiliation_Spelling','Correct spelling':'Affiliation_Consolidated'})\n",
    "first_consolidation['Type'] = 'First round consolidation'\n",
    "#print(first_consolidation.head())\n",
    "\n",
    "\n",
    "first_consolidation = first_consolidation.sort_values(by = 'Affiliation_Consolidated')\n",
    "#first_consolidation['duplicate'] = first_consolidation.duplicated(['Original_Affiliation_Spelling','Affiliation_Consolidated'],keep=False)\n",
    "first_consolidation = first_consolidation.drop_duplicates(['Original_Affiliation_Spelling','Affiliation_Consolidated'], keep='first')\n",
    "print(first_consolidation.shape)"
   ]
  },
  {
   "cell_type": "code",
   "execution_count": 70,
   "metadata": {},
   "outputs": [
    {
     "name": "stdout",
     "output_type": "stream",
     "text": [
      "                       Original_Affiliation_Spelling  \\\n",
      "0                                 Àarhus Universitet   \n",
      "1                               University Of Aarhus   \n",
      "2                                University Of Arhus   \n",
      "3         Institut Fur Okonometrie Und Systemtheorie   \n",
      "4  Academia Sinica, Institute Of Social Sciences,...   \n",
      "\n",
      "                      Affiliation_Consolidated                       Type  \n",
      "0                            Aarhus University  Final round consolidation  \n",
      "1                            Aarhus University  Final round consolidation  \n",
      "2                            Aarhus University  Final round consolidation  \n",
      "3  Abteilung Für Ökonometrie Und Systemtheorie  Final round consolidation  \n",
      "4                              Academia Sinica  Final round consolidation  \n"
     ]
    }
   ],
   "source": [
    "Final_Consolidate = pd.read_excel('/Users/MattJohnson/Library/CloudStorage/OneDrive-UniversityofCapeTown/Masters_thesis/Data checks/consolidated list Final Use.xlsx', 'Final Consolidate')\n",
    "Final_Consolidate = Final_Consolidate[['Incorrect spelling', 'Correct spelling']]\n",
    "\n",
    "for i in range(len(Final_Consolidate)):\n",
    "    Final_Consolidate.iloc[i]['Incorrect spelling'] = Final_Consolidate.iloc[i]['Incorrect spelling'].strip()\n",
    "    Final_Consolidate.iloc[i]['Correct spelling'] = Final_Consolidate.iloc[i]['Correct spelling'].strip().title()\n",
    "\n",
    "Final_Consolidate = Final_Consolidate.rename(columns = {'Incorrect spelling': 'Original_Affiliation_Spelling','Correct spelling':'Affiliation_Consolidated'})\n",
    "\n",
    "Final_Consolidate.shape\n",
    "Final_Consolidate['Type'] = 'Final round consolidation'\n",
    "print(Final_Consolidate.head())"
   ]
  },
  {
   "cell_type": "code",
   "execution_count": 63,
   "metadata": {},
   "outputs": [
    {
     "name": "stdout",
     "output_type": "stream",
     "text": [
      "Affiliation       2035\n",
      "aff_cum_counts    2035\n",
      "dtype: int64\n",
      "           Original_Affiliation_Spelling  \\\n",
      "0                  A B Laffer Associates   \n",
      "1    Aalto University School Of Business   \n",
      "2                  Aarhus Denmark (City)   \n",
      "3                      Aarhus University   \n",
      "4  Abdul Latif Jameel Poverty Action Lab   \n",
      "\n",
      "                Affiliation_Consolidated    Type  \n",
      "0                  A B Laffer Associates  Unique  \n",
      "1    Aalto University School Of Business  Unique  \n",
      "2                  Aarhus Denmark (City)  Unique  \n",
      "3                      Aarhus University  Unique  \n",
      "4  Abdul Latif Jameel Poverty Action Lab  Unique  \n",
      "Original_Affiliation_Spelling    2035\n",
      "Affiliation_Consolidated         2035\n",
      "Type                             2035\n",
      "dtype: int64\n"
     ]
    }
   ],
   "source": [
    "unique = pd.read_excel('/Users/MattJohnson/Desktop/Affiliations/2_Extracting affilitations/3_consolidation/Uniques/uniquev2.xlsx','unique2')\n",
    "unique = unique[['Affiliation','aff_cum_counts']]\n",
    "#unique.rename({'Affiliation':'Affiliation_Consolidated'}, inplace= True)\n",
    "unique.head()\n",
    "print(unique.notna().sum())\n",
    "\n",
    "unique_correct_consol = pd.DataFrame(columns = ['Original_Affiliation_Spelling' , 'Affiliation_Consolidated', 'Type'] )\n",
    "#unique_correct_consol['Affiliation'] = unique['Affiliation']\n",
    "unique_correct_consol['Affiliation_Consolidated'] = unique['Affiliation']\n",
    "unique_correct_consol['Original_Affiliation_Spelling'] = unique['Affiliation']\n",
    "unique_correct_consol['Type'] = 'Unique'\n",
    "#unique_correct_consol['Original_Affiliation_Spelling'] = (unique_correct_consol['Affiliation']).where(unique_correct_consol['Original_Affiliation_Spelling'].isna(), unique_correct_consol['Original_Affiliation_Spelling'])\n",
    "#unique_correct_consol['Affiliation_Consolidated'] = (unique_correct_consol['Affiliation']).where(unique_correct_consol['Affiliation_Consolidated'].isna(), unique_correct_consol['Affiliation_Consolidated'])\n",
    "\n",
    "print(unique_correct_consol.head())\n",
    "print(unique_correct_consol.notna().sum())"
   ]
  },
  {
   "cell_type": "code",
   "execution_count": 87,
   "metadata": {},
   "outputs": [
    {
     "name": "stdout",
     "output_type": "stream",
     "text": [
      "(3869, 3)\n",
      "(4826, 3)\n",
      "(4727, 3)\n"
     ]
    }
   ],
   "source": [
    "#Remove cities\n",
    "Frames = [Final_Consolidate, unique_correct_consol]\n",
    "Unique_FinalConsolidate = pd.concat(Frames)\n",
    "print(Unique_FinalConsolidate.shape)\n",
    "\n",
    "Frames = [Final_Consolidate, unique_correct_consol, first_consolidation]\n",
    "Unique_FinalConsolidate = pd.concat(Frames)\n",
    "print(Unique_FinalConsolidate.shape)\n",
    "\n",
    "Unique_FinalConsolidate = Unique_FinalConsolidate.sort_values(by = 'Affiliation_Consolidated')\n",
    "#Unique_FinalConsolidate['duplicate'] = Unique_FinalConsolidate.duplicated(keep=False)\n",
    "Unique_FinalConsolidate = Unique_FinalConsolidate.drop_duplicates(['Original_Affiliation_Spelling','Affiliation_Consolidated'], keep='first')\n",
    "print(Unique_FinalConsolidate.shape)"
   ]
  },
  {
   "cell_type": "code",
   "execution_count": 92,
   "metadata": {},
   "outputs": [
    {
     "data": {
      "text/plain": [
       "0       False\n",
       "1       False\n",
       "2       False\n",
       "0       False\n",
       "1       False\n",
       "        ...  \n",
       "309     False\n",
       "308     False\n",
       "307     False\n",
       "312     False\n",
       "2034    False\n",
       "Length: 4727, dtype: bool"
      ]
     },
     "execution_count": 92,
     "metadata": {},
     "output_type": "execute_result"
    }
   ],
   "source": [
    "Unique_FinalConsolidate['Affiliation_Consolidated'].isin(Unique_FinalConsolidate['Original_Affiliation_Spelling']) & (Unique_FinalConsolidate['Type'] == 'First round consolidation')\n",
    "\n"
   ]
  },
  {
   "cell_type": "code",
   "execution_count": 59,
   "metadata": {},
   "outputs": [
    {
     "name": "stdout",
     "output_type": "stream",
     "text": [
      "                           Affiliation  aff_cum_counts  \\\n",
      "0                A B Laffer Associates               1   \n",
      "1  Aalto University School Of Business               1   \n",
      "2                Aarhus Denmark (City)               1   \n",
      "3                    Aarhus University              16   \n",
      "4                    Aarhus University              16   \n",
      "\n",
      "  Original_Affiliation_Spelling Affiliation_Consolidated  \n",
      "0                           NaN                      NaN  \n",
      "1                           NaN                      NaN  \n",
      "2                           NaN                      NaN  \n",
      "3            Àarhus Universitet        Aarhus University  \n",
      "4          University Of Aarhus        Aarhus University  \n"
     ]
    },
    {
     "data": {
      "text/plain": [
       "Affiliation                      3028\n",
       "aff_cum_counts                   3028\n",
       "Original_Affiliation_Spelling    1747\n",
       "Affiliation_Consolidated         1747\n",
       "dtype: int64"
      ]
     },
     "execution_count": 59,
     "metadata": {},
     "output_type": "execute_result"
    }
   ],
   "source": [
    "#Merge on the consolidation\n",
    "Full = unique.merge(Final_Consolidate, left_on = 'Affiliation', right_on= 'Affiliation_Consolidated' , how= 'left')\n",
    "\n",
    "Full_uniques_original = unique.merge(Final_Consolidate, left_on = 'Affiliation', right_on= 'Affiliation_Consolidated' , how= 'left')\n",
    "print(Full.head())\n",
    "Full.notna().sum()"
   ]
  },
  {
   "cell_type": "code",
   "execution_count": 47,
   "metadata": {},
   "outputs": [
    {
     "name": "stdout",
     "output_type": "stream",
     "text": [
      "                           Affiliation  aff_cum_counts  \\\n",
      "0                A B Laffer Associates               1   \n",
      "1  Aalto University School Of Business               1   \n",
      "2                Aarhus Denmark (City)               1   \n",
      "3                    Aarhus University              16   \n",
      "4                    Aarhus University              16   \n",
      "\n",
      "         Original_Affiliation_Spelling             Affiliation_Consolidated  \n",
      "0                A B Laffer Associates                A B Laffer Associates  \n",
      "1  Aalto University School Of Business  Aalto University School Of Business  \n",
      "2                Aarhus Denmark (City)                Aarhus Denmark (City)  \n",
      "3                   Àarhus Universitet                    Aarhus University  \n",
      "4                 University Of Aarhus                    Aarhus University  \n",
      "Affiliation                      3028\n",
      "aff_cum_counts                   3028\n",
      "Original_Affiliation_Spelling    3028\n",
      "Affiliation_Consolidated         3028\n",
      "dtype: int64\n"
     ]
    }
   ],
   "source": [
    "Full['Original_Affiliation_Spelling'] = (Full['Affiliation']).where(Full['Original_Affiliation_Spelling'].isna(), Full['Original_Affiliation_Spelling'])\n",
    "Full['Affiliation_Consolidated'] = (Full['Affiliation']).where(Full['Affiliation_Consolidated'].isna(), Full['Affiliation_Consolidated'])\n",
    "\n",
    "print(Full.head())\n",
    "print(Full.notna().sum())"
   ]
  },
  {
   "cell_type": "code",
   "execution_count": 48,
   "metadata": {},
   "outputs": [],
   "source": [
    "Full = Full.sort_values(by=['Affiliation_Consolidated'])"
   ]
  },
  {
   "cell_type": "code",
   "execution_count": 49,
   "metadata": {},
   "outputs": [
    {
     "name": "stdout",
     "output_type": "stream",
     "text": [
      "                           Affiliation  aff_cum_counts  \\\n",
      "0                A B Laffer Associates               1   \n",
      "1  Aalto University School Of Business               1   \n",
      "2                Aarhus Denmark (City)               1   \n",
      "3                    Aarhus University              16   \n",
      "4                    Aarhus University              16   \n",
      "\n",
      "         Original_Affiliation_Spelling             Affiliation_Consolidated  \\\n",
      "0                A B Laffer Associates                A B Laffer Associates   \n",
      "1  Aalto University School Of Business  Aalto University School Of Business   \n",
      "2                Aarhus Denmark (City)                Aarhus Denmark (City)   \n",
      "3                   Àarhus Universitet                    Aarhus University   \n",
      "4                 University Of Aarhus                    Aarhus University   \n",
      "\n",
      "  Incorrect spelling Correct spelling  \n",
      "0                NaN              NaN  \n",
      "1                NaN              NaN  \n",
      "2                NaN              NaN  \n",
      "3                NaN              NaN  \n",
      "4                NaN              NaN  \n"
     ]
    },
    {
     "data": {
      "text/plain": [
       "Affiliation                      3247\n",
       "aff_cum_counts                   3247\n",
       "Original_Affiliation_Spelling    3247\n",
       "Affiliation_Consolidated         3247\n",
       "Incorrect spelling                324\n",
       "Correct spelling                  324\n",
       "dtype: int64"
      ]
     },
     "execution_count": 49,
     "metadata": {},
     "output_type": "execute_result"
    }
   ],
   "source": [
    "Full_with_first = Full.merge(first_consolidation, left_on = 'Affiliation', right_on= 'Correct spelling' , how= 'left')\n",
    "print(Full_with_first.head())\n",
    "Full_with_first.notna().sum()\n",
    "Full_with_first = Full_with_first.drop_duplicates()\n",
    "Full_with_first.notna().sum()"
   ]
  },
  {
   "cell_type": "code",
   "execution_count": 88,
   "metadata": {},
   "outputs": [],
   "source": [
    "# create a excel writer object\n",
    "with pd.ExcelWriter('/Users/MattJohnson/Desktop/Affiliations/2_Extracting affilitations/3_consolidation/Uniques/Full consolidation list.xlsx') as writer:\n",
    "    # use to_excel function and specify the sheet_name and index \n",
    "    # to store the dataframe in specified sheet\n",
    "    Full_with_first.to_excel(writer, sheet_name=\"Full_with_first\", index=False)\n",
    "    Full.to_excel(writer, sheet_name=\"Full list\", index=False)\n",
    "    Full_uniques_original.to_excel(writer, sheet_name=\"Full_uniques_original\", index=False)\n",
    "    Unique_FinalConsolidate.to_excel(writer, sheet_name=\"Unique_FinalConsolidate\", index=False)\n",
    "    first_consolidation.to_excel(writer, sheet_name=\"first_consolidation\", index=False)"
   ]
  }
 ],
 "metadata": {
  "kernelspec": {
   "display_name": "Python 3",
   "language": "python",
   "name": "python3"
  },
  "language_info": {
   "codemirror_mode": {
    "name": "ipython",
    "version": 3
   },
   "file_extension": ".py",
   "mimetype": "text/x-python",
   "name": "python",
   "nbconvert_exporter": "python",
   "pygments_lexer": "ipython3",
   "version": "3.9.6"
  }
 },
 "nbformat": 4,
 "nbformat_minor": 2
}
