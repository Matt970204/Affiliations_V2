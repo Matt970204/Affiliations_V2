{
 "cells": [
  {
   "cell_type": "code",
   "execution_count": 42,
   "metadata": {},
   "outputs": [
    {
     "name": "stdout",
     "output_type": "stream",
     "text": [
      "(22790, 41)\n"
     ]
    }
   ],
   "source": [
    "import pandas as pd\n",
    "JPE = pd.read_excel('/Users/MattJohnson/Desktop/Affiliations/2_Extracting affilitations/3_consolidation/merged_all_scopus.xlsx') \n",
    "print(JPE.shape)\n"
   ]
  },
  {
   "cell_type": "code",
   "execution_count": 43,
   "metadata": {},
   "outputs": [],
   "source": [
    "#AER\n",
    "\n",
    "JPE.rename(columns={\"authors_master\": \"authors\"}, inplace= True)\n",
    "JPE.rename(columns={\"year_master\": \"year\"}, inplace= True)\n",
    "JPE = JPE[['Journal_Name' ,'Authors_count', 'Authors_list', 'authors', 'Article_ID', 'content_type',\n",
    "'stable_url', 'year', 'Ref_type' ,\n",
    "'ref_string', 'ref_string_clean1', 'Screened', 'Manual',\n",
    "'0_Auth_affs_0', '0_Auth_affs_1', '0_Auth_affs_2', '0_Auth_affs_3', '0_Auth_affs_4', \n",
    "'1_Auth_affs_0' , '1_Auth_affs_1', '1_Auth_affs_2', '1_Auth_affs_3', '1_Auth_affs_4',\n",
    "'2_Auth_affs_0', '2_Auth_affs_1', '2_Auth_affs_2', '2_Auth_affs_3', '2_Auth_affs_4',\n",
    "'3_Auth_affs_0', '3_Auth_affs_1', '3_Auth_affs_2', '3_Auth_affs_3', '3_Auth_affs_4',\n",
    "'4_Auth_affs_0', '4_Auth_affs_1', '4_Auth_affs_2' , '4_Auth_affs_3',\n",
    "'5_Auth_affs_0',\n",
    "'6_Auth_affs_0','7_Auth_affs_0']]"
   ]
  },
  {
   "cell_type": "code",
   "execution_count": 44,
   "metadata": {},
   "outputs": [
    {
     "name": "stdout",
     "output_type": "stream",
     "text": [
      "       Article_ID  year     Aff number  \\\n",
      "0         2967475  1940  0_Auth_affs_0   \n",
      "18582     1807581  1940  0_Auth_affs_0   \n",
      "18581     1807580  1940  0_Auth_affs_0   \n",
      "18580     1807579  1940  0_Auth_affs_0   \n",
      "18579     1807578  1940  0_Auth_affs_0   \n",
      "\n",
      "                                        Affiliation  \n",
      "0      Cambridge Massachusetts United States (City)  \n",
      "18582                                Queens College  \n",
      "18581                       University Of Wisconsin  \n",
      "18580                  University Of North Carolina  \n",
      "18579                         Brookings Institution  \n",
      "(37906, 4)\n"
     ]
    }
   ],
   "source": [
    "melted = JPE.melt(id_vars= ['Article_ID','year'], value_vars=['0_Auth_affs_0', '0_Auth_affs_1', '0_Auth_affs_2', '0_Auth_affs_3', '0_Auth_affs_4', \n",
    "                                '1_Auth_affs_0' , '1_Auth_affs_1', '1_Auth_affs_2', '1_Auth_affs_3', '1_Auth_affs_4',\n",
    "                                '2_Auth_affs_0', '2_Auth_affs_1', '2_Auth_affs_2', '2_Auth_affs_3', '2_Auth_affs_4',\n",
    "                                '3_Auth_affs_0', '3_Auth_affs_1', '3_Auth_affs_2', '3_Auth_affs_3', '3_Auth_affs_4',\n",
    "                                '4_Auth_affs_0', '4_Auth_affs_1', '4_Auth_affs_2' , '4_Auth_affs_3',\n",
    "                                '5_Auth_affs_0',\n",
    "                                '6_Auth_affs_0','7_Auth_affs_0']).dropna()\n",
    "\n",
    "melted.rename(columns = {'variable':'Aff number'}, inplace = True)\n",
    "melted.rename(columns = {'value':'Affiliation'}, inplace = True)\n",
    "\n",
    "melted = melted.sort_values(by=['year'])\n",
    "\n",
    "print(melted.head())\n",
    "print(melted.shape)"
   ]
  },
  {
   "cell_type": "code",
   "execution_count": 45,
   "metadata": {},
   "outputs": [
    {
     "name": "stdout",
     "output_type": "stream",
     "text": [
      "37906\n",
      "3394\n"
     ]
    }
   ],
   "source": [
    "melted = melted.sort_values('Affiliation').reset_index(drop=True)\n",
    "for i in range(len(melted)):\n",
    "    melted.loc[i,'Affiliation']  = melted.loc[i]['Affiliation'].strip().rstrip(',').title()\n",
    "\n",
    "melted['aff_cum_counts'] = melted.groupby(['Affiliation']).cumcount()+1\n",
    "\n",
    "melted = melted[['Affiliation', 'aff_cum_counts']]\n",
    "melted.head()\n",
    "print(len(melted))\n",
    "\n",
    "melted = melted.drop_duplicates(subset=['Affiliation'], keep = 'last')\n",
    "print(len(melted))\n",
    "\n",
    "melted.to_excel('/Users/MattJohnson/Desktop/Affiliations/2_Extracting affilitations/3_consolidation/Uniques/melted.xlsx') "
   ]
  },
  {
   "cell_type": "code",
   "execution_count": 46,
   "metadata": {},
   "outputs": [
    {
     "data": {
      "text/html": [
       "<div>\n",
       "<style scoped>\n",
       "    .dataframe tbody tr th:only-of-type {\n",
       "        vertical-align: middle;\n",
       "    }\n",
       "\n",
       "    .dataframe tbody tr th {\n",
       "        vertical-align: top;\n",
       "    }\n",
       "\n",
       "    .dataframe thead th {\n",
       "        text-align: right;\n",
       "    }\n",
       "</style>\n",
       "<table border=\"1\" class=\"dataframe\">\n",
       "  <thead>\n",
       "    <tr style=\"text-align: right;\">\n",
       "      <th></th>\n",
       "      <th>Affiliation</th>\n",
       "      <th>aff_cum_counts</th>\n",
       "    </tr>\n",
       "  </thead>\n",
       "  <tbody>\n",
       "    <tr>\n",
       "      <th>0</th>\n",
       "      <td>Brimmer &amp; Co., Inc. Washington</td>\n",
       "      <td>1</td>\n",
       "    </tr>\n",
       "    <tr>\n",
       "      <th>2</th>\n",
       "      <td>Dee-Upf</td>\n",
       "      <td>1</td>\n",
       "    </tr>\n",
       "    <tr>\n",
       "      <th>3</th>\n",
       "      <td>Indian Parliament, New Delhi</td>\n",
       "      <td>1</td>\n",
       "    </tr>\n",
       "    <tr>\n",
       "      <th>9</th>\n",
       "      <td>Office Of The Undersecretary Of Defense For Pe...</td>\n",
       "      <td>1</td>\n",
       "    </tr>\n",
       "    <tr>\n",
       "      <th>12</th>\n",
       "      <td>Rhodes College</td>\n",
       "      <td>1</td>\n",
       "    </tr>\n",
       "  </tbody>\n",
       "</table>\n",
       "</div>"
      ],
      "text/plain": [
       "                                          Affiliation  aff_cum_counts\n",
       "0                      Brimmer & Co., Inc. Washington               1\n",
       "2                                             Dee-Upf               1\n",
       "3                        Indian Parliament, New Delhi               1\n",
       "9   Office Of The Undersecretary Of Defense For Pe...               1\n",
       "12                                     Rhodes College               1"
      ]
     },
     "execution_count": 46,
     "metadata": {},
     "output_type": "execute_result"
    }
   ],
   "source": [
    "melted.head()"
   ]
  },
  {
   "cell_type": "code",
   "execution_count": 47,
   "metadata": {},
   "outputs": [],
   "source": [
    "#melt_unique = pd.DataFrame(melted.Affiliation)\n",
    "melt_unique = melted.copy()\n",
    "melt_unique = melt_unique.sort_values('Affiliation').reset_index(drop=True)\n",
    "#melt_unique.columns = ['Affiliation']\n",
    "melt_unique[\"Affiliation_corrected\"] = \"\"\n",
    "\n",
    "    #print('correct    ',melt_unique.loc[i,'Affiliation'],i)\n"
   ]
  },
  {
   "cell_type": "code",
   "execution_count": 48,
   "metadata": {},
   "outputs": [
    {
     "name": "stdout",
     "output_type": "stream",
     "text": [
      "Trust\n"
     ]
    }
   ],
   "source": [
    "test = ' TRUST, '\n",
    "print(test.strip().rstrip(',').title())"
   ]
  },
  {
   "cell_type": "code",
   "execution_count": 49,
   "metadata": {},
   "outputs": [
    {
     "name": "stdout",
     "output_type": "stream",
     "text": [
      "                             Affiliation  aff_cum_counts Affiliation_corrected\n",
      "0     (On Leave From) Harvard University               1                      \n",
      "1                  A B Laffer Associates               1                      \n",
      "2    Aalto University School Of Business               1                      \n",
      "3                  Aarhus Denmark (City)               1                      \n",
      "4  Abdul Latif Jameel Poverty Action Lab               1                      \n",
      "(3394, 3)\n"
     ]
    }
   ],
   "source": [
    "melt_unique = melt_unique.sort_values('Affiliation').reset_index(drop=True)\n",
    "print(melt_unique.head())\n",
    "print(melt_unique.shape)"
   ]
  },
  {
   "cell_type": "code",
   "execution_count": 50,
   "metadata": {},
   "outputs": [
    {
     "name": "stdout",
     "output_type": "stream",
     "text": [
      "3394\n",
      "(3394, 3)\n",
      "3394\n",
      "3394\n"
     ]
    },
    {
     "data": {
      "text/html": [
       "<div>\n",
       "<style scoped>\n",
       "    .dataframe tbody tr th:only-of-type {\n",
       "        vertical-align: middle;\n",
       "    }\n",
       "\n",
       "    .dataframe tbody tr th {\n",
       "        vertical-align: top;\n",
       "    }\n",
       "\n",
       "    .dataframe thead th {\n",
       "        text-align: right;\n",
       "    }\n",
       "</style>\n",
       "<table border=\"1\" class=\"dataframe\">\n",
       "  <thead>\n",
       "    <tr style=\"text-align: right;\">\n",
       "      <th></th>\n",
       "      <th>Affiliation</th>\n",
       "      <th>aff_cum_counts</th>\n",
       "    </tr>\n",
       "  </thead>\n",
       "  <tbody>\n",
       "    <tr>\n",
       "      <th>0</th>\n",
       "      <td>(On Leave From) Harvard University</td>\n",
       "      <td>1</td>\n",
       "    </tr>\n",
       "    <tr>\n",
       "      <th>1</th>\n",
       "      <td>A B Laffer Associates</td>\n",
       "      <td>1</td>\n",
       "    </tr>\n",
       "    <tr>\n",
       "      <th>2</th>\n",
       "      <td>Aalto University School Of Business</td>\n",
       "      <td>1</td>\n",
       "    </tr>\n",
       "    <tr>\n",
       "      <th>3</th>\n",
       "      <td>Aarhus Denmark (City)</td>\n",
       "      <td>1</td>\n",
       "    </tr>\n",
       "    <tr>\n",
       "      <th>4</th>\n",
       "      <td>Abdul Latif Jameel Poverty Action Lab</td>\n",
       "      <td>1</td>\n",
       "    </tr>\n",
       "  </tbody>\n",
       "</table>\n",
       "</div>"
      ],
      "text/plain": [
       "                             Affiliation  aff_cum_counts\n",
       "0     (On Leave From) Harvard University               1\n",
       "1                  A B Laffer Associates               1\n",
       "2    Aalto University School Of Business               1\n",
       "3                  Aarhus Denmark (City)               1\n",
       "4  Abdul Latif Jameel Poverty Action Lab               1"
      ]
     },
     "execution_count": 50,
     "metadata": {},
     "output_type": "execute_result"
    }
   ],
   "source": [
    "print(len(melt_unique.Affiliation.unique()))\n",
    "print(melt_unique.shape)\n",
    "\n",
    "unique = melted.copy()\n",
    "#unique = pd.DataFrame(melt_unique.Affiliation)\n",
    "#unique.columns = ['Affiliation']\n",
    "\n",
    "#unique2 = pd.DataFrame(unique.Affiliation.unique())\n",
    "print(len(unique.Affiliation.unique()))\n",
    "#unique.drop_duplicates(subset=['Affiliation'], inplace=True)\n",
    "unique = unique.drop_duplicates(subset=['Affiliation'])\n",
    "print(len(unique))\n",
    "\n",
    "unique = unique.sort_values('Affiliation').reset_index(drop=True)\n",
    "unique.to_excel('/Users/MattJohnson/Desktop/Affiliations/2_Extracting affilitations/3_consolidation/Uniques/unique.xlsx') \n",
    "unique.head()\n",
    "#df = pd.dataframe()\n",
    "#df['column_name']=pd.Series(melted.Affiliation.unique())"
   ]
  },
  {
   "cell_type": "code",
   "execution_count": 51,
   "metadata": {},
   "outputs": [
    {
     "name": "stdout",
     "output_type": "stream",
     "text": [
      "                             Affiliation  aff_cum_counts\n",
      "0     (On Leave From) Harvard University               1\n",
      "1                  A B Laffer Associates               1\n",
      "2    Aalto University School Of Business               1\n",
      "3                  Aarhus Denmark (City)               1\n",
      "4  Abdul Latif Jameel Poverty Action Lab               1\n",
      "                             Affiliation  aff_cum_counts\n",
      "0     (On Leave From) Harvard University               1\n",
      "1                  A B Laffer Associates               1\n",
      "2    Aalto University School Of Business               1\n",
      "3                  Aarhus Denmark (City)               1\n",
      "4  Abdul Latif Jameel Poverty Action Lab               1\n",
      "3394\n"
     ]
    }
   ],
   "source": [
    "print(unique.head())\n",
    "unique_df = unique.drop_duplicates(subset=['Affiliation'])\n",
    "print(unique_df.head())\n",
    "print(len(unique_df))"
   ]
  },
  {
   "cell_type": "code",
   "execution_count": 52,
   "metadata": {},
   "outputs": [
    {
     "name": "stdout",
     "output_type": "stream",
     "text": [
      "(1834, 2)\n",
      "{'Àarhus Universitet': 'Aarhus University', 'University Of Aarhus': 'Aarhus University', 'University Of Arhus': 'Aarhus University', 'Institut Fur Okonometrie Und Systemtheorie': 'Abteilung Für Ökonometrie Und Systemtheorie', 'Academia Sinica, Institute Of Social Sciences, Li Chuang, Szechuan, China': 'Academia Sinica', 'Academy Of Sciences, Ussr': 'Academy Of Sciences Of The Soviet Union', 'U.S.S.R. Academy Of Sciences': 'Academy Of Sciences Of The Soviet Union', 'Ussr Academy Of Sciences': 'Academy Of Sciences Of The Soviet Union', 'Computing Center Of Ussr Academy Of Sciences': 'Academy Of Sciences Of The Soviet Union', 'Corresponding Member Of Academy Of Sciences Of Ussr': 'Academy Of Sciences Of The Soviet Union', 'Aerospace Research Laboratories, Wright-Patterson Afb, Ohio': 'Aerospace Research Laboratories', \"L'Agence Interalliée Des Réparations (France)\": 'Agence Interalliée Des Réparations (France)', \"Leqam Université D'Aix-Marseille\": 'Aix-Marseille Université', \"Universite D'Aix Marseille\": 'Aix-Marseille University', \"Universite D'Aix-Marseille Iii\": 'Aix-Marseille University', \"Universite'S Daix-Marseille Ii Et Iii\": 'Aix-Marseille University', \"Université D'Aix-Marseille\": 'Aix-Marseille University', 'Aix-Marseille Université': 'Aix-Marseille University', 'Institut Für Wirtschoftsuissenschaften': 'Albert-Ludwigs-Universität Freiburg', 'Alfred P. Sloan Foundation': 'Alfred P Sloan Foundation', 'Sloan Foundation': 'Alfred P Sloan Foundation', 'American Bar': 'American Bar Foundation', 'American Economic Asociation': 'American Economic Association', 'American Economics Association': 'American Economic Association', 'Analysis Group, Inc., San Francisco': 'Analysis Group, Inc', 'Aovama Gakuin University': 'Aoyama Gakuin University', 'Arthur D. Little': 'Arthur D. Little, Inc.', 'University Of Aston': 'Aston University', 'At&T Co': 'At&T', 'Athens School Of Economics': 'Athens University Of Economics And Business', 'Athens School Of Economics And Business': 'Athens University Of Economics And Business', 'Athens School Of Economics And Business Science': 'Athens University Of Economics And Business', 'Athens University': 'Athens University Of Economics And Business', 'Athens University Of Economics': 'Athens University Of Economics And Business', 'Audits Of Great Britain, Ltd': 'Audits Of Great Britain', 'The Australian National University': 'Australian National University', 'Austrian Institute For Economic Research': 'Austrian Institute Of Economic Research', 'Österreichisches Institut Für Wirtschaftsforschung': 'Austrian Institute Of Economic Research', 'Üsterreichisches Institut Für Wirtschaftsforschung': 'Austrian Institute Of Economic Research', 'Universidad Autonoma De Barcelona': 'Autonomous University Of\\xa0Barcelona', 'Universidad Autónoma De Barcelona': 'Autonomous University Of\\xa0Barcelona', 'Universitat Autonòma De Barcelona': 'Autonomous University Of\\xa0Barcelona', 'Universidad Aut6Noma De Madrid': 'Autonomous University Of\\xa0Madrid', 'Universidad Autonoma De Madrid': 'Autonomous University Of\\xa0Madrid', 'Babson Institute': 'Babson College', 'Baltimore Maryland United States (City)': 'Baltimore Maryland (City)', 'Banca Ditalia': \"Banca D'Italia\", 'Banco Cental De Chile': 'Banco Central De Chile', 'Bank For International Settlements': 'Bank For International Settlements, Basle', 'Bank Of Isreal': 'Bank Of Israel', 'Export-Import Bank Of Japan': 'Bank Of Japan', 'Banque De France-Dge-Deer': 'Banque De France', 'Bar-Iian University': 'Bar-Iian University', 'Bar-Ilan University': 'Bar-Iian University', 'Bar-Illan University': 'Bar-Iian University', 'Dept. Of Computer Science, Bar-Ilan University': 'Bar-Iian University', 'Bar Ilan University': 'Bar-Iian University', 'Jerome Levy Economics Institute': 'Bard College', 'Levy Economics': 'Bard College', 'Baruch Coll, City Univ, New York, Ny': 'Baruch College City University Of New York', 'Baruch College': 'Baruch College City University Of New York', 'Bell Communications Research': 'Bell Laboratories', 'Bell Telephone Laboratories': 'Bell Laboratories', 'Bell Telephone Laboratories, Inc.': 'Bell Laboratories', 'Bell Communications Research Inc.': 'Bell Laboratories', 'Bell Communications Research Inc': 'Bell Laboratories', 'Bell Communications': 'Bell Laboratories', 'At&T Bell Laboratories': 'Bell Laboratories', 'Ben Gurion University': 'Ben Gurion University Of The Negev', 'Ben-Gurion University': 'Ben Gurion University Of The Negev', 'University Of Negev, Israel': 'Ben Gurion University Of The Negev', 'Berkeley, California': 'Berkeley California United States (City)', 'Berkeley (City)': 'Berkeley California United States (City)', 'Universitat Bielefeld': 'Bielefeld University', 'Birmingham United Kingdom(City)': 'Birmingham United Kingdom (City)', 'Board Of Govenors Of The Federal Reserve System': 'Board Of Governors Of The Federal Reserve System', 'Board Of Governors Of Federal Reserve': 'Board Of Governors Of The Federal Reserve System', 'Board Of Governors Of Federal Reserve System': 'Board Of Governors Of The Federal Reserve System', 'Board Of Governors Of Federal Reserve Systems': 'Board Of Governors Of The Federal Reserve System', 'Board Of Governors Of The Federal Reserve': 'Board Of Governors Of The Federal Reserve System', 'Board Of Governors Of The Federal Reserve System, Washington, Dc': 'Board Of Governors Of The Federal Reserve System', 'Boards Of Governors Of Federal Reserve System': 'Board Of Governors Of The Federal Reserve System', 'Federal Reserve Board': 'Board Of Governors Of The Federal Reserve System', 'Federal Reserve Board Of Governors': 'Board Of Governors Of The Federal Reserve System', 'Federal Reserve Board, Washington, D.C.': 'Board Of Governors Of The Federal Reserve System', 'Federal Reserve System': 'Board Of Governors Of The Federal Reserve System', 'Division Of Research And Statistics Of The Federal Reserve Board': 'Board Of Governors Of The Federal Reserve System', 'International Section Of The Division Of Research And Statistics Of The Federal Reserve Board': 'Board Of Governors Of The Federal Reserve System', 'Dondena': 'Bocconi University', 'Universita Bocconi': 'Bocconi University', 'Universita Boccon': 'Bocconi University', 'Università Bocconi': 'Bocconi University', 'Università Commerciale L. Bocconi': 'Bocconi University', 'Universitá Bocconi': 'Bocconi University', 'Igier': 'Bocconi University', 'University Bocconi': 'Bocconi University', 'Boston': 'Boston United States (City)', 'Boulevard De Con- Stance': 'Boulevard De Constance', 'Bradeis University': 'Brandeis University', 'Embrapa': 'Brazilian Agricultural Research Corporation', 'Brimmer And Company, Inc.': 'Brimmer And Company', 'Brimmer & Co., Inc. Washington': 'Brimmer And Company', 'Brisbane, Queensland, Australia': 'Brisbane Australia (City)', 'Brookings Institutions': 'Brookings Institution', 'Brooking Institution': 'Brookings Institution', 'Brookings Institugon': 'Brookings Institution', 'Brookings Institute': 'Brookings Institution', 'The Brookings Institute': 'Brookings Institution', 'The Brookings Institution': 'Brookings Institution', 'The Brookings Institution, Washington, Dc': 'Brookings Institution', 'Brooklyn New York (City)': 'Brooklyn New York United States (City)', 'Brown University And Survey Research Cent': 'Brown University', 'Box B. Brown University': 'Brown University', \"Bureau D'Economie Théorique Et Appliquée\": \"Bureau D'Économie Théorique Et Appliquée\", 'Bureau Of The Census': 'Bureau Of Census', 'Universita Di Venezia': \"Ca' Foscari University Of Venice\", 'Università Ca Foscari Di Venezia': \"Ca' Foscari University Of Venice\", 'Università Di Venezia': \"Ca' Foscari University Of Venice\", 'California Institute Of Technology Pasedena': 'California Institute Of Technology', 'Californiia Institute Of Technology': 'California Institute Of Technology', 'Caltech': 'California Institute Of Technology', 'Cali': 'California Institute Of Technology', 'California State Polytechnic College': 'California Polytechnic State University', 'California State University-Hayward': 'California State University At Hayward', 'California State University-Long Beach': 'California State University At Long Beach', 'San Fernando Valley State College': 'California State University, Northridge', 'Energy Research Associates': 'Cambridge Energy Research Associates', 'Cambridge (City)': 'Cambridge Massachusetts United States (City)', 'Cambridge Massachusetts (City)': 'Cambridge Massachusetts United States (City)', 'Cambridge. Massachusetts (City)': 'Cambridge Massachusetts United States (City)', 'Cambridge Uiniversity': 'Cambridge University', 'Canadian Institute For Advanced Research': 'Canadian Institute For Advanced Research (Cifar)', 'Ciar': 'Canadian Institute For Advanced Research (Cifar)', 'Canadian Institute': 'Canadian Institute For Advanced Research (Cifar)', 'Canadian Institute For Advanced Research (Ciar)': 'Canadian Institute For Advanced Research (Cifar)', 'Canadian National Railways, Montreal': 'Canadian National Railways', 'Canational Bureau Of Economic Researchra City': 'Canberra Australia (City)', 'Capital Guidence': 'Capital Guidance', 'Capital Guidance, France': 'Capital Guidance', 'University College Cardiff': 'Cardiff University', 'Carleton College, Minnesota': 'Carleton College', 'Norman Paterson School Of International Affairs': 'Carleton University', 'Cabnegie-Mellon University': 'Carnegie Mellon University', 'Carnegie- Mellon University': 'Carnegie Mellon University', 'Carnegie-Mellon University': 'Carnegie Mellon University', 'Carnegie–Mellon University': 'Carnegie Mellon University', 'Carnigie Mellon University': 'Carnegie Mellon University', 'Carnegie  Mellon University': 'Carnegie Mellon University', 'Carnegie Corporation': 'Carnegie Mellon University', 'Carnegie Endowment For International Peace': 'Carnegie Mellon University', 'Carnegie Institute Of Technology': 'Carnegie Mellon University', 'Epartment Of Social And Decision Sciences, Carnegie-Mellon University': 'Carnegie Mellon University', 'Case Western Reserve': 'Case Western Reserve University', 'Cape Western Reserve University': 'Case Western Reserve University', 'Institució Catalana De Recerca I Estudis Avangats': 'Catalan Institution For Research And Advanced Studies (Icrea)', 'Instituto Catalana De Recerca I Estudis Avangats': 'Catalan Institution For Research And Advanced Studies (Icrea)', 'The Catholic University Of America': 'Catholic University Of America', 'Katho- Lieke Universiteit Leuven': 'Catholic University Of Leuven', 'Katholieke Universiteit Leuven': 'Catholic University Of Leuven', 'Katholieke Universiteit Te Leuven': 'Catholic University Of Leuven', 'Catholic University Of Louvain.': 'Catholic University Of Louvain', 'Université Catholique De Louvain': 'Catholic University Of Louvain', 'Université Catholique De Louvain, Eurequa': 'Catholic University Of Louvain', 'Université Catholique De Louvain, Fnrs, Iza': 'Catholic University Of Louvain', 'University Catholique De Louvain': 'Catholic University Of Louvain', 'Universiti Catholique De Louvain': 'Catholic University Of Louvain', 'Catholic University Of  Louvain': 'Catholic University Of Louvain', 'Universite Catholique De Louvain': 'Catholic University Of Louvain', 'Ermes, Université Catholique De Louvain': 'Catholic University Of Louvain', 'Uniuersite Catholique De Louvain': 'Catholic University Of Louvain', 'Université Catholique': 'Catholic University Of Louvain', 'Center For Economic Reseach And Applications (Cepremap, France), Paris': 'Center For Economic Reseach And Applications (Cepremap, France)', 'Center For Economic Reseach And Applications (Cepremap, France), Paris, France': 'Center For Economic Reseach And Applications (Cepremap, France)', 'Center For Economic Reseach And Applications (Centre For Economic Policy Research (Cepr, England)Emap, France)': 'Center For Economic Reseach And Applications (Cepremap, France)', 'Cfs Center For Financial Studies': 'Center For Financial Studies(Cfs, Germany)', 'Central Economical And Mathematical Institute': 'Central Economic Mathematical Institute (Cemi, Russia)', 'Cemfi, Casado Del Alisal': 'Center For Monetary And Financial Studies (Cemfi, Madrid)', 'Cemfi, Madrid': 'Center For Monetary And Financial Studies (Cemfi, Madrid)', 'Center For Economic Studies-Ifo': 'Center Of Economic Studies (Ces, Germany)', 'Center For Economic Studies—Ifo': 'Center Of Economic Studies (Ces, Germany)', 'Cesifo': 'Center Of Economic Studies (Ces, Germany)', 'Cdc': 'Centers For Disease Control And Prevention', 'Central Bank Of China, Hong Kong': 'Central Bank Of China', 'Cemi, Russian Academy Of Sciences': 'Central Economic Mathematical Institute (Cemi, Russia)', 'Central Planning Bureau (Netherlands)': 'Central Planning Bureau, The Netherlands', 'Central Planning Bureau (The Netherlands)': 'Central Planning Bureau, The Netherlands', 'Central Planning Bureau, The Hague': 'Central Planning Bureau, The Netherlands', 'Centre D Enseignement Et De Recherche En Analyse': \"Centre D'Enseignement Et De Recherche En Analyse\", \"Centre D'Enseignement Et De Recherches En Analyse Socio-\": \"Centre D'Enseignement Et De Recherche En Analyse\", \"Centre D'Etudes Prospectives D'Economie Mathematique Appliques A La Planification\": \"Centre D'Etudes Prospectives D'Economie Mathematique Appliquées A La Planification (Cepremap ,Franse)\", 'Cepremap': \"Centre D'Etudes Prospectives D'Economie Mathematique Appliquées A La Planification (Cepremap ,Franse)\", 'Centre De Recerca En Economia International': 'Centre De Recerca En Economia Internacional (Crei, Barcelona)', 'Centre De Recerca In Economia Internacional': 'Centre De Recerca En Economia Internacional (Crei, Barcelona)', 'Crei': 'Centre De Recerca En Economia Internacional (Crei, Barcelona)', 'Crei, Barcelona': 'Centre De Recerca En Economia Internacional (Crei, Barcelona)', 'Centre De Recherche En Economique Et Statistiques-Institut National De La Statistique Et Des Etudes': 'Centre De Recherche En Économie Et Statistique (Crest, France)', 'Crest': 'Centre De Recherche En Économie Et Statistique (Crest, France)', 'Crest Paris': 'Centre De Recherche En Économie Et Statistique (Crest, France)', 'Crest-Insee': 'Centre De Recherche En Économie Et Statistique (Crest, France)', 'Centre De Recherche En Economie Et Statistique': 'Centre De Recherche En Économie Et Statistique (Crest, France)', 'Ceremade': 'Centre De Recherche En Mathématiques De La Décision (Ceremade, France)', 'Centre De Recherche Et Développement En Economique': 'Centre De Recherche Et Développement En Économie', 'Centre De Recherche Et Développement En Économique': 'Centre De Recherche Et Développement En Économie', 'Centre For Economic And Business Research, Langelinie Alle 17, 2100 Copenha- Gen, Denmark': 'Centre For Economic And Business Research', 'Cefir': 'Centre For Economic And Financial Research (Cefir, Sweden)', 'C.E.P.R.': 'Centre For Economic Policy Research (Cepr, England)', 'Center For Economic Policy Research': 'Centre For Economic Policy Research (Cepr, England)', 'Centre For Ecomomic Policy Research': 'Centre For Economic Policy Research (Cepr, England)', 'Centre For Economic And Policy Research': 'Centre For Economic Policy Research (Cepr, England)', 'Centre For Economic Policy': 'Centre For Economic Policy Research (Cepr, England)', 'Centre For Economic Policy And Research': 'Centre For Economic Policy Research (Cepr, England)', 'Centre For Economics Policy Research': 'Centre For Economic Policy Research (Cepr, England)', 'Cepr': 'Centre For Economic Policy Research (Cepr, England)', 'Centre For Economic': 'Centre For Economic Policy Research (Cepr, England)', 'Research Centre For Economic Policy (Ocfeb)': 'Centre For Economic Policy Research (Cepr, England)', 'Centre For Economic Policy Research': 'Centre For Economic Policy Research (Cepr, England)', 'Cemmap': 'Centre For Microdata Methods And Practice (Cemmap, England)', 'Centre For Operations Research And Econometrics': 'Centre For Operations Research And Econometrics (Core, France)', 'C.O.R.E.': 'Centre For Operations Research And Econometrics (Core, France)', 'core': 'Centre For Operations Research And Econometrics (Core, France)', 'Centre Interuniversitaire De Recherche En Analyse Des Organisations': 'Centre Interuniversitaire De Recherche En Analyse Des Organisations (Cirano, Canada)', 'Centre Interuniversitaire De Recherche En Economie Quantitative, Universite De Montreal': 'Centre Interuniversitaire De Recherche En Economie Quantitative ( Cireq, Canada)', 'Cireq': 'Centre Interuniversitaire De Recherche En Economie Quantitative ( Cireq, Canada)', 'Collage Of William And Mary': 'College Of William And Mary', 'C.N.R.S.': 'Centre National De La Recherche Scientifique (Cnrs, France)', 'Centre National De La Recherche Scientifique': 'Centre National De La Recherche Scientifique (Cnrs, France)', 'Centre National De La Recherche Scientifique, Paris': 'Centre National De La Recherche Scientifique (Cnrs, France)', 'Centro De Altísimos Estudios Ríos Pére': 'Centro De Altísimos Estudios Ríos Pérez', 'Cemfi': 'Centro De Estudios Monetarios Y Financieros (Cemfi, France)', 'Centro De Estudios Monetarios Y Financieros': 'Centro De Estudios Monetarios Y Financieros (Cemfi, France)', 'Centro De Estudios Monetarios Y Financieros (Cemfi)': 'Centro De Estudios Monetarios Y Financieros (Cemfi, France)', 'Centro Scientifico Ibm': 'Centro Scientifico', 'Centro Scientifico Ibm, Pisa, Italy.': 'Centro Scientifico', 'Cermap. Paris': 'Cermap', 'Facultes Universitaires Notre-Dame De La Paix': 'Chapelle Universitaire Notre-Dame De La Paix', 'University Carlos III of Madrid': 'Charles Iii University Of Madrid', 'Chase Economics': 'Chase Econometrics', 'Chevy Chase (City)': 'Chevy Chase Maryland United States (City)', 'Chicago United States (City)': 'Chicago Illinois United States (City)', 'Chicago, Illinois': 'Chicago Illinois United States (City)', 'Chicago Illinois (City)': 'Chicago Illinois United States (City)', 'Chicago': 'Chicago Illinois United States (City)', 'Chicago (City)': 'Chicago Illinois United States (City)', 'Citigroup Inc': 'Citigroup', 'City University Of New York Graduate Center': 'City University Of New York', 'Civilian Public Service Camp No. 11 4 Bluemont. Virainia': 'Civilian Public Service Camp', 'Civilian Public Service Camp No. 114  Bluemont, Virginia': 'Civilian Public Service Camp', 'Claremont Graduate School': 'Claremont Graduate University', \"Claremont Men'S College\": 'Claremont Mckenna College', 'Claremont Men’S College': 'Claremont Mckenna College', 'Policy Center-Clark College': 'Clark College', 'Clinton National Laboratories Oak Ridge, Tennessee': 'Clinton National Laboratories Oak Ridge', 'Columbia Univensity': 'Columbia University', 'Bard College Of Columbia University': 'Columbia University', 'Columbia Business School': 'Columbia University', 'Columbia Graduate School Of Business': 'Columbia University', 'Commitee For Economic Development': 'Committee For Economic Development', 'Committee For Economic Development Chicago': 'Committee For Economic Development', 'Committee For Economic Development, Washington Dc': 'Committee For Economic Development', 'C.S.I.R.O': 'Commonwealth Scientific And Industrial Research Organisation (Austalia)', 'Lexecon': 'Compass Lexecon', 'Lexicon, Inc': 'Compass Lexecon', 'University Of Madrid': 'Complutense University Of Madrid', 'Labortorio Di Ciberbetica E Biofisica Di Camogli': 'Consiglio Nazionale Delle Ricerche (Cnr)', 'Cornell Univerisity': 'Cornell University', 'Cornell Universitv': 'Cornell University', 'Cornell University And Economics Research Center': 'Cornell University', 'Cornell College': 'Cornell University', 'Johnson Graduate School Of Management': 'Cornell University', 'Cieplan': 'Corporación De Estudios Para Latinoamerica', 'Coshocton, Ohio': 'Coshocton Ohio United States (City)', 'Council Of Economic Advisers': 'Council Of Economic Advisors, Washington Dc', 'Council Of Economic Advisers, Washington, Dc': 'Council Of Economic Advisors, Washington Dc', 'Council Of Economic Advisors': 'Council Of Economic Advisors, Washington Dc', 'Council Of Economic Advisors, Washington': 'Council Of Economic Advisors, Washington Dc', \"President'S Council Of Economic Advisers\": 'Council Of Economic Advisors, Washington Dc', 'Presidents Council Of Economic Advisors': 'Council Of Economic Advisors, Washington Dc', 'Culham Laboratory, Abingdon, Berkshire': 'Culham Laboratory', 'Dalhouise University': 'Dalhousie University', 'Dartmouth Collegge': 'Dartmouth College', 'Dartmouth Collage': 'Dartmouth College', 'Tuck School Of Business At Dartmouth': 'Dartmouth College', 'Data Resources , Incorporated': 'Data Resources, Inc', 'Data Resources Incorporated': 'Data Resources, Inc', 'Data Resources. Inc': 'Data Resources, Inc', 'Delta (Cnrs, Ehess, Ens)': 'Delta', 'Delta And Hec': 'Delta', 'Delta, Paris': 'Delta', 'Delta, Paris, France': 'Delta', 'Delta-Ens': 'Delta', 'Delta': \"Département Et Laboratoire D'Économie Théoretique Et Appliquée (Delta)\", \"Département Et Laboratoire D'Économie Theorique Et Appliquée\": \"Département Et Laboratoire D'Économie Théoretique Et Appliquée (Delta)\", 'Department Of Finance At Ottawa': 'Department Of Finance Canada', 'Department Of Psvchology': 'Department Of Psychology', \"Direction De La Prevision. Ministere De L'Economie Et Des Finances, Paris\": 'Direction De La Prevision', 'Direction De La Prévision, Paris': 'Direction De La Prevision', 'Douglas Aircraft Company, California': 'Douglas Aircraft Company', 'Dun And Bradstreet': 'Dun & Bradstreet', 'Durham, North Carolina United States (City)': 'Durham North Carolina United States (City)', 'University Of Durham': 'Durham University', 'Eberhard-Karls-Universitüt Tübingen': 'Eberhard Karls University Of Tübingen', 'University Of Tübingen': 'Eberhard Karls University Of Tübingen', \"Ecole Nationale Supdrieure Des Mines Et Institut De Statistique De L'Universitd De Paris\": 'École Des Mines De Paris', 'Ecole Nationale Superieure Des Mines': 'École Des Mines De Paris', 'Ecole Nationale Superieure Des Mines De Paris Et Centre National De La Recherche Scientifique': 'École Des Mines De Paris', \"L'Ecole Des Ponts Et Chaussées (France)\": 'Ecole Des Ponts Et Chaussées (France)', 'Ecole Nationale Des Ponts & Chaussées, Paris': 'École Des Ponts Paristech', 'Ecole Nationale Des Ponts Et Chaussees': 'École Des Ponts Paristech', 'Ecole Nationale Des Ponts Et Chaussées': 'École Des Ponts Paristech', 'E.N.P. C., Paris': 'École Des Ponts Paristech', 'Enpc': 'École Des Ponts Paristech', 'Ecole National Des Ponts Chauses': 'École Des Ponts Paristech', 'Ecole Nationale D’Administration Publique': \"Ecole Nationale D'Administration Publique\", 'Ecole Normale Supeieure': 'Ecole Normale Superieure', 'Ecole Normale Superieur': 'Ecole Normale Superieure', 'Ecole Normale Superieure De Cachan': 'Ecole Normale Superieure', 'Ecole Normale Supérieure': 'Ecole Normale Superieure', 'Ecole Nornale Supgrieure, Paris': 'Ecole Normale Superieure', 'Ecloe Polytechnique': 'Ecole Polytechnique', 'Ecole  Polytechnique': 'Ecole Polytechnique', 'Ecole Polytechnique Paris': 'Ecole Polytechnique', 'École Polytechnique': 'Ecole Polytechnique', 'École Polytechnique Fédérale De Lausanne': 'Ecole Polytechnique', 'École Polytechnique, Paris': 'Ecole Polytechnique', \"L'Ecole Polytechnique\": 'Ecole Polytechnique', \"L'École supérieure de mécanique de Marseille\": 'Ecole Supérieure De Mécanique De Marseille', 'Economic Analysis Llc': 'Economic Analysis', 'Economic Analysts, Inc': 'Economic Analysts', 'Economic And Social Research Institute': 'Economic And Social Research Institute, Dublin', 'Economic Co-Operation Administration': 'Economic Cooperation Administration', 'Economic Cooperation Administration Mission To Denmark': 'Economic Cooperation Administration', 'Economic Cooperation Administration Special Mission To United Kingdom': 'Economic Cooperation Administration', 'Economic Cooperation Administration, Rome': 'Economic Cooperation Administration', 'Eca Mission To Italy': 'Economic Cooperation Administration', 'Economics Institute Boulder': 'Economics University Of Colorado', 'Educational Testing Service': 'Educational Testing Service, Washington Dc', 'Educational Testing Service, 1800 K Street, N.W., Suite 900, Washington, Dc 20006': 'Educational Testing Service, Washington Dc', 'Educational Testing Service, Washington': 'Educational Testing Service, Washington Dc', 'Electric Power Research Institute': 'Electric Power Research Institute', 'Electric Power Research Institute, Palo Alto': 'Electric Power Research Institute', 'Electricité De France': 'Electricite De France', 'Elmhurst College': 'Elmhurst University', \"Ecole Nationale De La .Statistique Et De L'Administration Economique\": 'Ensae Paris', \"Ecole Nationale De La Statique Et De L' Administration Economique\": 'Ensae Paris', \"Ecole Nationale De La Statistique De L'Administration\": 'Ensae Paris', \"Ecole Nationale De La Statistique Et De  L'Administration Economique\": 'Ensae Paris', \"Ecole Nationale De La Statistique Et De I' Administration Economique\": 'Ensae Paris', \"Ecole Nationale De La Statistique Et De L'Administration Economique\": 'Ensae Paris', \"Ecole Nationale De La Statistique Et De L'Administration Economique (Ensae)\": 'Ensae Paris', \"Ecole National De La Statisque Et De I' Administration Economique\": 'Ensae Paris', 'E.N.S.A.E.': 'Ensae Paris', 'E.N.S.A.E., Malakoff, France': 'Ensae Paris', 'Ensae': 'Ensae Paris', 'Ensae, Paris': 'Ensae Paris', 'Insee-Crest': 'Ensae Paris', 'Insee-Crest Paris': 'Ensae Paris', 'Epge-Fundacao Getulio Vargas': 'Epge Brazilian School Of Economics And Finance', 'Econometric Institute, Rotterdam': 'Erasmus University Rotterdam', 'Erasmus Universiteit': 'Erasmus University Rotterdam', 'Erasmus Universiteit Rotterdam': 'Erasmus University Rotterdam', 'Erasmus University': 'Erasmus University Rotterdam', 'Erasmus University Rotterdam.': 'Erasmus University Rotterdam', 'Econometric Insitute Of The Netherlands School Of Economics': 'Erasmus University Rotterdam', 'Econometric Institute, Netherlands School Of Economics': 'Erasmus University Rotterdam', 'Netherlands School Of Economic': 'Erasmus University Rotterdam', 'Netherlands School Of Economics': 'Erasmus University Rotterdam', 'Netherlands School Of Economics, Rotterdam': 'Erasmus University Rotterdam', 'Netherland School Of Economics': 'Erasmus University Rotterdam', 'Netherlands Economic Institute, Rotterdam': 'Erasmus University Rotterdam', 'Erasmus School Of Economics': 'Erasmus University Rotterdam', 'International Center For Management Science': 'Erasmus University Rotterdam', 'International Center For Management Science, Netherlands School Of Economics': 'Erasmus University Rotterdam', 'Rotterdam School Of Economics': 'Erasmus University Rotterdam', 'Econonmetric Institute, Netherlands School Of Economics.': 'Erasmus University Rotterdam', 'Escola De Economia De Sao Paulo': 'Escola De Economia De São Paulo', 'Fgv/Epge': 'Escola De Pós-Graduação Em Economia', 'Esmt European School Of Management And Technology Gmbh': 'Esmt Berlin', 'Ebrd, London': 'European Bank For Reconstruction And Development', 'European Bank For Reconstruction': 'European Bank For Reconstruction And Development', 'European Bank for Reconstruction and Development': 'European Bank For Reconstruction And Development', 'European Univeristy Institute': 'European University Institute', 'Eui': 'European University Institute', 'Max Weber Programme': 'European University Institute', 'Evansville, Wisconsin': 'Evansville Wisconsin United States (City)', 'Faculte Universitaire Catholique De Mons': 'Faculté Universitaire Catholique De Mons', 'Falk Institute For Economic Research': 'Falk Institute', 'Falk Project For Economic': 'Falk Institute', 'Falk Project For Economic Research': 'Falk Institute', 'Folk Institute': 'Falk Institute', \"L'Ederal Energy Administration\": 'Federal Energy Administration', 'Federal Reserve Banks Of Chicago': 'Federal Reserve Bank Of Chicago', 'Federal Reserve Bane Of Dallas': 'Federal Reserve Bank Of Dallas', 'Federal Reserve Bank Of Minneapolisms': 'Federal Reserve Bank Of Minneapolis', 'Federal Reserve Bank, New York': 'Federal Reserve Bank Of New York', 'Rederal Reserve Bank Of New York': 'Federal Reserve Bank Of New York', 'The Federal Reserve Bank Of New York': 'Federal Reserve Bank Of New York', 'Federal Trade Commission And Office Of Management And Budget': 'Federal Trade Commission', 'Federal Trade Commission, Washington': 'Federal Trade Commission', 'Fernuniversitaet Hagen': 'Fernuniversitat Hagen', 'First National City Bank, New York': 'First National City Bank', 'Flinders University Of South Australia': 'Flinders University', \"L'Lorida National University\": 'Florida National University', 'Fondazione L. Einaudi, Turin': 'Fondazione Luigi Einaudi', 'Frankfort (City)': 'Frankfort Germany (City)', 'Vrije Universiteit': 'Free University Amsterdam', 'Vrije Universiteit Amsterdam': 'Free University Amsterdam', 'Vrije University': 'Free University Amsterdam', 'Vu University Amsterdam': 'Free University Amsterdam', 'Free University': 'Free University Amsterdam', 'Freie Universitat Berlin': 'Free University Of Berlin', 'Free University Berlin': 'Free University Of Berlin', 'Frisch Centre': 'Frischsenteret For Samfunnsøkonomisk Forskning', 'Fundacáo Getulio Vargas': 'Fundacao Getulio Vargas', 'Fundação Getulio Vargas': 'Fundacao Getulio Vargas', 'Fundação Getúlio Vabgas, Rio De Janeibo': 'Fundacao Getulio Vargas', 'General Motors Research Laboratories': 'General Motors Corporation', 'Geneva, Switzerland': 'Geneva Switzerland (City)', 'George Washington University In St Louis': 'George Washington University', 'George Washington University In St Louis Law School': 'George Washington University', 'Getulio Vargus Foundation': 'Getulio Vargas Foundation', 'Giannini Foundation': 'Gianni Foundation Of Agricultural Economics', 'Gianni Foundation Of Agricultural Economics At Brekeley': 'Gianni Foundation Of Agricultural Economics', 'Glasglow United Kingdom (City)': 'Glasgow United Kingdom (City)', 'Goethe University': 'Goethe University Frankfurt', 'Goethe University Of Frankfurt': 'Goethe University Frankfurt', 'Goethe Universitüt Frankfurt': 'Goethe University Frankfurt', 'Goethe-University': 'Goethe University Frankfurt', 'Goethe-Università': 'Goethe University Frankfurt', 'Goethe-Universitüt Frankfurt Am Main': 'Goethe University Frankfurt', 'Johann Wolfgang Goethe University': 'Goethe University Frankfurt', 'Johann Wolfgang Goethe-Universitat': 'Goethe University Frankfurt', 'Johann Wolfgang Goethe-University': 'Goethe University Frankfurt', 'Johann- Wolfgang-Goethe Universitát': 'Goethe University Frankfurt', 'Frankfurtam-Main': 'Goethe University Frankfurt', 'Goethe University Frankfurt': 'Goethe University Frankfurt', 'Universitat Frankfurt': 'Goethe University Frankfurt', 'Universitat Frankfurt Am Main': 'Goethe University Frankfurt', 'University Of Frankfurt': 'Goethe University Frankfurt', 'Goldman Sachs & Co': 'Goldman Sachs', 'Goldman Sachs International Ltd': 'Goldman Sachs', 'Goldman School Of Public Policy': 'Goldman Sachs', 'Goldman, Sachs & Co': 'Goldman Sachs', 'Goldman, Sachs And Company': 'Goldman Sachs', 'Goldman, Sachs, & Co.': 'Goldman Sachs', 'Goldman-Sachs & Co': 'Goldman Sachs', 'Green Farms': 'Green Farms Nut Co', 'Grinnel College': 'Grinnell College', 'Hanford Laboratories Operation, Richland, Washington': 'Hanford Laboratories Operation, General Electric Company', 'Harris Trust And Savings Bank, Chicago': 'Harris Trust And Savings Bank', 'Harvard Business School': 'Harvard University', 'Harvard Economic Research Project': 'Harvard University', 'Harvard Graduate School Of Business Administration': 'Harvard University', 'Harvard Institute For International Development': 'Harvard University', 'Harvard Institute Of Economic Research': 'Harvard University', 'Harvard University School Of Public Health': 'Harvard University', 'Harvard University, Cambridge, Ma': 'Harvard University', 'Harward University': 'Harvard University', 'Harvard Economics': 'Harvard University', '(On Leave From) Harvard University': 'Harvard University', 'Department Of Government, Harvard University': 'Harvard University', 'Harvard  University': 'Harvard University', 'Science Center, Harvard University': 'Harvard University', 'Law School Of Harvard University': 'Harvard University', 'Graduate School Of Education': 'Harvard University', 'John F Kennedy School Of Government': 'Harvard University', 'School Of Engineering And Computer Science, Hebrew University Of Jerusalem': 'Hebrew University Of Jersualem', 'Herbrew University Of Jerusalem': 'Hebrew University Of Jerusalem', 'Hebrew University, Jerusalem': 'Hebrew University Of Jerusalem', 'The Hebrew University Of Jerusalem': 'Hebrew University Of Jerusalem', 'Hebrew University': 'Hebrew University Of Jerusalem', 'Hebrew University Of Jerusalem': 'Hebrew University Of Jerusalem', 'Hebrew University Of Jerusalem, Israel': 'Hebrew University Of Jerusalem', 'Hebrew University Of Jerusalem, Royal Holloway University Of London': 'Hebrew University Of Jerusalem', 'Hebrew University Of Jersualem': 'Hebrew University Of Jerusalem', 'Maurice Falk Institute For Economic Research In Israel': 'Hebrew University Of Jerusalem', 'Hebrew University, Nber': 'Hebrew University Of Jerusalem', 'Ecole Des Hautes Etudes Commerciales': 'Hec Algeria', 'Hec University Of Lausanne': 'Hec Lausanne', 'Hec University Of Lausanne And Fame': 'Hec Lausanne', 'Hec-Université De Lausanne': 'Hec Lausanne', 'Ecole Des Hautes Etudes Commerciales, Montréal': 'Hec Montreal', 'Hec Montréal': 'Hec Montreal', 'Hec Montreal': 'Hec Montreal', 'Hec-Paris': 'Hec Paris', 'Hec': 'Hec Paris', 'Hec School Of Management': 'Hec Paris', 'Hec Paris': 'Hec Paris', 'H.E.C. School Of Management': 'Hec Paris', 'Greghec': 'Hec Paris', 'Hautes Etudes Commerciales': 'Hec Paris', 'École Des Hautes Études Commerciales': 'Hec Paris', 'Herio-Watt University': 'Heriot-Watt University', 'Hitotsubashi University, Tokyo': 'Hitotsubashi University', 'Hobart College': 'Hobart And William Smith Colleges', 'Hofstra College': 'Hofstra University', 'Hong Kong Baptist College': 'Hong Kong Baptist University', 'Hong Kong University Of Science': 'Hong Kong University Of Science And Technology', 'Hongkong University Of Science': 'Hong Kong University Of Science And Technology', 'The Hoover Institution': 'Hoover Institution', 'Humboldt Universitit Zu Berlin': 'Humboldt University Of Berlin', 'Humboldt University': 'Humboldt University Of Berlin', 'Humboldt University Berlin': 'Humboldt University Of Berlin', 'Humboldt Universitát Zu Berlin': 'Humboldt University Of Berlin', 'Humboldt-Universitat Zu Berlin': 'Humboldt University Of Berlin', 'Humboldt-Universitát Zu Berlin': 'Humboldt University Of Berlin', 'Hunter College Of City Of New York': 'Hunter College', 'I B M Thomas J Watson Research Center': 'Ibm', 'Thomas J. Watson Research Center': 'Ibm', 'Imperial College': 'Imperial College London', 'Imperial College London London': 'Imperial College London', 'Imperial Oil Limited, Toronto': 'Imperial Oil Limited', 'Indian Institute Of Management, Ahmedabad': 'Indian Institute Of Management', 'Indian Institute Of Management, Ahmedabad India': 'Indian Institute Of Management', 'Indian Institute Of Management, Ahmedebad': 'Indian Institute Of Management', 'Indian Institute Of Management, Calcutta': 'Indian Institute Of Management', 'Indian Statistical Institute, New Delhi': 'Indian Statistical Institute', 'Indiana University At Bloomington': 'Indiana University Bloomington', 'Indiana University Bloomington, Bloomington': 'Indiana University Bloomington', 'Iupui': 'Indiana University Purdue University Indianapolis', 'Industrial College, War Department': 'Industrial College', 'Industrial Institute For Economic': 'Industrial Institute For Economic Social Research, Stockholm, Sweden', 'Industrial Institute For Economic And Social Research': 'Industrial Institute For Economic Social Research, Stockholm, Sweden', 'Innocenzo Gasparini Institute': 'Innocenzo Gasparini Institute For Economic Research', 'Innsbruck University, Austria': 'Innsbruck University', 'Inra': 'Inra French National Institute For Agricultural Research', 'Inra, Paris-Jourdan': 'Inra French National Institute For Agricultural Research', 'Inra, Toulouse': 'Inra French National Institute For Agricultural Research', 'Inra-Lameta': 'Inra French National Institute For Agricultural Research', 'Inra-Lea': 'Inra French National Institute For Agricultural Research', 'Inra-Lee': 'Inra French National Institute For Agricultural Research', 'Institut National De La Recherche Agronomique': 'Inra French National Institute For Agricultural Research', 'Institut National De La Recherche Agronomique (Inra)': 'Inra French National Institute For Agricultural Research', 'Institut National De La. Recherche Agrmomique': 'Inra French National Institute For Agricultural Research', 'Institute Of Economics Of Hungarian Academy Of Sciences': 'Insitute Of Economics, Hungarian Academy Of Sciences (Iehas)', 'Institute Of Economics, Hungary': 'Insitute Of Economics, Hungarian Academy Of Sciences (Iehas)', 'Instituto De Análisis Económico': \"Institut D'Analisi Economica\", 'Instituto De Análisis Económico (Csic)': \"Institut D'Analisi Economica\", 'Instituto De Análisis Económico De Barcelona': \"Institut D'Analisi Economica\", \"Inst. D'Analisi Economica, Csic, Barcelona\": \"Institut D'Anàlisi Econòmica (Csic, Spain)\", \"Institut D' Anàlisi Económica (Csic)\": \"Institut D'Anàlisi Econòmica (Csic, Spain)\", \"Institut D'Analisi Economica\": \"Institut D'Anàlisi Econòmica (Csic, Spain)\", \"Institut D'Analisi Economica (Csic)\": \"Institut D'Anàlisi Econòmica (Csic, Spain)\", \"Institut D'Anàlisi Economica, Consejo Superior De Investigaciones Cientificas\": \"Institut D'Anàlisi Econòmica (Csic, Spain)\", \"Institut D'Anàlisi Económica\": \"Institut D'Anàlisi Econòmica (Csic, Spain)\", \"Institut d'Analisi economica\": \"Institut D'Anàlisi Econòmica (Csic, Spain)\", 'Institute Of Economic Analysis, Csic, And Barcelona Gse — Campus De La Uab': \"Institut D'Anàlisi Econòmica (Csic, Spain)\", \"Iustitut D'Analisi Economica, Csic\": \"Institut D'Anàlisi Econòmica (Csic, Spain)\", 'Institut Danalisi Economica': \"Institut D'Analisi Economica (Iae)\", 'Institut De Science Economique Appliqueé': 'Institut De Science Economique Appliquée', 'Institut De Science Economique Appliquée': 'Institut De Science Economique Appliquée (Ismea)', \"L'Institut Science Economique Appliquee (France)\": 'Institut De Science Economique Appliquée (Ismea)', 'Insea': \"Institut Européen D'Administration Des Affaires (Insead)\", 'Insead': \"Institut Européen D'Administration Des Affaires (Insead)\", 'Insead, France': \"Institut Européen D'Administration Des Affaires (Insead)\", \"Institut Européen D'Administration Des Affaires\": \"Institut Européen D'Administration Des Affaires (Insead)\", 'Institut Für Arbeitsmarkt- Und Berufsforschung': 'Institut Für Arbeitsmarkt- Und Berufsforschung Der Bundesagentur Für Arbeit Kdör', 'Institut Fiur Landwirtschaftliche Marktforschun': 'Institut Für Landwirtschaftliche Marktforschung', 'Institute National De La Recherche': 'Institut National De La Recherche (Inrs)', 'Institute For Advanced Studies': 'Institute For Advanced Studies Vienna', 'Ihs-Vienna': 'Institute For Advanced Studies Vienna', 'Institute For Advanced Study': 'Institute For Advanced Study, Princeton, New Jersey', 'Institute For Advanced Study, Princeton': 'Institute For Advanced Study, Princeton, New Jersey', 'Icer': 'Institute For Clinical And Economic Review (Icer)', 'Institute For Defence Analyses': 'Institute For Defense Analyses', 'Institute For Defence Analyses, Washington, Dc': 'Institute For Defense Analyses', 'Institute For Defense Analysis': 'Institute For Defense Analyses', 'Ifau': 'Institute For Evaluation Of Labour Market And Education Policy (Ifau)', 'Institute For Fiscal Studies': 'Institute For Fiscal Studies, London', 'Ifs': 'Institute For Fiscal Studies, London', 'Ifs And Centre For Microdata': 'Institute For Fiscal Studies, London', 'Practice, Institute For Fiscal Studies': 'Institute For Fiscal Studies, London', 'Studiengruppe Für Systemforschung': 'Institute For Technology Assessment And Systems Analysis', 'Institute For Study Of Labor': 'Institute For The Study Of Labor', 'Instituto De Pesquisa Económica Aplicada': 'Instituto De Pesquisa Económica Aplicada (Ipea)', 'Ipe, Sào Paulo, Brazil': 'Instituto De Pesquisas Ecológicas (Ipê)', 'Ipea/Inpes, Av. Pres. Antonio Carlos, 51-17Th Andar, Rio De Janeiro, R.J. 20020, Brazil': 'Instituto De Pesquisas Ecológicas (Ipê)', 'Impa': 'Instituto Nacional De Matemática Pura E Aplicada', 'Impa (Brazil)': 'Instituto Nacional De Matemática Pura E Aplicada', 'Impa, Estrada Dona Castorina': 'Instituto Nacional De Matemática Pura E Aplicada', 'Impa, Rio De Janeiro, Brazil': 'Instituto Nacional De Matemática Pura E Aplicada', 'Instituto Nacional De Matemática Pura E Aplicada': 'Instituto Nacional De Matemática Pura E Aplicada', 'Instituto Tecnologico Autonomo De Mexico': 'Instituto Technologico Autonomo De Mexico', 'Instituto Tecnológico Autónomo De Mexico': 'Instituto Technologico Autonomo De Mexico', 'Instituto Tecnológico Autónomo De México': 'Instituto Technologico Autonomo De Mexico', 'Imdea-Ciencias Sociales': 'Institutos Madrileño De Estudios Avanzados (Imdea)', 'Instituto Madrileno De Estudios Avanzados': 'Institutos Madrileño De Estudios Avanzados (Imdea)', 'Inter-American Development Bank': 'Inter American Development Bank', 'International Aero Service Corporation': 'International Aero Services Corporation', 'Interniational Bank For Reconstruction And Development': 'International Bank For Reconstruction And Development', 'International Bank For Reconstruction': 'International Bank For Reconstruction And Development', 'International Bank For Reconstruction And Development (Ibrd)': 'International Bank For Reconstruction And Development', 'International Bank Of Reconstruction And Development': 'International Bank For Reconstruction And Development', 'Ibm': 'International Business Machines Corporation', 'Ibm Corporation': 'International Business Machines Corporation', 'Ibm Global': 'International Business Machines Corporation', 'Ibm Israel Scientific Center': 'International Business Machines Corporation', 'Ibm Research': 'International Business Machines Corporation', 'Ibm Research Center': 'International Business Machines Corporation', 'Ibm Scientific Center': 'International Business Machines Corporation', 'Ibm Watson Research Center': 'International Business Machines Corporation', 'Ibm Zurich Research Laboratory': 'International Business Machines Corporation', 'Ibm, Chicago Insurance Office': 'International Business Machines Corporation', 'International Business Machine Corporation Research Center': 'International Business Machines Corporation', 'International Business Machines': 'International Business Machines Corporation', 'International Finance Corporation': 'International Finance Corporation (Ifc)', 'International Food Policv Research Institute (Ifpri)': 'International Food Policy Research Institute (Ifpri)', 'International Labor Office': 'International Labor Office, Washington, D. C.', 'International Monetary Fund Research Department': 'International Monetary Fund', 'Internatioanl Monetary Fund': 'International Monetary Fund', 'Imf': 'International Monetary Fund (Imf)', 'International Monetary Fund': 'International Monetary Fund (Imf)', \"nternational Union of Food, Agricultural, Hotel, Restaurant, Catering, Tobacco and Allied Workers' Associations\": \"International Union Of Food, Agricultural, Hotel, Restaurant, Catering, Tobacco And Allied Workers' Associations\", 'Interstate Commerce Commision': 'Interstate Commerce Commission', 'Iowa State University Of Science And Technology': 'Iowa State University', 'Iowa State College': 'Iowa State University', 'Iozwa State University': 'Iowa State University', 'Isrrtuto Di Studi Economici': 'Istituto Di Studi Economici', 'Institute Mobiliare Italiano': 'Istituto Mobiliare Italiano', 'Institut Zur Zukunft Arbeit': 'Iza - Institute Of Labor Economics', 'Institute Of Labor Economics (Iza, Germany)': 'Iza - Institute Of Labor Economics', 'Iza': 'Iza - Institute Of Labor Economics', 'J. P. Morgan, London': 'J.P. Morgan United Kingdom', 'Jesuits At Wernersville': 'Jesuit Center For Spiritual Growth At Wernersville', 'University Of Mainz': 'Johannes Gutenberg University Of Mainz', 'Haynes Foundation': 'John Randolph Haynes And Dora Haynes Foundation', 'John Hopkins University': 'Johns Hopkins University', 'Johns Hopkins Bologna Center': 'Johns Hopkins University', 'Indiana Hopkins University': 'Johns Hopkins University', 'School Of Advanced International Studies': 'Johns Hopkins University', 'The Johns Hopkins University': 'Johns Hopkins University', 'Johns-Manville Corporation': 'Johns Manville Corporation', 'University Of Kagawa': 'Kagawa University', 'Kansas State College': 'Kansas State University', 'Universitat Karlsruhe': 'Karlsruhe Institute Of Technology', 'University College Of North Staffordshire': 'Keele University', 'University Of Keele': 'Keele University', 'Institut Für Weltwirtschaft': 'Kiel Institute For The World Economy (Ifw Kiel)', 'Institut Für Weltwirtschaft An Der Universität Kiel': 'Kiel Institute For The World Economy (Ifw Kiel)', 'Institute Of Statistics And Econometrics': 'Kiel Institute For The World Economy (Ifw Kiel)', 'Kiel Institute For The World Economy': 'Kiel Institute For The World Economy (Ifw Kiel)', 'Kiel Institute Of World Economics': 'Kiel Institute For The World Economy (Ifw Kiel)', 'Kobe University Of Commerce': 'Kobe University', 'Kog University': 'Koc University', 'Korean University': 'Korea University', 'Kronos, Inc.': 'Kronos Inc', 'Kuruckshetra University, India': 'Kurukshetra University', 'Kyota Sangyo University': 'Kyoto Sangyo University', 'Ecole Sup6Rior De M6Canique De Marseille': \"L'École Supérieure De Mécanique De Marseille\", \"Laboratoire D' Econometrie\": \"Laboratoire D'Econometric De L'Ecole Polytechnique\", \"Laboratoire D' Econometrie De L' Ecole Polytechnique\": \"Laboratoire D'Econometric De L'Ecole Polytechnique\", \"Laboratoire D'Econome'Trie De L'Ecole Polytechnique, Paris\": \"Laboratoire D'Econometric De L'Ecole Polytechnique\", \"Laboratoire D'Econometrie De 1'Ecole Polytechnique\": \"Laboratoire D'Econometric De L'Ecole Polytechnique\", \"Laboratoire D'Econometrie De I'Ecole Polytechnique\": \"Laboratoire D'Econometric De L'Ecole Polytechnique\", \"Laboratoire D'Econometrie De L'Ecole Polytechnique\": \"Laboratoire D'Econometric De L'Ecole Polytechnique\", \"Laboratoire D'Econometrie De L'Ecole Polytechnique, Paris\": \"Laboratoire D'Econometric De L'Ecole Polytechnique\", \"Laboratoire D'Economie Industrielle\": \"Laboratoire D'Econometric De L'Ecole Polytechnique\", \"Laboratoire D'Economie Industrielle, Crest-Insee\": \"Laboratoire D'Econometric De L'Ecole Polytechnique\", \"Laboratoire D'Economie Politique\": \"Laboratoire D'Econometric De L'Ecole Polytechnique\", \"Laboratoire D'Economérie\": \"Laboratoire D'Econometric De L'Ecole Polytechnique\", \"Laboratoire D'Econométrie De L'Ecole Polytechnique\": \"Laboratoire D'Econometric De L'Ecole Polytechnique\", 'Universite Laval': 'Laval University', 'Université Laval': 'Laval University', 'Lawrence College': 'Lawrence University', 'Ceras': \"Le Centre De Recherche Et D'Action Sociales (Ceras, France)\", 'Ceras, Paris': \"Le Centre De Recherche Et D'Action Sociales (Ceras, France)\", 'Ceras-Enpc': \"Le Centre De Recherche Et D'Action Sociales (Ceras, France)\", 'Universitdt Hannover': 'Leibniz University Hannover', 'University Of Hannover': 'Leibniz University Hannover', 'Lexington (City)': 'Lexington Kentucky United States (City)', 'Lexington, Kentucky (City)': 'Lexington Kentucky United States (City)', 'Facultés Universitaires Catholiques De Mons Et De Lille': 'Lille Catholic University', 'Lille I University': 'Lille University', 'Lincoln College, New Zealand': 'Lincoln University', 'London School Of Econimics': 'London School Of Economics & Political Science', 'London School Of Economics': 'London School Of Economics & Political Science', 'London School Of Economics & Political Science': 'London School Of Economics & Political Science', 'London School Of Economics & Political Sciences': 'London School Of Economics & Political Science', 'London School Of Economics And Centre For Economic Performance': 'London School Of Economics & Political Science', 'London School Of Economics,': 'London School Of Economics & Political Science', 'London, School Of Economics And Political Science': 'London School Of Economics & Political Science', 'London School Of Economics And': 'London School Of Economics & Political Science', 'London School Or Economics': 'London School Of Economics & Political Science', 'Lse': 'London School Of Economics & Political Science', 'The London School Of Economics & Political Science': 'London School Of Economics & Political Science', 'London': 'London United Kingdom (City)', 'London (City)': 'London United Kingdom (City)', 'Los Angeles': 'Los Angeles United States (City)', 'Woodland Hills, Ca': 'Los Angeles United States (City)', 'Universite Louis Pastyer': 'Louis Pasteur University', 'Université Louis Pasteur': 'Louis Pasteur University', 'Louisiana Sate University': 'Louisiana State University', 'Louisiana State University In New Orleans': 'Louisiana State University', 'Loyola University': 'Loyola University Chicago', 'Loyola University Of Chicago': 'Loyola University Chicago', 'Ludwig-Maximilians-Universität Munich': 'Ludwig Maximilian University Of Munich', 'Ludwig-Maximillians University': 'Ludwig Maximilian University Of Munich', 'Universite Lumiere Lyon 2': 'Lumière University Lyon 2', 'Universite De Lyon Ii': 'Lyon 2 University Berges Du Rhone', 'Maastricht School Of Management': 'Maastricht University', 'University Of Maastricht': 'Maastricht University', 'Mcneil Barry, Ltd., Calcutta': 'Macneil & Barry Ltd', 'Madison': 'Madison Wisconsin United States (City)', 'Madison, Wisconsin': 'Madison Wisconsin United States (City)', 'Institutos Madrileño de Estudios Avanzados (IMDEA)': 'Madrid Institute For Advanced Studies (Imdea)', 'Makerere College': 'Makerere College School', 'Makerere University College': 'Makerere University', 'Manchester Polytechnic': 'Manchester Metropolitan University', 'Manchester United Kingdom(City)': 'Manchester United Kingdom (City)', 'Maryland (City)': 'Maryland United States (City)', 'Mit': 'Massachusetts Institute Of Technology', 'Massachusetts Institute Of Technology Poverty Action Lab': 'Massachusetts Institute Of Technology', 'Massachusetts Institute Of Technology, Washington, Dc': 'Massachusetts Institute Of Technology', 'Massachusetts Institute of Technology': 'Massachusetts Institute Of Technology', 'Massachusettes Institute Of Technology': 'Massachusetts Institute Of Technology', 'Massachusetts Institute Of Technology Department Of Economics': 'Massachusetts Institute Of Technology', 'Sloan School Of Management': 'Massachusetts Institute Of Technology', 'Sloan School Of Management, Massachusetts Institute Of Technology': 'Massachusetts Institute Of Technology', 'Mathematica Policy Research': 'Mathematica Inc', 'Mathematica Policy Research Inc.': 'Mathematica Inc', 'Mathematica, Inc': 'Mathematica Inc', 'Mathematica, Princeton': 'Mathematica Inc', 'Gremaq': 'Mathematical And Quantative Economics (Gremaq, France)', 'Institut De Mathématiques De Jussieu': 'Mathematics Institute Of Jussieu–Paris Rive Gauche', 'Maynooth College': 'Maynooth University', 'Mcgraw-Hill Publishing Co.': 'Mcgraw-Hill Publishing Company', 'Mckinsey & Co.': 'Mckinsey & Company', 'Mckinsey And Co., Düsseldorf': 'Mckinsey & Company', 'Mclean, Virginia': 'Mclean Virginia United States (City)', 'Mclean (City)': 'Mclean Virginia United States (City)', 'Melbourne (City)': 'Melbourne Australia (City)', 'Michigan State Univesity': 'Michigan State University', 'Michigan State College': 'Michigan State University', 'Michigan State College, East Lansing': 'Michigan State University', 'Michigan College Of Mining And Technology': 'Michigan Technological University', 'Monterey Institute Of International Studies': 'Middlebury College', 'Middlesex Polytechnic': 'Middlesex University', 'Middletown, Connecticut (City)': 'Middletown Connecticut United States (City)', 'Minneapolis': 'Minneapolis Minnesota United States (City)', 'Minnesota United States (State)': 'Minneapolis Minnesota United States (City)', 'Moorhead State University': 'Minnesota State University Moorhead', 'The Monitor Company': 'Monitor Company', 'Montana State College': 'Montana State University', 'Morgan Stanley & Co': 'Morgan Stanley', 'Morgan Stanley & Company': 'Morgan Stanley', 'Morgan Stanley Dean Witter And Company': 'Morgan Stanley', 'Morgan Stanley, Inc': 'Morgan Stanley', 'Morgan State College': 'Morgan State University', 'Moscow, U.S.S.R.': 'Moscow Russia (City)', 'University Of Moscow': 'Moscow State University', 'Mount Weather (City)': 'Mount Weather United States (City)', 'Munich Germany': 'Munich Germany (City)', 'Muskingum College': 'Muskingum University', 'National Biscuit Company': 'Nabisco', 'Nanyang University': 'Nanyang Technological University', 'Universidad Nacional Autonoma De Mexico': 'National Autonomous University Of Mexico', 'Universidad Nacional Autonoma De México': 'National Autonomous University Of Mexico', 'Nber': 'National Bureau Of Economic Research', 'National Bureau': 'National Bureau Of Economic Research', 'National Bureau For Economic Research': 'National Bureau Of Economic Research', 'National Bureau OF Economic Research': 'National Bureau Of Economic Research', 'National Bureau Of': 'National Bureau Of Economic Research', 'National Bureau Of E': 'National Bureau Of Economic Research', 'National Bureau Of Econnomic Research': 'National Bureau Of Economic Research', 'National Bureau Of Economic': 'National Bureau Of Economic Research', 'National Bureau Of Economic Research And Survey Research Center': 'National Bureau Of Economic Research', 'National Bureau Of Economic Research, Cambridge, Am 02138, U.Sa.': 'National Bureau Of Economic Research', 'National Bureau Of Economics Research': 'National Bureau Of Economic Research', 'N.B.E.R.': 'National Bureau Of Economic Research', 'National Bureau  Of Economic Research': 'National Bureau Of Economic Research', 'Tinational Bureau Of Economic Researchgen Institute': 'National Bureau Of Economic Research', 'The National Bureau Of Economic Research': 'National Bureau Of Economic Research', 'National Bureau Of Standards At Los An': 'National Bureau Of Standards At Los Angeles', 'National Center For Health Services Research And Development': 'National Center For Health Services Research', 'National Center For Health Services Research And Health Care Technology Assessment': 'National Center For Health Services Research', 'National Centre For Scientific Research (Cnrs, France)': 'National Centre For Scientific Research (Cnrs, France)', 'National Centre For Scientific Research (Cnrs, France)-Cerses': 'National Centre For Scientific Research (Cnrs, France)', 'National Centre For Scientific Research (Cnrs, France)-Eurequa': 'National Centre For Scientific Research (Cnrs, France)', 'Cnrs': 'National Centre For Scientific Research (Cnrs, France)', 'Cnrs-Eurequa': 'National Centre For Scientific Research (Cnrs, France)', 'Cnrs-Umr': 'National Centre For Scientific Research (Cnrs, France)', 'Centre national de la recherche scientifique (CNRS, France)': 'National Centre For Scientific Research (Cnrs, France)', 'Centre National De La Recherche Scientifique (Cnrs, France)': 'National Centre For Scientific Research (Cnrs, France)', 'Ceras And National Centre For Scientific Research (Cnrs, France)': 'National Centre For Scientific Research (Cnrs, France)', 'National Economic Research Associates, Inc': 'National Economic Research Associates', 'National Economic Research Associates, New Yok': 'National Economic Research Associates', 'National Economic Research Associats': 'National Economic Research Associates', 'National Insitute Of Economic And Social Research': 'National Institute Of Economic And Social Research, London', 'National Institute Of Economic And Social Research': 'National Institute Of Economic And Social Research, London', 'National Institute Of Economic And Social Research And Statistics Commission': 'National Institute Of Economic And Social Research, London', 'National Planning Assocation': 'National Planning Association', 'National Science Foundation Grant': 'National Science Foundation', 'Instituto Nacional De Estadística': 'National Statistics Institute', 'National University Of Taiwan': 'National Taiwan University', 'Universidad Nacional De Colombia': 'National University Of Colombia', 'Institute Of Public Administration': 'National University Of Ireland', 'National War Labor Board': 'National War Labor Board In Washington', 'Naval Post Grauduate School': 'Naval Postgraduate School', 'New Economic School': 'New Economic School, Moscow', 'New Haven, Ct': 'New Haven Conneticut United States (City)', 'New Haven Connecticut United States (City)': 'New Haven Conneticut United States (City)', 'New Haven': 'New Haven Conneticut United States (City)', 'New Orleans, Louisiana (City)': 'New Orleans Louisiana United States (City)', 'New School For Social Research, New York City': 'New School For Social Research', 'The Graduate Faculty, New School For Social Research': 'New School For Social Research', 'New University Of Lishon': 'New University Of Lisbon', 'New York': 'New York City (City)', 'New York (City)': 'New York City (City)', 'New York City': 'New York City (City)', 'New York City  (City)': 'New York City (City)', 'New York, N.Y ,(City)': 'New York City (City)', 'New York, New York (City)': 'New York City (City)', 'New York City (City)': 'New York City United States (City)', 'New York United States (City)': 'New York City United States (City)', 'New York University Graduate School Of Business Administration': 'New York University', 'Polytechnic Institute Of Brooklyn': 'New York University Tandon School Of Engineering', 'Chairman': 'None', 'Secretary': 'None', 'Assistant Secretary': 'None', 'Chair Of Economics': 'None', 'none': 'None', 'North Carolina State (U.N.C.)': 'North Carolina State University', 'North Carolina State College': 'North Carolina State University', 'North Tonawanda, New York': 'North Tonawanda New York United States (City)', 'Northwestern University, China': 'Northwest University, China', 'Dept. Of Managerial Economics And Decision Sciences, Kellogg Graduate School Of Management, Northwestern University': 'Northwestem University', 'Graduate School Of Management, Northwestern University, Evanston, Illinois 60201, U.S.A.': 'Northwestem University', 'Northwesten University': 'Northwestern University', 'Northwestern Univensity': 'Northwestern University', 'Northwestern Universit': 'Northwestern University', 'Northwestem University': 'Northwestern University', 'Northwestern University, 2003 Sheridan Rd., Evanston, Il 60208-2400, U.S.A.': 'Northwestern University', 'Northwestern University, And': 'Northwestern University', 'Northwestern University, National Bureau Of Economic Research': 'Northwestern University', 'Northwestern Unviersity': 'Northwestern University', 'Northwestern University And Nber': 'Northwestern University', 'Norwegian School Of Economics And Business': 'Norwegian School Of Economics', 'Norwegian School Of Economics And Business  Administration': 'Norwegian School Of Economics', 'Norwegian School Of Economics And Business Administration': 'Norwegian School Of Economics', 'Norwegian\\xa0School Of Management': 'Norwegian School Of Management', 'Universidade Nova De Lis- Boa': 'Nova University Lisbon', 'Universidade Nova De Lisboa': 'Nova University Lisbon', 'Iuf': \"Nternational Union Of Food, Agricultural, Hotel, Restaurant, Catering, Tobacco And Allied Workers' Associations\", 'Oberlin College': 'Oberlin College & Conservatory', 'Office Of Business Economics': 'Office Of Business Economics,  Washington, D.C.', 'The Office Of Economic Stabilization': 'Office Of Economic Stabilization', 'Navy': 'Office Of Naval Research', 'Office Of Naval Research, Boston': 'Office Of Naval Research', 'Office- Of Price Administration': 'Office Of Price Administration', 'The Office Of Price Administration': 'Office Of Price Administration', 'Office Of Strategics Service': 'Office Of Strategic Services', 'Office Of Comptroller Of Currency': 'Office Of The Comptroller Of The Currency', 'Office Of The Comptroller Of The Currency, Washington': 'Office Of The Comptroller Of The Currency', 'Office Of The Nyc Comptroller': 'Office Of The Comptroller Of The Currency', 'Ohio State University, United States': 'Ohio State University', 'Ohio St': 'Ohio State University', 'The Ohio State University': 'Ohio State University', 'Ohio University In New Orleans': 'Ohio University', 'O.E.C.D, Paris': 'Organisation For Economic Cooperation And Development (Oecd, France)', 'O.F.C.E, Paris': 'Organisation For Economic Cooperation And Development (Oecd, France)', 'Observatoire Français Des Conjonctures Economiques': 'Organisation For Economic Cooperation And Development (Oecd, France)', 'Observatoire Français Des Conjonctures Economiques, Paris': 'Organisation For Economic Cooperation And Development (Oecd, France)', 'Organisation For Economic Co-Operation And Development': 'Organisation For Economic Cooperation And Development (Oecd, France)', 'Organization For Economic Co-Operation And Development': 'Organisation For Economic Cooperation And Development (Oecd, France)', 'Organization For Economic Cooperation And Development': 'Organisation For Economic Cooperation And Development (Oecd, France)', 'Osaka Industrial University': 'Osaka Institute Of Technology', 'The Institute Of Social And Economic Research, Osaka University': 'Osaka University', 'Oslow Norway (City)': 'Oslo Norway (City)', 'Universitaet Osnabrueck': 'Osnabrück University', 'Ottawa, Canada': 'Ottawa Canada (City)', 'University Of Magdeburg': 'Otto Von Guericke University Magdeburg', 'Oxford Polytechnic': 'Oxford Brookes University', 'Gesamthochschule Paderborn': 'Paderborn University', 'Pahiavi University': 'Pahlavi University', 'Pakistan Institute Of Development Economies': 'Pakistan Institute Of Development Economics', 'Université Panthéon-Assas': 'Panthéon-Assas University Paris Ii', 'Université De Paris Ii': 'Panthéon-Assas University Paris Ii', 'Université Paris Xii': 'Paris 12 Val De Marne University', 'Universite De Paris Ix Dauphine': 'Paris Dauphine University', 'Universite De Paris Ix': 'Paris Dauphine University', 'University Of Paris-Dauphine': 'Paris Dauphine University', 'Université Paris Dauphine': 'Paris Dauphine University', 'Université Paris Ix Dauphine': 'Paris Dauphine University', 'Université Paris-Dauphine': 'Paris Dauphine University', 'Paris Ix': 'Paris Dauphine University', 'Paris Ix University': 'Paris Dauphine University', 'Universitie Paris Dauphine': 'Paris Dauphine University', 'Universite Paris Ix': 'Paris Dauphine University', 'University Of Paris-Descartes': 'Paris Descartes University', 'University Paris Descartes': 'Paris Descartes University', 'Universite De Paris V': 'Paris Descartes University', 'Paris': 'Paris France (City)', 'Institut De Statistique De L\"Universite De Paris': 'Paris Institute Of Statistics', \"Institut De Statistique De L'Universite De Paris\": 'Paris Institute Of Statistics', \"Institut De Statistique De L'Université De Paris\": 'Paris Institute Of Statistics', 'Institut De Statistique De Universite De Paris': 'Paris Institute Of Statistics', 'Paris-Jourdan Science Economiques': 'Paris School Of Economics', 'Université De Paris X-Nanterre': 'Paris Nanterre University', 'Universite De Paris-X-Nanterre': 'Paris Nanterre University', 'Université De Paris X': 'Paris Nanterre University', 'Paris X-Nanterre University': 'Paris Nanterre University', 'Université Paris X': 'Paris Nanterre University', 'Centre Paris-Jourdan': 'Paris School Of Economics', 'Pse': 'Paris School Of Economics', 'Pse, Umr National Centre For Scientific Research (Cnrs, France)-Ehess-Enpc-Ens': 'Paris School Of Economics', 'Isrituto Universitario Navale': 'Parthenope University Of Naples', 'Istituto Universitario Navale': 'Parthenope University Of Naples', 'Penn State University': 'Pennsylvania State University', 'Pennslyvania State University': 'Pennsylvania State University', 'Pennsylvania (City)': 'Pennsylvania United States (State)', 'Pfizer, Inc': 'Pfizer', 'Philadelphia': 'Philadelphia United States (City)', 'Pittsburgh Pennslyvania United States (City)': 'Pittsburgh Pennsylvania United States (City)', 'Pittsford, New York (City)': 'Pittsford New York United States (City)', 'Planecon, Inc': 'Planecon', 'Policy Studies Institute, London': 'Policy Studies Institute', 'Upf': 'Pompeu Fabra University', 'Upf Barcelona': 'Pompeu Fabra University', 'Universitat Pompbu Fabra': 'Pompeu Fabra University', 'Universitat Pompeu Fabra': 'Pompeu Fabra University', 'Universitat Pompeu-Fabra': 'Pompeu Fabra University', 'University Pompeu Fabra': 'Pompeu Fabra University', 'Versitat Pompeu Fabra': 'Pompeu Fabra University', 'Pontifica Universidade Catolica': 'Catholic University Of Chile', 'Pontifical Catholic University, Rio De Janeiro': 'Catholic University Of Rio De Janeiro', 'Pontificia Universidad Catolica De Chile': 'Catholic University Of Chile', 'Pontificia Universidad Católica De Chile': 'Catholic University Of Chile', 'Pontificia Universidade Católica Do Rio De Janeiro': 'Catholic University Of Rio De Janeiro', 'Pontifical Catholic University': 'Catholic University Of Chile', 'Population Counci New York': 'Population Council New York', 'Universite De Droit': 'Portail Universitaire Du Droit', 'Portland State College': 'Portland State University', 'Prague School Of Economics': 'Prague University Of Economics And Business', 'School Of Economics': 'Prague University Of Economics And Business', 'Presidency College': 'Presidency College, Calcutta', 'Presidency College Calcutta': 'Presidency College, Calcutta', 'Presidency College, Calcutta': 'Presidency University', 'Woodrow Wilson School': 'Princeton University', 'Woodrow Wilson School And Princeton University': 'Princeton University', 'Wooprow Wilson School Or Public Affairs': 'Princeton University', 'École des Mines de Paris': 'Psl Research University', 'Universidad Püblica De Navarra': 'Public University Of Navarre', 'Purdue University, West Lafayette, Indiana': 'Purdue University', 'Greqam': 'Quantative Economics Aix-Marseille (Greqam, France)', 'Greqm': 'Quantative Economics Aix-Marseille (Greqam, France)', 'Queen Mary College': 'Queen Mary University Of London', 'Queen\"S University': \"Queen'S University\", \"Queen'S University\": \"Queen'S University\", \"Queen'S University, Canada\": \"Queen'S University\", \"Queen'S University, Kingston, Ontario\": \"Queen'S University\", \"Queen'S University, Ontario\": \"Queen'S University\", 'Queens University': \"Queen'S University\", 'Queens University, Canada': \"Queen'S University\", 'Queen’S University': \"Queen'S University\", 'Queens Collegge': 'Queens College', \"Queen'S College\": 'Queens College', 'University Of Nijmegen': 'Radboud University Nijmegen', 'Rand Corportation': 'Rand Corporation', 'The Rand Corporation': 'Rand Corporation', 'Real Estate Research Corporation, Chicago': 'Real Estate Research Corporation', 'Real Estate Research Corporation, Los Angeles, California': 'Real Estate Research Corporation', 'Real Estate Research Córporation, Los Angeles, California': 'Real Estate Research Corporation', 'Rehovath University': 'Rehoboth University', 'Rennes (France)': 'Rennes France (City)', 'Research Analysis Corporation, Mclean, Virginia': 'Research Analysis Corporation', 'Resources For The Future, Inc.': 'Resources For The Future, Inc.', 'Resources For Future': 'Resources For The Future, Inc.', 'Resources For Future, Inc': 'Resources For The Future, Inc.', 'Resources For The Future': 'Resources For The Future, Inc.', 'Resources for the Future': 'Resources For The Future, Inc.', 'Robert R. Nathan Associates': 'Robert R Nathan Associates', 'Rochester Centerfor Economic Research': 'Rochester Center For Economic Research', 'Rochester New York (City)': 'Rochester New York United States (City)', 'Rolling Hills, California': 'Rolling Hills California United States (City)', 'University Of Rome Iii': 'Roma Tre University', 'Roosevelt College': 'Roosevelt University', 'Royal Military College Of Australia, Duntroon': 'Royal Military College, Duntroon', 'Rutgers - State University': 'Rutgers University', 'Rutgers College': 'Rutgers University', 'Rutgers, State University': 'Rutgers University', 'Rutgers, The State University': 'Rutgers University', 'Rutgers-State University': 'Rutgers University', 'Rutgers—The State University': 'Rutgers University', 'Ment Of Economics, Rutgers University, New Brunswick, Nj': 'Rutgers University', 'Robert Wood Johnson Medical School': 'Rutgers University', 'Rugters University': 'Rutgers University', 'Rutcor': 'Rutgers University', 'State University Of New Jersey': 'Rutgers University', 'Rwi': 'Rwi, Germany', 'Rwi Essen, Wifo Vienna And Iza Bonn': 'Rwi, Germany', 'University Of The Saar': 'Saarland University', \"St. Martin'S College\": \"Saint Martin'S University\", 'University Of Saitama': 'Saitama University', 'Salisbury State University': 'Salisbury University', 'Salomon Brothers Asia Limited': 'Salomon Brothers', 'Salomon Brothers Inc.': 'Salomon Brothers', 'San Francisco State College': 'San Francisco State University', 'San Francisco(City)': 'San Francisco United States (City)', 'Istituto Di Economia E Finanza': 'Sapienza Università Di Roma', 'Università Di Roma': 'Sapienza Università Di Roma', 'University Of Rome': 'Sapienza University Of Rome', 'University Of Rome (Italy)': 'Sapienza University Of Rome', 'University Of Rome La Sapienza': 'Sapienza University Of Rome', 'Universita Di Roma': 'Sapienza University Of Rome', 'Universita! Di Roma': 'Sapienza University Of Rome', 'Sapienza Università di Roma': 'Sapienza University Of Rome', 'Rome University': 'Sapienza University Of Rome', 'E.H.E.S.S.': 'School For Advanced Studies In The Social Sciences', 'E.H.Es.S.': 'School For Advanced Studies In The Social Sciences', 'Ecole Des Hautes Etudes En Sciences Sociales': 'School For Advanced Studies In The Social Sciences', 'Ehess, Ceqc': 'School For Advanced Studies In The Social Sciences', 'Ehess': 'School For Advanced Studies In The Social Sciences', 'Greqe,École Des Hautes Études En Sciences Sociales': 'School For Advanced Studies In The Social Sciences', \"Institut D'Études Politiques\": 'Sciences Po', 'Sciences Po, Observatoire Franqais Des Conjonctures Economiques': 'Sciences Po', 'Service Des Etudes Economiques Et Financieres, Paris': 'Service Des Études Économiques Et Financières (Seef, France)', 'Shippensburg State College': 'Shippensburg University', 'Simmons College': 'Simmons University', 'Siman Fraser University': 'Simon Fraser University', 'Singapore Puplic Service Commission': 'Singapore Public Service Commission', 'Social Security Board': 'Social Security Administration', 'Social Security Board,  Washington, D. C.': 'Social Security Administration', 'Soka University': 'Soka University Of America', 'Eurequa, Université Paris 3': 'Sorbonne Nouvelle University', 'Université Paris Nord': 'Sorbonne Paris Nord University', 'Universite Pierre Et Marie Curie': 'Sorbonne University Pierre And Marie Curie', 'University Of Paris Vi': 'Sorbonne University Pierre And Marie Curie', 'Université De Jussieu': 'Sorbonne University Pierre And Marie Curie', 'Southampton': 'Southampton United Kingdom (City)', 'Southern Connecticut State College': 'Southern Connecticut State University', 'Southern Illinois University At Edwardsville': 'Southern Illinois University', 'Southern University': 'Southern University And A&M College', 'Spokane, Washington': 'Spokane Washington United States (City)', \"St. John'S University\": \"St John'S University\", 'Saint Louis University': 'St Louis University', 'St Cloud State University': 'St. Cloud State University', \"St John'S University\": \"St. John'S University\", 'St Louis University': 'St. Louis University', \"Saint Mary'S University\": \"St. Mary'S University\", 'St Olaf College': 'St. Olaf College', 'Stan/Ord University': 'Stanford  University', 'Stanford Business School': 'Stanford  University', 'Stanford University  University': 'Stanford  University', 'Stanford University Working Paper': 'Stanford  University', 'Stanford University, Stanford': 'Stanford  University', 'Stanford Unizersity': 'Stanford  University', 'Stanford, California United States (State)': 'Stanford California United States (City)', 'Center For Advanced Study In Behavioral Sciences': 'Stanford University', 'Center For Advanced Study In Behavioural Sciences': 'Stanford University', 'Center For Advanced Study In The Behavioral Sciences': 'Stanford University', 'Graduate School Of Business, Stanford University, Stanford, Ca 94305, U.S.A.': 'Stanford University', 'Food Research Institute': 'Stanford University', 'Food Research Institute, Stanford University': 'Stanford University', 'Stanford  University': 'Stanford University', 'State Department Of Public Service New York, N. Y.': 'State Department Of Public Service  New York', 'State Department Of Public Service, New York, N. Y': 'State Department Of Public Service  New York', 'State Statistical Bureau, Calcutta, India': 'State Statistical Bureau, Calcutta', 'Nys School Of Industrial And Labor Relations': 'State University Of New York', 'Swedish School Of Economics': 'Stockholm School Of Economics', 'Swedish School Of Economics And Business Administration': 'Stockholm School Of Economics', 'Stockholm School of Economics': 'Stockholm School Of Economics', 'Stockholm School Of Economics And Parliament': 'Stockholm School Of Economics', 'Institute For International Economic Studies, Stockholm': 'Stockholm University', 'Institute For International Economic Studies, Stockholm University': 'Stockholm University', 'Institute For International Economic Studies, Sweden': 'Stockholm University', 'Institute For International Economics': 'Stockholm University', 'Institute For International Economics Studies': 'Stockholm University', 'Institute For International Studies, Stockholm': 'Stockholm University', 'Institute For Internal Economics': 'Stockholm University', 'Institute For International Economic Studies': 'Stockholm University', 'Institute For International Economic Studies, National Bureau Of Economic Research': 'Stockholm University', 'Institute Of International Economic Studies': 'Stockholm University', 'Sung Kyun Kwan University': 'Sungkyunkwan University', 'State University Of New York At Binghamton': 'Suny At Binghampton', 'Suny At Binghamton': 'Suny At Binghampton', 'State University Of New York, Buffalo': 'Suny At Buffalo', 'Dept.Of Economics, Sumy Stony Brook': 'Suny At Stony Brook', 'Stony Brook University': 'Suny At Stony Brook', 'Suny At Stonybrook': 'Suny At Stony Brook', 'University At Albany': 'Suny At Stony Brook', 'University College Of Swansea': 'Swansea University', 'Swathmore College': 'Swarthmore College', 'Swarthmore, Pennsylvania (City)': 'Swarthmore Pennsylvania United States (City)', \"Swedish Employers' Confederation\": 'Swedish Employers Confederation', 'Svenska Arbetsgivarefüreningen': \"Swedish Employers' Confederation\", 'Royal Agricultural College Of Sweden': 'Swedish University Of Agricultural Sciences', 'Swedish University of Agricultural Sciences': 'Swedish University Of Agricultural Sciences', 'Swiss Federal Institute Of Technology': 'Swiss Federal Institute Of Technology (Eth)', 'Institute Of Cybernetics, Tallinn': 'Tallinn University Of Technology', 'Universitat Dortmund': 'Technical University Dortmund', 'Technische Universität Berlin': 'Technical University Of Berlin', 'Technische Universitàt München': 'Technical University Of Munich', 'Technische Universitat Munchen': 'Technical University Of Munich', 'Technion – Israel Institute Of Technology': 'Technion - Israel Institute Of Technology', 'Technion — Israel Institute Of Technology': 'Technion - Israel Institute Of Technology', 'Technion, Israel': 'Technion - Israel Institute Of Technology', 'Technion- Israel Institute Of Technology': 'Technion - Israel Institute Of Technology', 'Technion-Israel Institute': 'Technion - Israel Institute Of Technology', 'Technion-Israel Institute Of Technology': 'Technion - Israel Institute Of Technology', 'Technion—Israel Institute Of Technology': 'Technion - Israel Institute Of Technology', 'Israel Institute Of Technology': 'Technion - Israel Institute Of Technology', 'Technion': 'Technion - Israel Institute Of Technology', 'Technion - Israel Institute of Technology': 'Technion - Israel Institute Of Technology', 'Technische Hochshule': 'Technische Hochschule', 'Institut Für Volkswirtschaft': 'Technische Universität Braunschweig', 'Teisherg Associates': 'Teisberg Associates', 'Tel- Aviv University': 'Tel Aviv University', 'Telaviv University': 'Tel Aviv University', 'Tel–Aviv University': 'Tel Aviv University', 'T4 Aviv University': 'Tel Aviv University', 'Th Aviv University': 'Tel Aviv University', 'University Of Tel Aviv': 'Tel Aviv University', 'School Of Mathematical Sciences, Tel Aviv University': 'Tel Aviv University', 'College Of Management, And Tel Aviv University': 'Tel Aviv University', 'École Nationale Des Télécommunications': 'Télécom Paris', 'Terza Universita! Di Roma': \"Terza Universita' Degli Studi Di Roma\", 'Texas A&M': 'Texas A & M University', 'Thammasart University': 'Thammasat University', 'The City College, New York': 'The City College, New York', 'The City College, New York City': 'The City College, New York', 'City College Of City University Of New York': 'The City College, New York', 'City College Of New York': 'The City College, New York', 'City College Of The City University Of New York': 'The City College, New York', 'The City College': 'The City College, New York', 'The Econometric Institute, Inc.': 'The Econometric Institute, Inc. (United States)', 'Graduate Institute Of International Studies': 'The Graduate Institute, Geneva (Iheid)', 'Graduate Institute Of International Studies, Geneva': 'The Graduate Institute, Geneva (Iheid)', 'Graduate Institute Of International Studies, Geneva, Switzerland': 'The Graduate Institute, Geneva (Iheid)', 'Graduate Institute, Geneva': 'The Graduate Institute, Geneva (Iheid)', 'Institut Universitaire De Hautes Etudes Internationales, Geneve': 'The Graduate Institute, Geneva (Iheid)', 'The National Institute of Statistics and Economic Studies (Paris)': 'The National Institute Of Statistics And Economic Studies', 'Institut National De La Statistique El Des Études Économiques, Centre De Recherche En': 'The National Institute Of Statistics And Economic Studies (Paris)', 'Institut National De La Statistique Et Des Etudes Economiques': 'The National Institute Of Statistics And Economic Studies (Paris)', 'Institut National De La Statistique Et Des Etudes Economiques, Paris': 'The National Institute Of Statistics And Economic Studies (Paris)', 'Institut National De La Statistique Et Des Etudes Economiques, Paris.': 'The National Institute Of Statistics And Economic Studies (Paris)', 'Institut National De La Statistique Et Des Études Économiques': 'The National Institute Of Statistics And Economic Studies (Paris)', 'Insee': 'The National Institute Of Statistics And Economic Studies (Paris)', 'Insee, Paris': 'The National Institute Of Statistics And Economic Studies (Paris)', 'Insee, Unite De Recherche': 'The National Institute Of Statistics And Economic Studies (Paris)', 'I.N.S.E.E.': 'The National Institute Of Statistics And Economic Studies (Paris)', 'I.N.S.E.E., Paris': 'The National Institute Of Statistics And Economic Studies (Paris)', 'Institute National De La Statistique Et Des Etudes Economiques, Paris': 'The National Institute Of Statistics And Economic Studies (Paris)', 'Manchester University': 'University Of Manchester', 'Sydney University': 'University Of Sydney', 'Thomas J Watson Research Center': 'Thomas J. Watson Research Center', 'Tiaa-Cref': 'Tiaa-Cref Institute', 'Tinbergen Institute': 'Tinbergen Institute Amsterdam', 'Tinvergen Institute': 'Tinbergen Institute Amsterdam', 'Tokyo (City)': 'Tokyo Japan (City)', 'Tokyo College Of Science': 'Tokyo University Of Science', 'Universita Di Roma Tor Vergata': 'Tor Vergata University Of Rome', 'Universidad Torcuato Di Tella': 'Torcuato Di Tella University', 'Universidad Torcuato Di Tila': 'Torcuato Di Tella University', 'Universidad Torcuato Di Télla': 'Torcuato Di Tella University', 'Instituto Torcuato Di Tella': 'Torcuato Di Tella University', 'Universidad Di Tella': 'Torcuato Di Tella University', 'Universitat Torcuato Di Tella': 'Torcuato Di Tella University', 'Toronto (City)': 'Toronoto Canada (City)', 'Toulouse School Of Economics (Gremaq': 'Toulouse School Of Economics', 'Trinity College London': 'Trinity College London', 'Trinity College, Dublin': 'Trinity College Dublin', 'Trinity Collage': 'Trinity College London', 'Trinity College Dublin': 'Trinity College London', 'The Ramo-Wooldridge Corporation': 'Trw Inc', 'Tshinghua University': 'Tsinghua University', 'Tünghua University': 'Tsinghua University', 'Tufts College': 'Tufts University', 'Fletcher School Of Law And Diplomacy': 'Tufts University', 'Turts University': 'Tufts University', 'Twentieth Century Fund Survey Of Cartels And Monopoly': 'Twentieth Century Fund', 'United States Agency For International Development': 'U. S. Agency For International Development', 'U S Agricultural Marketing Service': 'U. S. Agricultural Marketing Service', 'US Agricultural Marketing Services': 'U. S. Agricultural Marketing Services', 'United States Air Force': 'U. S. Air Force', 'United States Bureau Of Foreign And Domestic Commerce': 'U. S. Bureau Of Foreign And Domestic Commerce', 'United States Bureau Of Labor Statistics': 'U. S. Bureau Of Labor Statistics', 'United States Congressional Joint Economic Committee': 'U. S. Congressional Joint Economic Committee', 'U.S.Department Of Agriculture': 'U. S. Department Of Agriculture', 'United States Department Of Agriculture': 'U. S. Department Of Agriculture', 'United States Department Of Commerce': 'U. S. Department Of Commerce', 'United States Department Of Defense': 'U. S. Department Of Defense', 'United States Department Of Justice': 'U. S. Department Of Justice', 'United States Department Of Labor': 'U. S. Department Of Labor', 'United States Department Of State': 'U. S. Department Of State', 'United States General Accounting Office': 'U. S. General Accounting Office', 'United States Housing Authority': 'U. S. Housing Authority', 'United States Maritime Commission': 'U. S. Maritime Commission', 'United States Military Academy': 'U. S. Military Academy', 'United States Naval Ordnance Test Station': 'U. S. Naval Ordnance Test Station', 'United States Naval Reserve': 'U. S. Naval Reserve', 'U. S. Office Of Management And Budget*': 'U. S. Office Of Management And Budget', 'United States Navy': 'U. S. States Navy', 'United States Senate': 'U. S. States Senate', 'United States Steel Corporation': 'U. S. Steel Corporation', 'United States Tariff Commission': 'U. S. Tariff Commission', 'U. S. Department Of Agriculture': 'U.S. Department Of Agriculture', 'U. S. Agency For International Development': 'U.S. Agency For International Development', 'U. S. Agricultural Marketing Service': 'U.S. Agricultural Marketing Service', 'U. S. Agricultural Marketing Services': 'U.S. Agricultural Marketing Services', 'U. S. Air Force': 'U.S. Air Force', 'Us Air Force Academy': 'U.S. Air Force Academy', 'U. S. Army': 'U.S. Army', 'U.S. Army': 'U.S. Army Research Institute', 'Us Bureau Of Budget': 'U.S. Bureau Of Budget', 'U. S. Bureau Of Budget': 'U.S. Bureau Of Budget', 'Us Bureau Of Census': 'U.S. Bureau Of Census', 'U. S. Bureau Of Foreign And Domestic Commerce': 'U.S. Bureau Of Foreign And Domestic Commerce', 'Us Bureau Of Labor Statistics': 'U.S. Bureau Of Labor Statistics', 'U. S. Bureau Of Labor Statistics': 'U.S. Bureau Of Labor Statistics', 'Us Bureau Of The Census': 'U.S. Bureau Of The Census', 'U. S. Congressional Joint Economic Committee': 'U.S. Congressional Joint Economic Committee', 'Us Department': 'U.S. Department', 'Us Department Of Agriculture': 'U.S. Department Of Agriculture', 'U.S Department Of Agriculture': 'U.S. Department Of Agriculture', 'Us Department Of Commerce': 'U.S. Department Of Commerce', 'U. S. Department Of Commerce': 'U.S. Department Of Commerce', 'U.S Department Of Commerce': 'U.S. Department Of Commerce', 'U. S. Department Of Defense': 'U.S. Department Of Defense', 'Us Department Of Energy': 'U.S. Department Of Energy', 'U. S. Department Of Energy': 'U.S. Department Of Energy', 'Us Department Of Health And Human Services': 'U.S. Department Of Health And Human Services', 'Department Of Health, Education And Welfare': 'U.S. Department Of Health, Education And Welfare', 'Department Of Health, Education, And Welfare': 'U.S. Department Of Health, Education And Welfare', 'Department Of Housing And Urban Development': 'U.S. Department Of Housing And Urban Development', 'U.S. Department Of Housing': 'U.S. Department Of Housing And Urban Development', 'U S Department Of Justice': 'U.S. Department Of Justice', 'Department Of Justice': 'U.S. Department Of Justice', 'U. S. Department Of Justice': 'U.S. Department Of Justice', 'Us Department Of Justice': 'U.S. Department Of Justice', 'U.S. Department Of Labour': 'U.S. Department Of Labor', 'U. S. Department Of Labor': 'U.S. Department Of Labor', 'U S Department Of Labor': 'U.S. Department Of Labor', 'Department Of Labor': 'U.S. Department Of Labor', 'U.S Department Of Labor': 'U.S. Department Of Labor', 'Us Department Of Labor': 'U.S. Department Of Labor', 'Womens Bureau, U.S Department Of Labor': 'U.S. Department Of Labor', 'U. S. Department Of State': 'U.S. Department Of State', 'United States Treasury': 'U.S. Department Of The Treasury', 'United States Treasury Department': 'U.S. Department Of The Treasury', 'Us Treasury': 'U.S. Department Of The Treasury', 'Us Department Of Treasury': 'U.S. Department Of Treasury', 'U.S Forest Service': 'U.S. Forest Service', 'U. S. General Accounting Office': 'U.S. General Accounting Office', 'U. S. Housing Authority': 'U.S. Housing Authority', 'Us International Trade Commision, Washington': 'U.S. International Trade Commision, Washington', 'U. S. Maritime Commission': 'U.S. Maritime Commission', 'Us Military Academy': 'U.S. Military Academy', 'U. S. Military Academy': 'U.S. Military Academy', 'Us Naval Academy': 'U.S. Naval Academy', 'U. S. Naval Ordnance Test Station': 'U.S. Naval Ordnance Test Station', 'U. S. Naval Reserve': 'U.S. Naval Reserve', 'U. S. Office Of Management And Budget': 'U.S. Office Of Management And Budget', 'Securities And Exchange Commission': 'U.S. Securities And Exchange Commission', 'Us Securities And Exchange Commission': 'U.S. Securities And Exchange Commission', 'Us Senate Committee On The Budget Data Resources': 'U.S. Senate Committee On The Budget Data Resources', 'U. S. States Navy': 'U.S. States Navy', 'U. S. States Senate': 'U.S. States Senate', 'U. S. Steel Corporation': 'U.S. Steel Corporation', 'U. S. Tariff Commission': 'U.S. Tariff Commission', 'Facultes Universitaires Saint-Louis': 'Uclouvain Saint-Louis Brussels', 'University Of Tromse': 'Uit The Arctic University Of Norway', 'University Of Tromsø': 'Uit The Arctic University Of Norway', 'University Of Ulm': 'Ulm University', 'New University Of Ulster': 'Ulster University', 'Unicon Research': 'Unicon Research Corporation', 'United Kingdom': 'United Kingdom (Country)', 'United Nations At New York': 'United Nations', 'United Nations Conference On Trade': 'United Nations', 'United Nations Conference On Trade And Development': 'United Nations', 'United Nations Development Program': 'United Nations', 'United Nations Economic Commission For Asia And Far East, Bangkok': 'United Nations', 'United Nations Economic Commission For Latin America': 'United Nations', 'United Nations Industrial Development Organization (Unido)': 'United Nations', 'United Nations Relief And Rehabilitation Administration': 'United Nations', 'United Nations Secretariat': 'United Nations', 'United Nations Secretary': 'United Nations', 'United Research, Inc.': 'United Research Inc', 'United States': 'United States (Country)', 'Hq Usafa/Dfeg': 'United States Air Force Academy', 'Joint Economic Committee': 'United States Congressional Joint Economic Committee', 'Joint Economic Committee, U.S. Congress': 'United States Congressional Joint Economic Committee', 'Iseg Universidade Tecnica De Lisboa': 'Universidade De Lisboa', 'Iseg Universidade Técnica De Lisboa': 'Universidade De Lisboa', 'Universita Cattolica': 'Università Cattolica Del Sacro Cuore', 'Università Cattolica del Sacro Cuore': 'Università Cattolica Del Sacro Cuore', 'Universitá Di Cagliari': 'Università Degli Studi Di Cagliari', 'Finanza E Statistica': 'Università Di Bologna', 'Universitat Autònoma De Barcelona': 'Autonomous University Of\\xa0Barcelona', 'Universitat Autónoma De Barcelona': 'Autonomous University Of\\xa0Barcelona', 'Universitat Autonoma Barcelona': 'Autonomous University Of\\xa0Barcelona', 'Universitat Autonoma De Barcelona': 'Autonomous University Of\\xa0Barcelona', 'Institut Für Verkehrwissenschaft': 'Universität Münster', 'Institut Für Empirische Wirtschaftsforschung Der Universitát': 'Universität Münster', 'Universite Catholique De  Louvain': 'Catholic University Of Louvain', 'Universite Catholique De Louvain, Belgium': 'Catholic University Of Louvain', 'Uniuersite D’Aix-Marseille': \"Université D'Aix-Marseille\", 'Uniuersite D’Aix-Marseille Iii': \"Université D'Aix-Marseille Iii\", \"Ecole National Superieure Des Mines Et Institut De Statistique De I'Universite De Paris\": 'Universite De Paris', 'Universite Du Quebec A Montrea': 'Université Du Québec À Montréal', \"Universite Du Quebec A' Montreal\": 'Université Du Québec À Montréal', 'Ecare': 'Université Libre De Bruxelles', 'Ecare (Universite Libre De Bruxelles)': 'Université Libre De Bruxelles', 'Ecare, Brussels': 'Université Libre De Bruxelles', 'Ecares': 'Université Libre De Bruxelles', 'Unitersite Libre De Bruxelles': 'Université Libre De Bruxelles', 'Univenrsite Libre De Bruxelles': 'Université Libre De Bruxelles', 'Univensité Libre De Bruxelles': 'Université Libre De Bruxelles', 'Universite Libre De Bruxelles': 'Université Libre De Bruxelles', 'Universite ́ Libre De Bruxelles': 'Université Libre De Bruxelles', \"Universite' Libre De Bruxelles\": 'Université Libre De Bruxelles', 'Université Libre De Bruxelles': 'Université Libre De Bruxelles', 'Université Libre De Bruxelle': 'Université Libre De Bruxelles', 'European Centre For Advanced Research In Economics': 'Université Libre De Bruxelles', 'Université Lumieére': 'Université Lumière Lyon 2', 'University At Albany, Suny': 'University At Albany', 'Carlos Iii University': 'University Carlos Iii Of Madrid', 'Universidad Carlos Iii': 'University Carlos Iii Of Madrid', 'Universidad Carlos Iii De Madrid': 'University Carlos Iii Of Madrid', 'Universidad Carlos Iii Demadrid': 'University Carlos Iii Of Madrid', 'Universidad Carlos Iil': 'University Carlos Iii Of Madrid', 'University Carlos Iii De Madrid': 'University Carlos Iii Of Madrid', 'University Carlos Iii Of Madrid': 'University Carlos Iii Of Madrid', 'Carlos iii University': 'University Carlos Iii Of Madrid', 'University College, Dublin': 'University College Dublin', 'Royal Institute Of Technology': 'University In Stockholm', 'University Institute Of Economics': 'University Institute Of Economics, Oslo', 'University Institute Of Economics Oslo': 'University Institute Of Economics, Oslo', 'University Institute Of Statistics': 'University Institute Of Statistics, Uppsala', 'University Institute Of Statistics, Uppsala, Sweden': 'University Institute Of Statistics, Uppsala', 'University Of  Chicago, Chicago': 'University Of  Chicago', 'University Of Alabama In Huntsville': 'University Of Alabama', 'University Of Alaska, Fairbanks': 'University Of Alaska', 'Universidad De Alicante': 'University Of Alicante', 'Ald': 'University Of Allahabad', 'Universiteit Van Amsterdam': 'University Of Amsterdam', 'Mathematisch Centrum, Amsterdam': 'University Of Amsterdam', 'Economic Science Laboratory, University Of Arizona': 'University Of Arizona', 'University Of Auckland, New Zealand': 'University Of Auckland', 'University Of Berne': 'University Of Bern', 'World Trade Institute': 'University Of Bern', 'Universita Di Bologna': 'University Of Bologna', 'Università Degli Studi Di Bologna': 'University Of Bologna', 'Università Di Bologna': 'University Of Bologna', 'Università Di Bologna, Feem': 'University Of Bologna', 'University Of Bon': 'University Of Bonn', 'University Of Bonn, Germany': 'University Of Bonn', 'Universitat Bonn': 'University Of Bonn', 'Bonn University': 'University Of Bonn', 'Université Montesquieu Bordeaux': 'University Of Bordeaux', 'Universidad De Brasilia': 'University Of Brasília', 'Universita Di Brescia': 'University Of Brescia', 'Università Di Brescia': 'University Of Brescia', 'Universitá Di Brescia': 'University Of Brescia', 'University Of Bristol United Kingdom (City)': 'University Of Bristol', 'Dept. Of Mathematics And University Of British Columbia': 'University Of British Columbia', 'Univeversity Of British Columbia': 'University Of British Columbia', 'University Of British Colombia': 'University Of British Columbia', 'University Of British Columbia, Ca, Canada': 'University Of British Columbia', 'University Of British Columbia, Canada': 'University Of British Columbia', 'Institute Of Statistics, Actuarial Studies, And Calculus, Faculty Of Sciences, Bucharest': 'University Of Bucharest', 'The University Of Buffalo': 'University Of Buffalo', 'University Of California (Systems)': 'University Of California', 'University Of Californica (Systems)': 'University Of California', 'Univesity Of California': 'University Of California', 'Rady School Of Management': 'University Of California', 'University Of California, Berkeley': 'University Of California, Berkeley', 'University Of California, Berkeley, United States': 'University Of California, Berkeley', 'Ucb': 'University Of California, Berkeley', 'Department Of Mathematics, Ucb, Ca 94720, U.S.A.': 'University Of California, Berkeley', 'Uc Berkeley': 'University Of California, Berkeley', 'Ucd': 'University Of California, Davis', 'University Of California At Irvine': 'University Of California, Irvine', 'Uci': 'University Of California, Irvine', 'Ucl': 'University Of California, Irvine', 'University Of California, Los Angeles': 'University Of California, Los Angeles', 'Ucla': 'University Of California, Los Angeles', 'Dept. Of Economics, Ucla': 'University Of California, Los Angeles', 'Anderson Graduate School Of Management': 'University Of California, Los Angeles', 'Anderson Graduate School Of Management, Ucla': 'University Of California, Los Angeles', 'U.C.L.': 'University Of California, Los Angeles', 'Ucm': 'University Of California, Merced', 'Ucr': 'University Of California, Riverside', 'Ucr, Riverside': 'University Of California, Riverside', 'UCSD': 'University Of California, San Diego', 'Ucsd': 'University Of California, San Diego', 'Ucsf': 'University Of California, San Francisco', 'University Of California At Santa Barbara': 'University Of California, Santa Barbara', 'University Of California, Santa Barbara': 'University Of California, Santa Barbara', 'Ucsb': 'University Of California, Santa Barbara', 'Uscb': 'University Of California, Santa Barbara', 'Ucsc': 'University Of California, Santa Cruz', 'Clare College, Cambridge': 'University Of Cambridge', \"St. John'S College, Cambridge\": 'University Of Cambridge', 'Churchill College': 'University Of Cambridge', 'Department Of Applied Economics, University Of Cambridge': 'University Of Cambridge', \"King'S College\": 'University Of Cambridge', \"King'S College, Cambridge\": 'University Of Cambridge', 'University Of Cambridge Cambridge': 'University Of Cambridge', 'Magdalene College, Cambridge': 'University Of Cambridge', 'Newnan College': 'University Of Cambridge', 'Universidad De Cantabria': 'University Of Cantabria', 'University Of Canterbury, New Zealand': 'University Of Canterbury', 'Central Missouri State College': 'University Of Central Missouri', 'Central Missouri State Teachers College': 'University Of Central Missouri', 'University Of Cergy-Pontois': 'University Of Cergy-Pontoise', 'Booth School Of Business': 'University Of Chicago', 'Univesity Of Chicago': 'University Of Chicago', 'Univocity Of Chicago': 'University Of Chicago', 'Unwersity Of Chicago': 'University Of Chicago', 'The University Of Chicago': 'University Of Chicago', 'University Of Chicago Graduate School Of Business': 'University Of Chicago', 'University Of Chicago Law School': 'University Of Chicago', 'Economics Research Centerlnorc': 'University Of Chicago', 'Harris Graduate School Of Public Policy Studies': 'University Of Chicago', 'Harris School Of Public Policy Studies': 'University Of Chicago', 'Norc': 'University Of Chicago', 'National Opinion Research Center': 'University Of Chicago', 'University Of  Chicago': 'University Of Chicago', 'Institute Of Economics, University Of Copenhagen': 'University Of Copenhagen', 'University Of Copenhagen, Denmark': 'University Of Copenhagen', 'Universidad De Bilbao': 'University Of Deusto', 'University Of Duisburg': 'University Of Duisburg-Essen', 'The University, Dundee': 'University Of Dundee', 'Universitát  Erlangen-Nürnberg': 'University Of Erlangen-Nuremberg', 'University Of Essex, Colchester': 'University Of Essex', 'Universitá Di Firenze': 'University Of Florence', 'University Of Florida, Gainesville': 'University Of Florida', 'Florida University': 'University Of Florida', 'Freiburg University': 'University Of Freiburg', 'Universite De Fribourg': 'University Of Fribourg', 'University Of Ireland': 'University Of Galway', 'University Of Gdansk': 'University Of Gdańsk', 'Universite De Geneve': 'University Of Geneva', 'Universities Of Geneva': 'University Of Geneva', 'Université De Genève': 'University Of Geneva', 'Université Genéve': 'University Of Geneva', 'University College Of Ghana': 'University Of Ghana', 'University Of Gothenbu': 'University Of Gothenburg', 'University Of Göteborg': 'University Of Gothenburg', 'University Of Góttingen': 'University Of Gottingen', 'Institute Of Econometrics, University Of Groningen': 'University Of Groningen', 'Rijksuniversiteit Groningen': 'University Of Groningen', 'Universitàt Hamburg': 'University Of Hamburg', 'University College Of Hull': 'University Of Hull', 'University Of Illinois System': 'University Of Illinois', 'The University Of Illinois': 'University Of Illinois', 'University Of Illinois, United States': 'University Of Illinois', 'University Illinois At Chicago': 'University Of Illinois Chicago', 'University Of Illinois , Chicago Circle': 'University Of Illinois Chicago', 'University Of Illinois At Chicago': 'University Of Illinois Chicago', 'University Of Illinois At Chicago Circle': 'University Of Illinois Chicago', 'University Of Illinois Chicago Circle': 'University Of Illinois Chicago', 'University Of Illinois-Chicago Circle': 'University Of Illinois Chicago', 'University Of Illinois ,Champaign-Urbana': 'University Of Illinois Urbana-Champaign', 'University Of Illinois At Urbana': 'University Of Illinois Urbana-Champaign', 'University Of Illinois At Urbana-Champaign': 'University Of Illinois Urbana-Champaign', 'University Of Illinois Urbana-Champagne': 'University Of Illinois Urbana-Champaign', 'University Of Illinois Urbana-Champaign': 'University Of Illinois Urbana-Champaign', 'University Of Illinois, Champaign': 'University Of Illinois Urbana-Champaign', 'University Of Illinois, Champaign-Urbana': 'University Of Illinois Urbana-Champaign', 'University Of Illinois, Urbana': 'University Of Illinois Urbana-Champaign', 'University Of Illinois, Urbana-Champaign': 'University Of Illinois Urbana-Champaign', 'University Of Illinois Urban-Champagne': 'University Of Illinois Urbana-Champaign', 'University Of Illinois-Urbana-Champaign': 'University Of Illinois Urbana-Champaign', 'Urbana-Champaign': 'University Of Illinois Urbana-Champaign', 'University Of Lowa': 'University Of Iowa', 'The University Of Kansas': 'University Of Kansas', 'University Of Kent At Canterbury': 'University Of Kent', 'Institut Fur Statistik Und Unternehmensforschung': 'University Of Kiel', 'Universitat Konstanz': 'University Of Konstanz', 'University Of Constance': 'University Of Konstanz', 'University Of Lausanne, Switzerland': 'University Of Lausanne', \"Universite' De Lausanne\": 'University Of Lausanne', 'Universite De Lausanne': 'University Of Lausanne', 'Université De Lausanne': 'University Of Lausanne', 'Leeds University': 'University Of Leeds', 'Liege University': 'University Of Liège', 'Universites Of Liége': 'University Of Liège', 'University Of Lille': 'University Of Lille I', 'Birbeck College, London': 'University Of London', 'Birkbeck College': 'University Of London', 'City University Business School, London': 'University Of London', 'Royal Holloway University Of London': 'University Of London', 'London Business School': 'University Of London', 'London Graduate School Of Business Studies': 'University Of London', 'Northeast Louisiana University': 'University Of Louisiana Monroe', 'University Of Louvain-La-Neuve': 'University Of Louvain', 'Lucknow University': 'University Of Lucknow', 'Université Du Maine': 'University Of Maine', 'Universidad De Malaga': 'University Of Málaga', 'Universidad De Málaga': 'University Of Málaga', 'University Of Malaga': 'University Of Málaga', 'The University Manchester, England': 'University Of Manchester', 'The University of Manchester': 'University Of Manchester', 'Universität Mannheim': 'University Of Mannheim', 'Universitdt Mannheim': 'University Of Mannheim', 'Universitat Mannheim': 'University Of Mannheim', 'Mannheim University': 'University Of Mannheim', 'Universitüt Mannheim': 'University Of Mannheim', 'University Of Maryland At College Park': 'University Of Maryland', 'University Of Maryland At College Park At College Park': 'University Of Maryland', 'University Of Maryland College Park': 'University Of Maryland', 'Iris Center, University Of Maryland': 'University Of Maryland', 'University Of Massachusetts At Amherst': 'University Of Massachusetts Amherst', 'University Of Massachusetts-Amherst': 'University Of Massachusetts Amherst', 'University Of Massachusetts, Amherst': 'University Of Massachusetts Amherst', 'University Of Massachusetts Amhert': 'University Of Massachusetts Amherst', 'University Of Massachusetts At Boston': 'University Of Massachusetts Boston', 'University Of Massachusetts- Boston': 'University Of Massachusetts Boston', 'University Of Lowell': 'University Of Massachusetts Lowell', 'National Autonomous University of Mexico': 'University Of Mexico', 'University Of Michigan At Ann Arbor': 'University Of Michigan', 'University Of Michigan, Ann Arbor': 'University Of Michigan', 'The University Of Michigan': 'University Of Michigan', 'Universitá Statale—Bicocca': 'University Of Milan', 'University Of Minnesot': 'University Of Minnesota', 'The University Of Minnesota': 'University Of Minnesota', 'The University Of Missouri': 'University Of Missouri', 'University Of Kansas City': 'University Of Missouri, Kansas City', 'University Of Modena': 'University Of Modena And Reggio Emilia', \"Universite' De Mons-Hainaut\": 'University Of Mons-Hainaut', 'Université De Montreal': 'University Of Montreal', 'Université De Montréal': 'University Of Montreal', 'Université De Montréal, Montréal': 'University Of Montreal', 'Universite De Montreal': 'University Of Montreal', 'University of Montreal': 'University Of Montreal', 'Institut Fur Statistik': 'University Of Munich', 'Universidad De Murcia': 'University Of Murcia', 'University College, Nairobi': 'University Of Nairobi', 'Faculté Des Sciences Economiques Et Sociales': 'University Of Namur', 'University Of Naples': 'University Of Naples Federico Ii', 'Navarra University': 'University Of Navarra', 'Universidad De Navarra': 'University Of Navarra', 'University Of Nebraska-Lincoln': 'University Of Nebraska, Lincoln', 'University Of Nevada-Reno': 'University Of Nevada, Reno', 'University Of Nezo England, Australia': 'University Of New England', 'University Of New South Wales, Kensington': 'University Of New South Wales', 'University Of Nijmegan': 'University Of Nijmegen', 'University Of North Carolina Chapel Hill': 'University Of North Carolina At Chapel Hill', 'University Of North Carolina, Chapel Hill': 'University Of North Carolina At Chapel Hill', 'University Of North Carolina At Chapel': 'University Of North Carolina At Chapel Hill', 'Unc- Chapel Hill': 'University Of North Carolina At Chapel Hill', 'Universities Of Oregon': 'University Of Oregon', \"Université D'Orléans And Gremaq\": 'University Of Orléans', 'University Institute Of Economics, Oslo': 'University Of Oslo', 'University Of Osnabrueck And Cesifo': 'University Of Osnabrück', 'University Of Ottowa': 'University Of Ottawa', 'Ottawa University At Ottawa': 'University Of Ottawa', \"Universite' D'Ottawa\": 'University Of Ottawa', 'Statistics, University Of Oxford': 'University Of Oxford', 'All Souls College': 'University Of Oxford', 'All Souls College, Oxford': 'University Of Oxford', 'University Of Oxford University': 'University Of Oxford', 'Nuffield College': 'University Of Oxford', 'Nuffield College, Oxford': 'University Of Oxford', \"St. Catherine'S College\": 'University Of Oxford', \"St. Catherine'S College, Oxford\": 'University Of Oxford', \"St. Hugh'S College, Oxford\": 'University Of Oxford', \"St. Peter'S College\": 'University Of Oxford', 'Department Of Economics, University Of Oxford': 'University Of Oxford', 'Institute Of Statistics, Oxford': 'University Of Oxford', 'Institute Of Statistics, Oxford University': 'University Of Oxford', 'Oxford Institute Of Statistics': 'University Of Oxford', 'Oxford University': 'University Of Oxford', 'Oxford University Institute Of Statistics': 'University Of Oxford', 'Lincoln College, University Of Oxford': 'University Of Oxford', 'Said Business School': 'University Of Oxford', 'Wadham College': 'University Of Oxford', 'Università Di Padova': 'University Of Padova', 'Universite De Paris.': 'University Of Paris', 'Universite De Paris': 'University Of Paris', 'Paris University': 'University Of Paris', \"L'Universite De Paris\": 'University Of Paris', \"L'Universite De Paris (France)\": 'University Of Paris', 'Université De Pau': 'University Of Pau And The Adour Region', \"Université De Pau Et Des Pays De L'Adour\": 'University Of Pau And The Adour Region', 'Dept. Of Economics, University Of Pennsylvania': 'University Of Pennsylvania', 'Wharton School': 'University Of Pennsylvania', 'Wharton School Of Finance': 'University Of Pennsylvania', 'Wharton School Of Finance And Commerce': 'University Of Pennsylvania', 'Wharton School Of University Of Pennsylvania': 'University Of Pennsylvania', 'Wharton School, University Of Pennsylvania': 'University Of Pennsylvania', 'The University Of Pennsylvania': 'University Of Pennsylvania', 'University Of Pennsylvanie': 'University Of Pennsylvania', 'University Of Pennsylvannia': 'University Of Pennsylvania', 'University Of Pennyslvania': 'University Of Pennsylvania', 'University Of Pennysylvania': 'University Of Pennsylvania', 'University 0F Pennsylvania': 'University Of Pennsylvania', 'Caerp': 'University Of Pennsylvania', 'Universita Di Perugia': 'University Of Perugia', 'Universityl Of Pittsburgh': 'University Of Pittsburgh', 'University Of Pitisburgh': 'University Of Pittsburgh', 'Universitat Regensburg': 'University Of Regensburg', 'Richmond University': 'University Of Richmond', 'The University Of Rochester': 'University Of Rochester', 'University Of Rochester, Rochester, New York': 'University Of Rochester', 'Universidad De Salamanca': 'University Of Salamanca', 'Università Di Salerno': 'University Of Salerno', 'Universidad De San Andres': 'University Of San Andrés', 'Universidade De Santiago De Compostela': 'University Of Santiago De Compostela', 'Universidade De Sao Paulo': 'University Of São Paulo', 'Universitá Di Sassari': 'University Of Sassari', 'University College Of Sierra Leone': 'University Of Sierra Leone', 'University Of Southampton, U.K.': 'University Of Southampton', 'University, Southampton': 'University Of Southampton', 'USC': 'University Of Southern California', 'University Of Southern California Law Center': 'University Of Southern California', 'University Of Southern California, Cepr': 'University Of Southern California', 'University Of Southern California, Marshall School Of Business': 'University Of Southern California', 'Usc': 'University Of Southern California', \"St Salvator'S College, St Andrews\": 'University Of St. Andrews', 'University Of St Andreus': 'University Of St. Andrews', 'University Of St. Andrews': 'University Of St. Andrews', 'University Of St Andrews': 'University Of St. Andrews', 'Handelshochschule, St. Gallen, Switzerland': 'University Of St. Gallen', 'Handelshochschule': 'University Of St. Gallen', 'University Of St Gallen': 'University Of St. Gallen', 'University Of St.Gallen': 'University Of St. Gallen', 'College Of St. Thomas': 'University Of St. Thomas', 'The University of Sydney': 'University Of Sydney', 'University Of Technology, Loughborough': 'University Of Technology Loughborough', 'The University Of Texas': 'University Of Texas', 'The University Of Texas System': 'University Of Texas', 'University Of Texas System': 'University Of Texas', 'University Of Texas At Autin': 'University Of Texas At Austin', 'University Of Texas, Austin': 'University Of Texas At Austin', 'University Of Texas-San Antonio': 'University Of Texas At San Antonio', 'Universidad De Los Ande': 'University Of The Andes', 'Universidad De Los Andes': 'University Of The Andes', 'Universidad Del Pais Vasco': 'University Of The Basque Country', 'Universidad Del País Vasco': 'University Of The Basque Country', 'University Of Bilbao': 'University Of The Basque Country', 'Universite De La Mediterranee': 'University Of The Mediterranean', \"Université D'Aix-Marseille Ii\": 'University Of The Mediterranean', 'Université De La Mediterranée': 'University Of The Mediterranean', 'Universidad De La Republica': 'University Of The Republic', 'University College Of West Indies': 'University Of The West Indies', 'Tokyo College Of Economics': 'University Of Tokyo', 'Tokyo University': 'University Of Tokyo', 'University Of Toronto, Canada': 'University Of Toronto', 'Rotman School Of Management': 'University Of Toronto', 'Universite Toulouse': 'University Of Toulouse', 'University Of Toulouse': 'University Of Toulouse', 'Université De Toulouse': 'University Of Toulouse', 'Université De Toulouse I': 'University Of Toulouse', 'Université Toulouse': 'University Of Toulouse', 'Universite De Toulouse': 'University Of Toulouse', 'Universite Des Scciences Sociales De Toulouse': 'University Of Toulouse', 'Universite Des Sciences Sociales': 'University Of Toulouse', 'Universite Des Sciences Sociales De Toulouse': 'University Of Toulouse', 'Universite Des Sciences Sociales De Toulouse, France': 'University Of Toulouse', 'Universite Des Sciences Sociales, Toulouse': 'University Of Toulouse', \"Institut D' Economie Industrielle, Toulouse\": 'University Of Toulouse', 'Centre De Recherche De Toulouse': 'University Of Toulouse', 'Université Des Sciences Sociales': 'University Of Toulouse', 'Université Des Sciences Sociales De Toulouse': 'University Of Toulouse', 'Université Des Sciences Sociales, Toulouse': 'University Of Toulouse', 'University Of Social Sciences Of Toulouse': 'University Of Toulouse', 'Universite De Sciences Sociales De Toulouse': 'University Of Toulouse', 'Idei': 'University Of Toulouse', 'Idei (Université De Toulouse I), Ceras': 'University Of Toulouse', 'Idei Toulouse': 'University Of Toulouse', 'Idei, Gremaq, Ceras': 'University Of Toulouse', 'Idei-Gremaq': 'University Of Toulouse', 'Idei-R': 'University Of Toulouse', 'Idep': 'University Of Toulouse', 'Idet)': 'University Of Toulouse', \"Institut D'Economie Industrielle\": 'University Of Toulouse', \"Institut D'Economie Publique\": 'University Of Toulouse', 'Institut Deconomie Industrielle': 'University Of Toulouse', \"Institute D'Economie Industrielle\": 'University Of Toulouse', 'Univeristy Of Toulouse': 'University Of Toulouse', 'Universit Des Sciences Sociales De Toulouse': 'University Of Toulouse', \"Universite' Des Sciences Sociales De Toulouse\": 'University Of Toulouse', 'Universita Di Torino': 'University Of Turin', 'The University Of Uppsala': 'University Of Uppsala', 'Universidad De Valencia': 'University Of Valencia', 'Institut Fur Statistik Und Okonometrie': 'University Of Vienna', 'Universitát Wien': 'University Of Vienna', 'University Of Vienna Austria': 'University Of Vienna', 'University Of Vienna Austria (City)': 'University Of Vienna Austria', 'Universidade De Vigo': 'University Of Vigo', 'University College Of Wales': 'University Of Wales', 'Institute Of Applied Mathematics And Mechanics, University Of Warsaw': 'University Of Warsaw', 'University Of Washington In Seattle': 'University Of Washington', 'University Of Western Ontario, London': 'University Of Western Ontario', 'The University Of Western Ontario': 'University Of Western Ontario', 'University Of West Ontario': 'University Of Western Ontario', 'University Of Wisconsi': 'University Of Wisconsin', 'The University Of Wisconsin': 'University Of Wisconsin', 'University Of Wisconsin, Madison': 'University Of Wisconsin-Madison', 'University Of Wisconsin- Madison': 'University Of Wisconsin-Madison', 'University Of Wisconsin-Madison+V1223': 'University Of Wisconsin-Madison', 'University Of Wisconsin–Madison': 'University Of Wisconsin-Madison', 'University Of Wisconsin––Madison': 'University Of Wisconsin-Madison', 'Univensity Of Wisconsin-Madison': 'University Of Wisconsin-Madison', 'University Of Wisconsin Milwaukee': 'University Of Wisconsin-Milwaukee', 'University Of Wisconsin —Milwaukee': 'University Of Wisconsin-Milwaukee', 'University Of Wisconsin-Milwakee': 'University Of Wisconsin-Milwaukee', 'University Of Wisconsin-Milwaukee+V1042': 'University Of Wisconsin-Milwaukee', 'Unversity Of York': 'University Of York', 'University Pf Zurich': 'University Of Zurich', 'Institute For Empirical Research In Economics': 'University Of Zurich', 'Institute For Empirical Research In Economics, Zurich': 'University Of Zurich', 'Eth Zurich': 'University Of Zurich', 'Maison Des Sciences Economiques': 'University Paris 1', 'University Of Paris I': 'University Paris 1 Panthéon-Sorbonne', 'Université De Paris 1': 'University Paris 1 Panthéon-Sorbonne', 'Université De Paris I': 'University Paris 1 Panthéon-Sorbonne', 'Université De Paris': 'University Paris 1 Panthéon-Sorbonne', 'Université Paris I': 'University Paris 1 Panthéon-Sorbonne', 'University Paris I': 'University Paris 1 Panthéon-Sorbonne', 'Université Paris I Panthéon Sorbonne': 'University Paris 1 Panthéon-Sorbonne', 'Paris-I University': 'University Paris 1 Panthéon-Sorbonne', 'Paris I': 'University Paris 1 Panthéon-Sorbonne', 'University Of Paris 1': 'University Paris 1 Panthéon-Sorbonne', 'Universite Paris I': 'University Paris 1 Panthéon-Sorbonne', 'Universite Paris I Pantheon-Sorbonne': 'University Paris 1 Panthéon-Sorbonne', 'Universite De Paris I': 'University Paris 1 Panthéon-Sorbonne', 'Paris 1': 'University Paris 1 Panthéon-Sorbonne', 'Faculte De Droit Et Des Sciences Economiques De Paris': 'University Paris City', 'W. E. Upjohn Institute For Employment Research': 'Upjohn Institute For Employment Research', 'University Institute Of Statistics, Uppsala': 'Uppsala University', 'The Urban Institute': 'Urban Institute', 'Agricultural Marketing Administration  Washington, D.C.': 'Us Agricultural Marketing Services', 'Agricultural Marketing Service': 'Us Agricultural Marketing Services', 'Universidad De Valladolid': 'Valladolid University', 'Vanderbild University': 'Vanderbilt University', 'Owen Graduate School Of Management': 'Vanderbilt University', 'Vanguard': 'Vanguard Group', 'Veterans Administration Medical Center': 'Veterans Administration', 'Vienna': 'Vienna Austria (City)', 'Vienna University Of Commerce': 'Vienna University Of Economics And Business Administration', 'Vienna University Of Economics': 'Vienna University Of Economics And Business Administration', 'Technische Universitat Wien': 'Vienna University Of Technology', 'Technical University Of Vienna': 'Vienna University Of Technology', 'Virginia Polytechnic Institute': 'Virginia Polytechnic Institute & State University', 'Virginia Polytechnic Institute And State University': 'Virginia Polytechnic Institute & State University', 'Virginia Polytechnic Institute+S1462': 'Virginia Polytechnic Institute & State University', 'Virginia State University': 'Virginia Polytechnic Institute & State University', 'Virginia Tech': 'Virginia Polytechnic Institute & State University', 'Upjohn Institute For Employment Research': 'W. E. Upjohn Institute For Employment Research', 'Wageningen University': 'Wageningen University & Research', 'Washington (City)': 'Washington Dc (City)', 'Washington D.C': 'Washington Dc (City)', 'Washington D.C (City)': 'Washington Dc (City)', 'Washington Dc (City)': 'Washington Dc (City)', 'Washington DC Maryland United States (City)': 'Washington Dc (City)', 'Washington Dc Maryland United States (City)': 'Washington Dc (City)', 'Washington DC United States (City)': 'Washington Dc (City)', 'Washington Dc United States (City)': 'Washington Dc (City)', 'Washington, D. C.': 'Washington Dc (City)', 'Washington, D. C. (City)': 'Washington Dc (City)', 'Washington, D.C (City)': 'Washington Dc (City)', 'Washington, D.C.': 'Washington Dc (City)', 'Washington, D.C. (City)': 'Washington Dc (City)', 'Washington United States (CIty)': 'Washington Dc (City)', 'State College Of Washington': 'Washington State University', 'The State College Of Washington': 'Washington State University', 'Washington State College': 'Washington State University', 'Washington University In Saint Louis': 'Washington University In St Louis', 'Washington University In St. Louis': 'Washington University In St Louis', 'Washington University, St. Louis': 'Washington University In St Louis', 'Washington University': 'Washington University In St Louis', 'The University Of Washington': 'Washington University In St Louis', 'Washington University in St Louis': 'Washington University In St Louis', 'University Of Washington In St Louis': 'Washington University In St Louis', 'College Of The City Of Detroit': 'Wayne State University', 'Wayne University': 'Wayne State University', 'Wyne State University': 'Wayne State University', 'Institute For Applied Analysis And Stochastics': 'Weierstrass Institute', 'Weitzmann Institute Of Science': 'Weizmann Institute Of Science', 'Weselyan University': 'Wesleyan University', 'Western Washington State College': 'Western Washington University', 'Widenerr University': 'Widener University', 'Vice President, William M. Mercer, Incorporated': 'William M. Mercer, Incorporated', 'Williamstown United States (City)': 'Williamstown Massachusetts United States (City)', 'Wilton , New Hampshire (City)': 'Wilton New Hampshire (City)', 'Wissenschaftszentrum': 'Wissenschaftszentrum Berlin Für Sozialforschung (Wzb)', 'Wissenschaftszentrum Berlin': 'Wissenschaftszentrum Berlin Für Sozialforschung (Wzb)', 'Wissenschaftszentrum Berlin Für Sozialforschung': 'Wissenschaftszentrum Berlin Für Sozialforschung (Wzb)', 'Wissensciiaftszentrum Berlin Fur Sozialforschung, Germany': 'Wissenschaftszentrum Berlin Für Sozialforschung (Wzb)', 'University Of  Wissenschaftszentrum': 'Wissenschaftszentrum Berlin Für Sozialforschung (Wzb)', 'Wissensciiaftszentrum Berlin Fur Sozialforschung': 'Wissenschaftszentrum Berlin Für Sozialforschung (Wzb)', 'The World Bank': 'World Bank', 'Whn': 'World Health Network', 'Yahoo! Labs': 'Yahoo! Research', 'Yale  University': 'Yale University', 'Yale Law School': 'Yale University', 'Yale School Of Management': 'Yale University', 'Yale School Of Organization And Management': 'Yale University', 'Yale Univensity': 'Yale University', 'Yale Universit': 'Yale University', 'Yale University School Of Management': 'Yale University', 'Yale University,': 'Yale University', 'Yale University, National Bureau Of Economic Research': 'Yale University', 'Yale University, United States': 'Yale University', 'Yale University, University Of Auckland': 'Yale University', 'Cowles Comission': 'Yale University', 'Cowles Commission': 'Yale University', 'Cowles Commission For Research Economics': 'Yale University', 'Cowles Commission For Research In Economics': 'Yale University', 'Cowles Foundation': 'Yale University', 'Cowles Foundation For Research In Economics': 'Yale University', 'Cowles Foundation, Yale University': 'Yale University', 'Yokohama Municipal University': 'Yokohama City University', 'Zagreb, Yugoslavia': 'Zagreb Yugoslavia (City)', 'Administrative Studies, Newark': 'Rutgers University', 'Universität Göttingen': 'University Of Gottingen', 'University Paris 1': 'University Paris 1 Panthéon-Sorbonne', 'University Of South California': 'University Of Southern California', 'University Of Southern Carolina': 'University Of South Carolina', \"Banca D'Italia\": 'Bank Of Italy', 'Banco De Espania': 'Bank Of Spain', 'Banco De México': 'Bank Of Mexico', 'Baruch College City University Of New York': 'City University Of New York', 'Brevan Howard Asset Management Llp': 'Brevan Howard, Inc', 'California State University, Northridge': 'California State University At Northridge', 'Carelton University': 'Carleton University', 'Universidad Católica De Chile': 'Catholic University Of Chile', 'Universidade Catolica Portuguesa': 'Catholic University Of Portugal', 'Chapelle Universitaire Notre-Dame De La Paix': 'University Of Namur', 'Core': 'Centre For Operations Research And Econometrics (Core, France)', 'Csic, Barcelona': 'Consejo Superior De Investigaciones Científicas', 'Portuguese Catholic University': 'Catholic University Of Portugal', 'E.N.S.A.E. Malakoff': 'Ensae Paris', 'European Corporate Governance Institutefundación De Estudios De Economía Aplicada (Fedea, Spain)': 'Fundación De Estudios De Economía Aplicada (Fedea, Spain)'}\n",
      "<class 'dict'>\n"
     ]
    }
   ],
   "source": [
    "# Creating a dictionary for consolidation\n",
    "# Read in from Excel sheet, 2 columns first one with incorrect spelling and second one with correct spellig\n",
    "import pandas as pd\n",
    "\n",
    "Corrections = pd.read_excel('/Users/MattJohnson/Library/CloudStorage/OneDrive-UniversityofCapeTown/Masters_thesis/Data checks/consolidated list Final Use.xlsx', 'Final Consolidate')\n",
    "#cities = pd.read_excel('/Users/MattJohnson/Desktop/Affiliations/2_Extracting affilitations/2_Fuzzy matching/University list/consolidated list.xlsx', 'Cities')\n",
    "Corrections = Corrections[['Incorrect spelling', 'Correct spelling']]\n",
    "\n",
    "#Remove cities\n",
    "frames = [Corrections]\n",
    "consolidated_affiliations = pd.concat(frames)\n",
    "print(consolidated_affiliations.shape)\n",
    "\n",
    "for i in range(len(consolidated_affiliations)):\n",
    "    #Replaceing title case and stripping leading space\n",
    "    #affs.iat[i,0] = affs.iat[i,0].strip().title()\n",
    "    consolidated_affiliations.iloc[i]['Incorrect spelling'] = consolidated_affiliations.iloc[i]['Incorrect spelling'].strip()\n",
    "    consolidated_affiliations.iloc[i]['Correct spelling'] = consolidated_affiliations.iloc[i]['Correct spelling'].strip().title()\n",
    "    #affs.iat[i,0] = affs.iat[i,0].strip().upper()\n",
    "\n",
    "consolidated_affiliations_dict = consolidated_affiliations.set_index('Incorrect spelling').to_dict()['Correct spelling']\n",
    "print(consolidated_affiliations_dict)\n",
    "print(type(consolidated_affiliations_dict))"
   ]
  },
  {
   "cell_type": "code",
   "execution_count": 53,
   "metadata": {},
   "outputs": [],
   "source": [
    "import re\n",
    "for key in consolidated_affiliations_dict.keys():\n",
    "    unique['Affiliation'] = (unique['Affiliation']).where((unique['Affiliation'] != key) & (len(key) != len(unique['Affiliation'])), consolidated_affiliations_dict[key])\n"
   ]
  },
  {
   "cell_type": "code",
   "execution_count": 54,
   "metadata": {},
   "outputs": [
    {
     "data": {
      "text/html": [
       "<div>\n",
       "<style scoped>\n",
       "    .dataframe tbody tr th:only-of-type {\n",
       "        vertical-align: middle;\n",
       "    }\n",
       "\n",
       "    .dataframe tbody tr th {\n",
       "        vertical-align: top;\n",
       "    }\n",
       "\n",
       "    .dataframe thead th {\n",
       "        text-align: right;\n",
       "    }\n",
       "</style>\n",
       "<table border=\"1\" class=\"dataframe\">\n",
       "  <thead>\n",
       "    <tr style=\"text-align: right;\">\n",
       "      <th></th>\n",
       "      <th>Affiliation</th>\n",
       "      <th>aff_cum_counts</th>\n",
       "    </tr>\n",
       "  </thead>\n",
       "  <tbody>\n",
       "    <tr>\n",
       "      <th>0</th>\n",
       "      <td>Harvard University</td>\n",
       "      <td>1</td>\n",
       "    </tr>\n",
       "    <tr>\n",
       "      <th>1</th>\n",
       "      <td>A B Laffer Associates</td>\n",
       "      <td>1</td>\n",
       "    </tr>\n",
       "    <tr>\n",
       "      <th>2</th>\n",
       "      <td>Aalto University School Of Business</td>\n",
       "      <td>1</td>\n",
       "    </tr>\n",
       "    <tr>\n",
       "      <th>3</th>\n",
       "      <td>Aarhus Denmark (City)</td>\n",
       "      <td>1</td>\n",
       "    </tr>\n",
       "    <tr>\n",
       "      <th>4</th>\n",
       "      <td>Abdul Latif Jameel Poverty Action Lab</td>\n",
       "      <td>1</td>\n",
       "    </tr>\n",
       "  </tbody>\n",
       "</table>\n",
       "</div>"
      ],
      "text/plain": [
       "                             Affiliation  aff_cum_counts\n",
       "0                     Harvard University               1\n",
       "1                  A B Laffer Associates               1\n",
       "2    Aalto University School Of Business               1\n",
       "3                  Aarhus Denmark (City)               1\n",
       "4  Abdul Latif Jameel Poverty Action Lab               1"
      ]
     },
     "execution_count": 54,
     "metadata": {},
     "output_type": "execute_result"
    }
   ],
   "source": [
    "unique.head()"
   ]
  },
  {
   "cell_type": "code",
   "execution_count": 55,
   "metadata": {},
   "outputs": [
    {
     "name": "stdout",
     "output_type": "stream",
     "text": [
      "3394\n",
      "1534\n",
      "2035\n",
      "1359\n",
      "2035\n"
     ]
    }
   ],
   "source": [
    "print(len(unique.Affiliation))\n",
    "#unique.drop_duplicates(subset=['Affiliation'], inplace=True)\n",
    "not_fixed = unique.drop_duplicates(subset=['Affiliation'], keep = False)\n",
    "print(len(not_fixed))\n",
    "#print(len(unique.Affiliation))\n",
    "print(len(unique.Affiliation.unique()))\n",
    "print(len(unique.Affiliation) - len(unique.Affiliation.unique()))\n",
    "\n",
    "unique_post_con = unique.drop_duplicates(subset=['Affiliation'])\n",
    "print(len(unique_post_con))"
   ]
  },
  {
   "cell_type": "code",
   "execution_count": 56,
   "metadata": {},
   "outputs": [
    {
     "name": "stdout",
     "output_type": "stream",
     "text": [
      "3394\n",
      "1534\n",
      "2035\n",
      "1359\n",
      "2035\n"
     ]
    }
   ],
   "source": [
    "print(len(unique.Affiliation))\n",
    "#unique.drop_duplicates(subset=['Affiliation'], inplace=True)\n",
    "not_fixed = unique.drop_duplicates(subset=['Affiliation'], keep = False)\n",
    "print(len(not_fixed))\n",
    "#print(len(unique.Affiliation))\n",
    "print(len(unique.Affiliation.unique()))\n",
    "print(len(unique.Affiliation) - len(unique.Affiliation.unique()))\n",
    "\n",
    "unique_post_con = unique.drop_duplicates(subset=['Affiliation'])\n",
    "print(len(unique_post_con))"
   ]
  },
  {
   "cell_type": "code",
   "execution_count": 57,
   "metadata": {},
   "outputs": [
    {
     "data": {
      "text/html": [
       "<div>\n",
       "<style scoped>\n",
       "    .dataframe tbody tr th:only-of-type {\n",
       "        vertical-align: middle;\n",
       "    }\n",
       "\n",
       "    .dataframe tbody tr th {\n",
       "        vertical-align: top;\n",
       "    }\n",
       "\n",
       "    .dataframe thead th {\n",
       "        text-align: right;\n",
       "    }\n",
       "</style>\n",
       "<table border=\"1\" class=\"dataframe\">\n",
       "  <thead>\n",
       "    <tr style=\"text-align: right;\">\n",
       "      <th></th>\n",
       "      <th>Affiliation</th>\n",
       "      <th>aff_cum_counts</th>\n",
       "    </tr>\n",
       "  </thead>\n",
       "  <tbody>\n",
       "    <tr>\n",
       "      <th>0</th>\n",
       "      <td>Harvard University</td>\n",
       "      <td>1</td>\n",
       "    </tr>\n",
       "    <tr>\n",
       "      <th>1</th>\n",
       "      <td>A B Laffer Associates</td>\n",
       "      <td>1</td>\n",
       "    </tr>\n",
       "    <tr>\n",
       "      <th>2</th>\n",
       "      <td>Aalto University School Of Business</td>\n",
       "      <td>1</td>\n",
       "    </tr>\n",
       "    <tr>\n",
       "      <th>3</th>\n",
       "      <td>Aarhus Denmark (City)</td>\n",
       "      <td>1</td>\n",
       "    </tr>\n",
       "    <tr>\n",
       "      <th>4</th>\n",
       "      <td>Abdul Latif Jameel Poverty Action Lab</td>\n",
       "      <td>1</td>\n",
       "    </tr>\n",
       "  </tbody>\n",
       "</table>\n",
       "</div>"
      ],
      "text/plain": [
       "                             Affiliation  aff_cum_counts\n",
       "0                     Harvard University               1\n",
       "1                  A B Laffer Associates               1\n",
       "2    Aalto University School Of Business               1\n",
       "3                  Aarhus Denmark (City)               1\n",
       "4  Abdul Latif Jameel Poverty Action Lab               1"
      ]
     },
     "execution_count": 57,
     "metadata": {},
     "output_type": "execute_result"
    }
   ],
   "source": [
    "unique.head()"
   ]
  },
  {
   "cell_type": "code",
   "execution_count": 58,
   "metadata": {},
   "outputs": [
    {
     "name": "stdout",
     "output_type": "stream",
     "text": [
      "(3394, 2)\n",
      "(2035, 2)\n"
     ]
    },
    {
     "data": {
      "text/html": [
       "<div>\n",
       "<style scoped>\n",
       "    .dataframe tbody tr th:only-of-type {\n",
       "        vertical-align: middle;\n",
       "    }\n",
       "\n",
       "    .dataframe tbody tr th {\n",
       "        vertical-align: top;\n",
       "    }\n",
       "\n",
       "    .dataframe thead th {\n",
       "        text-align: right;\n",
       "    }\n",
       "</style>\n",
       "<table border=\"1\" class=\"dataframe\">\n",
       "  <thead>\n",
       "    <tr style=\"text-align: right;\">\n",
       "      <th></th>\n",
       "      <th>Affiliation</th>\n",
       "      <th>aff_cum_counts</th>\n",
       "    </tr>\n",
       "  </thead>\n",
       "  <tbody>\n",
       "    <tr>\n",
       "      <th>0</th>\n",
       "      <td>A B Laffer Associates</td>\n",
       "      <td>1</td>\n",
       "    </tr>\n",
       "    <tr>\n",
       "      <th>1</th>\n",
       "      <td>Aalto University School Of Business</td>\n",
       "      <td>1</td>\n",
       "    </tr>\n",
       "    <tr>\n",
       "      <th>2</th>\n",
       "      <td>Aarhus Denmark (City)</td>\n",
       "      <td>1</td>\n",
       "    </tr>\n",
       "    <tr>\n",
       "      <th>3</th>\n",
       "      <td>Aarhus University</td>\n",
       "      <td>16</td>\n",
       "    </tr>\n",
       "    <tr>\n",
       "      <th>4</th>\n",
       "      <td>Abdul Latif Jameel Poverty Action Lab</td>\n",
       "      <td>1</td>\n",
       "    </tr>\n",
       "  </tbody>\n",
       "</table>\n",
       "</div>"
      ],
      "text/plain": [
       "                             Affiliation  aff_cum_counts\n",
       "0                  A B Laffer Associates               1\n",
       "1    Aalto University School Of Business               1\n",
       "2                  Aarhus Denmark (City)               1\n",
       "3                      Aarhus University              16\n",
       "4  Abdul Latif Jameel Poverty Action Lab               1"
      ]
     },
     "execution_count": 58,
     "metadata": {},
     "output_type": "execute_result"
    }
   ],
   "source": [
    "unique2 = unique[['Affiliation','aff_cum_counts']]\n",
    "print(unique2.shape)\n",
    "unique2 = unique.groupby(['Affiliation']).sum().reset_index()\n",
    "#unique2 = unique2[['Affiliation', 'aff_cum_counts']]\n",
    "print(unique2.shape)\n",
    "unique2.head()"
   ]
  },
  {
   "cell_type": "code",
   "execution_count": 59,
   "metadata": {},
   "outputs": [],
   "source": [
    "# create a excel writer object\n",
    "with pd.ExcelWriter('/Users/MattJohnson/Desktop/Affiliations/2_Extracting affilitations/3_consolidation/Uniques/uniquev2.xlsx') as writer:\n",
    "    # use to_excel function and specify the sheet_name and index \n",
    "    # to store the dataframe in specified sheet\n",
    "    unique_post_con.to_excel(writer, sheet_name=\"unique_post_con\", index=False)\n",
    "    unique.to_excel(writer, sheet_name=\"unique\", index=False)\n",
    "    not_fixed.to_excel(writer, sheet_name=\"not_fixed\", index=False)\n",
    "    unique2.to_excel(writer, sheet_name=\"unique2\", index=False)"
   ]
  },
  {
   "cell_type": "code",
   "execution_count": 60,
   "metadata": {},
   "outputs": [],
   "source": [
    "#unique.to_excel('/Users/MattJohnson/Desktop/Affiliations/2_Extracting affilitations/3_consolidation/Uniques/uniquev2.xlsx') "
   ]
  }
 ],
 "metadata": {
  "kernelspec": {
   "display_name": "Python 3",
   "language": "python",
   "name": "python3"
  },
  "language_info": {
   "codemirror_mode": {
    "name": "ipython",
    "version": 3
   },
   "file_extension": ".py",
   "mimetype": "text/x-python",
   "name": "python",
   "nbconvert_exporter": "python",
   "pygments_lexer": "ipython3",
   "version": "3.9.6"
  }
 },
 "nbformat": 4,
 "nbformat_minor": 2
}
