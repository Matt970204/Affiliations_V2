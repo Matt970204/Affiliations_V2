{
 "cells": [
  {
   "cell_type": "code",
   "execution_count": 1,
   "metadata": {},
   "outputs": [
    {
     "name": "stdout",
     "output_type": "stream",
     "text": [
      "(22790, 41)\n"
     ]
    }
   ],
   "source": [
    "import pandas as pd\n",
    "JPE = pd.read_excel('/Users/MattJohnson/Desktop/Affiliations/2_Extracting affilitations/3_consolidation/merged_all_master.xlsx') \n",
    "print(JPE.shape)\n"
   ]
  },
  {
   "cell_type": "code",
   "execution_count": 2,
   "metadata": {},
   "outputs": [],
   "source": [
    "#AER\n",
    "\n",
    "JPE.rename(columns={\"authors_master\": \"authors\"}, inplace= True)\n",
    "JPE.rename(columns={\"year_master\": \"year\"}, inplace= True)\n",
    "JPE = JPE[['Journal_Name' ,'Authors_count', 'Authors_list', 'authors', 'Article_ID', 'content_type',\n",
    "'stable_url', 'year', 'Ref_type' ,\n",
    "'ref_string', 'ref_string_clean1', 'Screened', 'Manual',\n",
    "'0_Auth_affs_0', '0_Auth_affs_1', '0_Auth_affs_2', '0_Auth_affs_3', '0_Auth_affs_4', \n",
    "'1_Auth_affs_0' , '1_Auth_affs_1', '1_Auth_affs_2', '1_Auth_affs_3', '1_Auth_affs_4',\n",
    "'2_Auth_affs_0', '2_Auth_affs_1', '2_Auth_affs_2', '2_Auth_affs_3', '2_Auth_affs_4',\n",
    "'3_Auth_affs_0', '3_Auth_affs_1', '3_Auth_affs_2', '3_Auth_affs_3', '3_Auth_affs_4',\n",
    "'4_Auth_affs_0', '4_Auth_affs_1', '4_Auth_affs_2' , '4_Auth_affs_3',\n",
    "'5_Auth_affs_0',\n",
    "'6_Auth_affs_0','7_Auth_affs_0']]"
   ]
  },
  {
   "cell_type": "code",
   "execution_count": 18,
   "metadata": {},
   "outputs": [
    {
     "name": "stdout",
     "output_type": "stream",
     "text": [
      "       Article_ID  year     Aff number  \\\n",
      "0         2967475  1940  0_Auth_affs_0   \n",
      "18580     1807579  1940  0_Auth_affs_0   \n",
      "18579     1807578  1940  0_Auth_affs_0   \n",
      "18578     1807577  1940  0_Auth_affs_0   \n",
      "18577     1807576  1940  0_Auth_affs_0   \n",
      "\n",
      "                                        Affiliation  \n",
      "0      Cambridge Massachusetts United States (City)  \n",
      "18580                  University Of North Carolina  \n",
      "18579                         Brookings Institution  \n",
      "18578                            Harvard University  \n",
      "18577                        Washington, D.C (City)  \n",
      "(37788, 4)\n"
     ]
    }
   ],
   "source": [
    "melted = JPE.melt(id_vars= ['Article_ID','year'], value_vars=['0_Auth_affs_0', '0_Auth_affs_1', '0_Auth_affs_2', '0_Auth_affs_3', '0_Auth_affs_4', \n",
    "                                '1_Auth_affs_0' , '1_Auth_affs_1', '1_Auth_affs_2', '1_Auth_affs_3', '1_Auth_affs_4',\n",
    "                                '2_Auth_affs_0', '2_Auth_affs_1', '2_Auth_affs_2', '2_Auth_affs_3', '2_Auth_affs_4',\n",
    "                                '3_Auth_affs_0', '3_Auth_affs_1', '3_Auth_affs_2', '3_Auth_affs_3', '3_Auth_affs_4',\n",
    "                                '4_Auth_affs_0', '4_Auth_affs_1', '4_Auth_affs_2' , '4_Auth_affs_3',\n",
    "                                '5_Auth_affs_0',\n",
    "                                '6_Auth_affs_0','7_Auth_affs_0']).dropna()\n",
    "\n",
    "melted.rename(columns = {'variable':'Aff number'}, inplace = True)\n",
    "melted.rename(columns = {'value':'Affiliation'}, inplace = True)\n",
    "\n",
    "melted = melted.sort_values(by=['year'])\n",
    "\n",
    "print(melted.head())\n",
    "print(melted.shape)"
   ]
  },
  {
   "cell_type": "code",
   "execution_count": 4,
   "metadata": {},
   "outputs": [
    {
     "data": {
      "text/html": [
       "<div>\n",
       "<style scoped>\n",
       "    .dataframe tbody tr th:only-of-type {\n",
       "        vertical-align: middle;\n",
       "    }\n",
       "\n",
       "    .dataframe tbody tr th {\n",
       "        vertical-align: top;\n",
       "    }\n",
       "\n",
       "    .dataframe thead th {\n",
       "        text-align: right;\n",
       "    }\n",
       "</style>\n",
       "<table border=\"1\" class=\"dataframe\">\n",
       "  <thead>\n",
       "    <tr style=\"text-align: right;\">\n",
       "      <th></th>\n",
       "      <th>Affiliation</th>\n",
       "    </tr>\n",
       "  </thead>\n",
       "  <tbody>\n",
       "    <tr>\n",
       "      <th>0</th>\n",
       "      <td>Cambridge Massachusetts United States (City)</td>\n",
       "    </tr>\n",
       "    <tr>\n",
       "      <th>18580</th>\n",
       "      <td>University Of North Carolina</td>\n",
       "    </tr>\n",
       "    <tr>\n",
       "      <th>18579</th>\n",
       "      <td>Brookings Institution</td>\n",
       "    </tr>\n",
       "    <tr>\n",
       "      <th>18578</th>\n",
       "      <td>Harvard University</td>\n",
       "    </tr>\n",
       "    <tr>\n",
       "      <th>18577</th>\n",
       "      <td>Washington, D.C (City)</td>\n",
       "    </tr>\n",
       "  </tbody>\n",
       "</table>\n",
       "</div>"
      ],
      "text/plain": [
       "                                        Affiliation\n",
       "0      Cambridge Massachusetts United States (City)\n",
       "18580                  University Of North Carolina\n",
       "18579                         Brookings Institution\n",
       "18578                            Harvard University\n",
       "18577                        Washington, D.C (City)"
      ]
     },
     "execution_count": 4,
     "metadata": {},
     "output_type": "execute_result"
    }
   ],
   "source": [
    "melt_unique = pd.DataFrame(melted.Affiliation)\n",
    "melt_unique.columns = ['Affiliation']\n",
    "melt_unique.head()\n"
   ]
  },
  {
   "cell_type": "code",
   "execution_count": 19,
   "metadata": {},
   "outputs": [
    {
     "name": "stdout",
     "output_type": "stream",
     "text": [
      "37788\n",
      "3632\n"
     ]
    }
   ],
   "source": [
    "melted['aff_cum_counts'] = melted.groupby(['Affiliation']).cumcount()+1\n",
    "\n",
    "melted = melted[['Article_ID' ,'Aff number', 'Affiliation','year', 'aff_cum_counts']]\n",
    "melted.head()\n",
    "print(len(melted))\n",
    "\n",
    "melted = melted.drop_duplicates(subset=['Affiliation'], keep = 'last')\n",
    "print(len(melted))\n",
    "\n",
    "melted.to_excel('/Users/MattJohnson/Desktop/Affiliations/2_Extracting affilitations/3_consolidation/Uniques/melted.xlsx') "
   ]
  },
  {
   "cell_type": "code",
   "execution_count": 5,
   "metadata": {},
   "outputs": [],
   "source": [
    "melt_unique = pd.DataFrame(melted.Affiliation)\n",
    "melt_unique = melt_unique.sort_values('Affiliation').reset_index(drop=True)\n",
    "melt_unique.columns = ['Affiliation']\n",
    "melt_unique[\"Affiliation_corrected\"] = \"\"\n",
    "\n",
    "#for i in range(0,10):\n",
    "for i in range(len(melt_unique)):\n",
    "    #print(melt_unique.loc[i,'Affiliation'], i)\n",
    "    #print(melt_unique.loc[i]['Affiliation'])\n",
    "    melt_unique.loc[i,'Affiliation']  = melt_unique.loc[i]['Affiliation'].strip().rstrip(',').title()\n",
    "    #print('correct    ',melt_unique.loc[i,'Affiliation'],i)\n",
    "\n",
    "melt_unique = melt_unique.sort_values('Affiliation').reset_index(drop=True)"
   ]
  },
  {
   "cell_type": "code",
   "execution_count": 6,
   "metadata": {},
   "outputs": [
    {
     "name": "stdout",
     "output_type": "stream",
     "text": [
      "Trust\n"
     ]
    }
   ],
   "source": [
    "test = ' TRUST, '\n",
    "print(test.strip().rstrip(',').title())"
   ]
  },
  {
   "cell_type": "code",
   "execution_count": 7,
   "metadata": {},
   "outputs": [
    {
     "data": {
      "text/html": [
       "<div>\n",
       "<style scoped>\n",
       "    .dataframe tbody tr th:only-of-type {\n",
       "        vertical-align: middle;\n",
       "    }\n",
       "\n",
       "    .dataframe tbody tr th {\n",
       "        vertical-align: top;\n",
       "    }\n",
       "\n",
       "    .dataframe thead th {\n",
       "        text-align: right;\n",
       "    }\n",
       "</style>\n",
       "<table border=\"1\" class=\"dataframe\">\n",
       "  <thead>\n",
       "    <tr style=\"text-align: right;\">\n",
       "      <th></th>\n",
       "      <th>Affiliation</th>\n",
       "      <th>Affiliation_corrected</th>\n",
       "    </tr>\n",
       "  </thead>\n",
       "  <tbody>\n",
       "    <tr>\n",
       "      <th>0</th>\n",
       "      <td>(On Leave From) Harvard University</td>\n",
       "      <td></td>\n",
       "    </tr>\n",
       "    <tr>\n",
       "      <th>1</th>\n",
       "      <td>A B Laffer Associates</td>\n",
       "      <td></td>\n",
       "    </tr>\n",
       "    <tr>\n",
       "      <th>2</th>\n",
       "      <td>Aarhus Denmark (City)</td>\n",
       "      <td></td>\n",
       "    </tr>\n",
       "    <tr>\n",
       "      <th>3</th>\n",
       "      <td>Abdul Latif Jameel Poverty Action Lab</td>\n",
       "      <td></td>\n",
       "    </tr>\n",
       "    <tr>\n",
       "      <th>4</th>\n",
       "      <td>Aberdeen United Kingdom (City)</td>\n",
       "      <td></td>\n",
       "    </tr>\n",
       "  </tbody>\n",
       "</table>\n",
       "</div>"
      ],
      "text/plain": [
       "                             Affiliation Affiliation_corrected\n",
       "0     (On Leave From) Harvard University                      \n",
       "1                  A B Laffer Associates                      \n",
       "2                  Aarhus Denmark (City)                      \n",
       "3  Abdul Latif Jameel Poverty Action Lab                      \n",
       "4         Aberdeen United Kingdom (City)                      "
      ]
     },
     "execution_count": 7,
     "metadata": {},
     "output_type": "execute_result"
    }
   ],
   "source": [
    "melt_unique = melt_unique.sort_values('Affiliation').reset_index(drop=True)\n",
    "melt_unique.head()"
   ]
  },
  {
   "cell_type": "code",
   "execution_count": 8,
   "metadata": {},
   "outputs": [
    {
     "name": "stdout",
     "output_type": "stream",
     "text": [
      "3491\n",
      "(37788, 2)\n",
      "3491\n",
      "3491\n"
     ]
    },
    {
     "data": {
      "text/html": [
       "<div>\n",
       "<style scoped>\n",
       "    .dataframe tbody tr th:only-of-type {\n",
       "        vertical-align: middle;\n",
       "    }\n",
       "\n",
       "    .dataframe tbody tr th {\n",
       "        vertical-align: top;\n",
       "    }\n",
       "\n",
       "    .dataframe thead th {\n",
       "        text-align: right;\n",
       "    }\n",
       "</style>\n",
       "<table border=\"1\" class=\"dataframe\">\n",
       "  <thead>\n",
       "    <tr style=\"text-align: right;\">\n",
       "      <th></th>\n",
       "      <th>Affiliation</th>\n",
       "    </tr>\n",
       "  </thead>\n",
       "  <tbody>\n",
       "    <tr>\n",
       "      <th>0</th>\n",
       "      <td>(On Leave From) Harvard University</td>\n",
       "    </tr>\n",
       "    <tr>\n",
       "      <th>1</th>\n",
       "      <td>A B Laffer Associates</td>\n",
       "    </tr>\n",
       "    <tr>\n",
       "      <th>2</th>\n",
       "      <td>Aarhus Denmark (City)</td>\n",
       "    </tr>\n",
       "    <tr>\n",
       "      <th>3</th>\n",
       "      <td>Abdul Latif Jameel Poverty Action Lab</td>\n",
       "    </tr>\n",
       "    <tr>\n",
       "      <th>4</th>\n",
       "      <td>Aberdeen United Kingdom (City)</td>\n",
       "    </tr>\n",
       "  </tbody>\n",
       "</table>\n",
       "</div>"
      ],
      "text/plain": [
       "                             Affiliation\n",
       "0     (On Leave From) Harvard University\n",
       "1                  A B Laffer Associates\n",
       "2                  Aarhus Denmark (City)\n",
       "3  Abdul Latif Jameel Poverty Action Lab\n",
       "4         Aberdeen United Kingdom (City)"
      ]
     },
     "execution_count": 8,
     "metadata": {},
     "output_type": "execute_result"
    }
   ],
   "source": [
    "print(len(melt_unique.Affiliation.unique()))\n",
    "print(melt_unique.shape)\n",
    "\n",
    "unique = pd.DataFrame(melt_unique.Affiliation)\n",
    "unique.columns = ['Affiliation']\n",
    "\n",
    "#unique2 = pd.DataFrame(unique.Affiliation.unique())\n",
    "print(len(unique.Affiliation.unique()))\n",
    "#unique.drop_duplicates(subset=['Affiliation'], inplace=True)\n",
    "unique = unique.drop_duplicates(subset=['Affiliation'])\n",
    "print(len(unique))\n",
    "\n",
    "unique = unique.sort_values('Affiliation').reset_index(drop=True)\n",
    "unique.to_excel('/Users/MattJohnson/Desktop/Affiliations/2_Extracting affilitations/3_consolidation/Uniques/unique.xlsx') \n",
    "unique.head()\n",
    "#df = pd.dataframe()\n",
    "#df['column_name']=pd.Series(melted.Affiliation.unique())"
   ]
  },
  {
   "cell_type": "code",
   "execution_count": 9,
   "metadata": {},
   "outputs": [
    {
     "name": "stdout",
     "output_type": "stream",
     "text": [
      "                             Affiliation\n",
      "0     (On Leave From) Harvard University\n",
      "1                  A B Laffer Associates\n",
      "2                  Aarhus Denmark (City)\n",
      "3  Abdul Latif Jameel Poverty Action Lab\n",
      "4         Aberdeen United Kingdom (City)\n",
      "                             Affiliation\n",
      "0     (On Leave From) Harvard University\n",
      "1                  A B Laffer Associates\n",
      "2                  Aarhus Denmark (City)\n",
      "3  Abdul Latif Jameel Poverty Action Lab\n",
      "4         Aberdeen United Kingdom (City)\n",
      "3491\n"
     ]
    }
   ],
   "source": [
    "print(unique.head())\n",
    "unique_df = unique.drop_duplicates(subset=['Affiliation'])\n",
    "print(unique_df.head())\n",
    "print(len(unique_df))"
   ]
  },
  {
   "cell_type": "code",
   "execution_count": 10,
   "metadata": {},
   "outputs": [
    {
     "name": "stdout",
     "output_type": "stream",
     "text": [
      "(608, 2)\n",
      "{'Washington (City)': 'Washington DC (City)', 'Washington D.C': 'Washington DC (City)', 'Washington D.C (City)': 'Washington DC (City)', 'Washington DC (City)': 'Washington DC (City)', 'Washington Dc (City)': 'Washington DC (City)', 'Washington DC Maryland United States (City)': 'Washington DC (City)', 'Washington DC United States (City)': 'Washington DC (City)', 'Washington, D. C.': 'Washington DC (City)', 'Washington, D. C. (City)': 'Washington DC (City)', 'Washington, D.C (City)': 'Washington DC (City)', 'Washington, D.C.': 'Washington DC (City)', 'Washington, D.C. (City)': 'Washington DC (City)', 'Washington United States (CIty)': 'Washington DC (City)', 'Yale  University': 'Yale University', 'Yale Law School': 'Yale University', 'Yale School Of Management': 'Yale University', 'Yale School Of Organization And Management': 'Yale University', 'Yale Univensity': 'Yale University', 'Yale Universit': 'Yale University', 'Yale University School Of Management': 'Yale University', 'Yale University,': 'Yale University', 'Yale University, National Bureau Of Economic Research': 'Yale University', 'Yale University, United States': 'Yale University', 'Yale University, University Of Auckland': 'Yale University', 'Washington University In Saint Louis': 'Washington University in St Louis', 'Washington University In St. Louis': 'Washington University in St Louis', 'Washington University, St. Louis': 'Washington University in St Louis', 'Washington University': 'Washington University in St Louis', 'University Of  Chicago, Chicago': 'University Of  Chicago', 'University Illinois At Chicago': 'University Of Illinois Chicago', 'University Of Illinois , Chicago Circle': 'University Of Illinois Chicago', 'University Of Illinois ,Champaign-Urbana': 'University Of Illinois Urbana-Champaign', 'University Of Illinois At Chicago': 'University Of Illinois Chicago', 'University Of Illinois At Chicago Circle': 'University Of Illinois Chicago', 'University Of Illinois At Urbana': 'University Of Illinois Urbana-Champaign', 'University Of Illinois At Urbana-Champaign': 'University Of Illinois Urbana-Champaign', 'University Of Illinois Chicago Circle': 'University Of Illinois Chicago', 'University Of Illinois System': 'University Of Illinois', 'University Of Illinois Urbana-Champagne': 'University Of Illinois Urbana-Champaign', 'University Of Illinois Urbana-Champaign': 'University Of Illinois Urbana-Champaign', 'University Of Illinois, Champaign': 'University Of Illinois Urbana-Champaign', 'University Of Illinois, Champaign-Urbana': 'University Of Illinois Urbana-Champaign', 'University Of Illinois, Urbana': 'University Of Illinois Urbana-Champaign', 'University Of Illinois, Urbana-Champaign': 'University Of Illinois Urbana-Champaign', 'University Of Illinois-Chicago Circle': 'University Of Illinois Chicago', 'University Of Kent At Canterbury': 'University Of Kent', 'University Of Florida, Gainesville': 'University Of Florida', 'University Of Essex, Colchester': 'University Of Essex', 'University Of California (Systems)': 'University Of California', 'University Of California At Irvine': 'UCI', 'University Of California At Santa Barbara': 'UCSB', 'University Of California, Berkeley': 'UCB', 'University Of California, Berkeley, United States': 'UCB', 'University Of California, Los Angeles': 'UCLA', 'University Of California, San Diego': 'UCSD', 'University Of California, Santa Barbara': 'UCSB', 'University Of Californica (Systems)': 'University Of California', 'USC': 'UCSC', 'Ucb': 'UCB', 'Ucd': 'UCD', 'Uci': 'UCI', 'Ucl': 'UCI', 'Ucla': 'UCLA', 'Ucm': 'UCM', 'Ucr': 'UCR', 'Ucr, Riverside': 'UCR', 'Ucsb': 'UCSB', 'Ucsc': 'UCSC', 'Ucsd': 'UCSD', 'Uscb': 'UCSB', 'University Of Auckland, New Zealand': 'University Of Auckland', 'Trinity Collage': 'Trinity College London', 'Trinity College Dublin': 'Trinity College London', 'Trinity College, Dublin': 'Trinity College Dublin', 'Tufts College': 'Tufts University', 'Texas A&M': 'Texas A & M University', 'Tel- Aviv University': 'Tel Aviv University', 'Telaviv University': 'Tel Aviv University', 'Tel–Aviv University': 'Tel Aviv University', 'T4 Aviv University': 'Tel Aviv University', 'State University Of New York At Binghamton': 'Suny At Binghampton', 'Suny At Binghamton': 'Suny At Binghampton', 'Statistics, University Of Oxford': 'University Of Oxford', 'Rutgers - State University': 'Rutgers University', 'Rutgers College': 'Rutgers University', 'Rutgers, State University': 'Rutgers University', 'Rutgers, The State University': 'Rutgers University', 'Rutgers-State University': 'Rutgers University', 'Rutgers—The State University': 'Rutgers University', 'Resources For Future': 'Resources For The Future, Inc.', 'Resources For Future, Inc': 'Resources For The Future, Inc.', 'Resources For The Future': 'Resources For The Future, Inc.', 'Resources For The Future, Inc.': 'Resources For The Future, Inc.', 'Resources for the Future': 'Resources For The Future, Inc.', 'Northwesten University': 'Northwestern University', 'Northwestern Univensity': 'Northwestern University', 'Northwestern Universit': 'Northwestern University', 'Northwestem University': 'Northwestern University', 'Northwestern University, 2003 Sheridan Rd., Evanston, Il 60208-2400, U.S.A.': 'Northwestern University', 'Northwestern University, And': 'Northwestern University', 'Northwestern University, National Bureau Of Economic Research': 'Northwestern University', 'Northwestern Unviersity': 'Northwestern University', 'Bar-Iian University': 'Bar-IIan University', 'Bar-Ilan University': 'Bar-IIan University', 'Bar-Illan University': 'Bar-IIan University', 'Bell Communications Research': 'Bell Laboratories', 'Bell Telephone Laboratories': 'Bell Laboratories', 'Bell Telephone Laboratories, Inc.': 'Bell Laboratories', 'North Carolina State (U.N.C.)': 'North Carolina State University', 'North Carolina State College': 'North Carolina State University', 'New York': 'New York City (City)', 'New York (City)': 'New York City (City)', 'New York City': 'New York City (City)', 'New York City  (City)': 'New York City (City)', 'New York, N.Y ,(City)': 'New York City (City)', 'New York, New York (City)': 'New York City (City)', 'Nber': 'National Bureau Of Economic Research', 'National Bureau': 'National Bureau Of Economic Research', 'National Bureau For Economic Research': 'National Bureau Of Economic Research', 'National Bureau OF Economic Research': 'National Bureau Of Economic Research', 'National Bureau Of': 'National Bureau Of Economic Research', 'National Bureau Of E': 'National Bureau Of Economic Research', 'National Bureau Of Econnomic Research': 'National Bureau Of Economic Research', 'National Bureau Of Economic': 'National Bureau Of Economic Research', 'National Bureau Of Economic Research And Survey Research Center': 'National Bureau Of Economic Research', 'National Bureau Of Economic Research, Cambridge, Am 02138, U.Sa.': 'National Bureau Of Economic Research', 'National Bureau Of Economics Research': 'National Bureau Of Economic Research', 'N.B.E.R.': 'National Bureau Of Economic Research', 'Mit': 'Massachusetts Institute Of Technology', 'Massachusetts Institute Of Technology Poverty Action Lab': 'Massachusetts Institute Of Technology', 'Massachusetts Institute Of Technology, Washington, Dc': 'Massachusetts Institute Of Technology', 'Massachusetts Institute of Technology': 'Massachusetts Institute Of Technology', 'Manchester United Kingdom(City)': 'Manchester United Kingdom (City)', 'London School Of Econimics': 'London School Of Economics & Political Science', 'London School Of Economics': 'London School Of Economics & Political Science', 'London School Of Economics & Political Science': 'London School Of Economics & Political Science', 'London School Of Economics & Political Sciences': 'London School Of Economics & Political Science', 'London School Of Economics And Centre For Economic Performance': 'London School Of Economics & Political Science', 'London School Of Economics,': 'London School Of Economics & Political Science', 'Lexington (City)': 'Lexington Kentucky United States (City)', 'Lexington, Kentucky (City)': 'Lexington Kentucky United States (City)', \"Laboratoire D' Econometrie\": \"Laboratoire D'Econometric De L'Ecole Polytechnique\", \"Laboratoire D' Econometrie De L' Ecole Polytechnique\": \"Laboratoire D'Econometric De L'Ecole Polytechnique\", \"Laboratoire D'Econome'Trie De L'Ecole Polytechnique, Paris\": \"Laboratoire D'Econometric De L'Ecole Polytechnique\", \"Laboratoire D'Econometrie De 1'Ecole Polytechnique\": \"Laboratoire D'Econometric De L'Ecole Polytechnique\", \"Laboratoire D'Econometrie De I'Ecole Polytechnique\": \"Laboratoire D'Econometric De L'Ecole Polytechnique\", \"Laboratoire D'Econometrie De L'Ecole Polytechnique\": \"Laboratoire D'Econometric De L'Ecole Polytechnique\", \"Laboratoire D'Econometrie De L'Ecole Polytechnique, Paris\": \"Laboratoire D'Econometric De L'Ecole Polytechnique\", \"Laboratoire D'Economie Industrielle\": \"Laboratoire D'Econometric De L'Ecole Polytechnique\", \"Laboratoire D'Economie Industrielle, Crest-Insee\": \"Laboratoire D'Econometric De L'Ecole Polytechnique\", \"Laboratoire D'Economie Politique\": \"Laboratoire D'Econometric De L'Ecole Polytechnique\", \"Laboratoire D'Economérie\": \"Laboratoire D'Econometric De L'Ecole Polytechnique\", \"Laboratoire D'Econométrie De L'Ecole Polytechnique\": \"Laboratoire D'Econometric De L'Ecole Polytechnique\", 'John Hopkins University': 'Johns Hopkins University', 'Johns Hopkins Bologna Center': 'Johns Hopkins University', 'Indian Institute Of Management, Ahmedabad': 'Indian Institute Of Management', 'Indian Institute Of Management, Ahmedabad India': 'Indian Institute Of Management', 'Indian Institute Of Management, Ahmedebad': 'Indian Institute Of Management', 'Indian Institute Of Management, Calcutta': 'Indian Institute Of Management', 'Hebrew University': 'Hebrew University Of Jerusalem', 'Hebrew University Of Jerusalem': 'Hebrew University Of Jerusalem', 'Hebrew University Of Jerusalem, Israel': 'Hebrew University Of Jerusalem', 'Hebrew University Of Jerusalem, Royal Holloway University Of London': 'Hebrew University Of Jerusalem', 'Harvard Business School': 'Harvard University', 'Harvard Economic Research Project': 'Harvard University', 'Harvard Graduate School Of Business Administration': 'Harvard University', 'Harvard Institute For International Development': 'Harvard University', 'Harvard Institute Of Economic Research': 'Harvard University', 'Harvard University School Of Public Health': 'Harvard University', 'Harvard University, Cambridge, Ma': 'Harvard University', 'Harward University': 'Harvard University', 'Dept. Of Computer Science, Bar-Ilan University': 'Bar-IIan University', 'Dept. Of Economics, Ucla': 'UCLA', 'Dept. Of Economics, University Of Pennsylvania': 'University Of Pennsylvania', 'Dept. Of Managerial Economics And Decision Sciences, Kellogg Graduate School Of Management, Northwestern University': 'Northwestem University', 'Dept. Of Mathematics And University Of British Columbia': 'University Of British Columbia', 'Dept.Of Economics, Sumy Stony Brook': 'Suny At Stony Brook', 'Ben Gurion University': 'Ben Gurion University Of The Negev', 'Ben-Gurion University': 'Ben Gurion University Of The Negev', 'All Souls College': 'University Of Oxford', 'All Souls College, Oxford': 'University Of Oxford', 'University Of Oxford University': 'University Of Oxford', 'University Of Ottowa': 'University Of Ottawa', 'University Of North Carolina Chapel Hill': 'University Of North Carolina At Chapel Hill', 'University Of North Carolina, Chapel Hill': 'University Of North Carolina At Chapel Hill', 'University Of Nevada-Reno': 'University Of Nevada, Reno', 'University Of Nebraska-Lincoln': 'University Of Nebraska, Lincoln', 'University Of Massachusetts At Amherst': 'University Of Massachusetts Amherst', 'University Of Massachusetts-Amherst': 'University Of Massachusetts Amherst', 'University Of Massachusetts At Boston': 'University Of Massachusetts Boston', 'University Of Massachusetts- Boston': 'University Of Massachusetts Boston', 'University Of Maryland At College Park': 'University Of Maryland', 'University Of Maryland At College Park At College Park': 'University Of Maryland', 'University Of Maryland College Park': 'University Of Maryland', 'University Of Louvain-La-Neuve': 'University Of Louvain', 'University Of Lille': 'University Of Lille I', 'Anderson Graduate School Of Management': 'UCLA', 'Anderson Graduate School Of Management, Ucla': 'UCLA', 'Arthur D. Little': 'Arthur D. Little, Inc.', 'Athens School Of Economics': 'Athens University Of Economics And Business', 'Athens School Of Economics And Business': 'Athens University Of Economics And Business', 'Athens School Of Economics And Business Science': 'Athens University Of Economics And Business', 'Athens University': 'Athens University Of Economics And Business', 'Athens University Of Economics': 'Athens University Of Economics And Business', 'Austrian Institute For Economic Research': 'Austrian Institute Of Economic Research', 'Baltimore Maryland United States (City)': 'Baltimore Maryland (City)', 'Bank Of Isreal': 'Bank Of Israel', 'Baruch Coll, City Univ, New York, Ny': 'Baruch College City University Of New York', 'Baruch College': 'Baruch College City University Of New York', 'Bell Communications Research Inc.': 'Bell Laboratories', 'Berkeley, California': 'Berkeley California United States (City)', 'Berkeley (City)': 'Berkeley California United States (City)', 'Birmingham United Kingdom(City)': 'Birmingham United Kingdom (City)', 'Board Of Govenors Of The Federal Reserve System': 'Board Of Governors Of The Federal Reserve System', 'Board Of Governors Of Federal Reserve': 'Board Of Governors Of The Federal Reserve System', 'Board Of Governors Of Federal Reserve System': 'Board Of Governors Of The Federal Reserve System', 'Board Of Governors Of Federal Reserve Systems': 'Board Of Governors Of The Federal Reserve System', 'Board Of Governors Of The Federal Reserve': 'Board Of Governors Of The Federal Reserve System', 'Board Of Governors Of The Federal Reserve System, Washington, Dc': 'Board Of Governors Of The Federal Reserve System', 'Boards Of Governors Of Federal Reserve System': 'Board Of Governors Of The Federal Reserve System', 'Brookings Institutions': 'Brookings Institution', 'Brooking Institution': 'Brookings Institution', 'Brookings Institugon': 'Brookings Institution', 'Brookings Institute': 'Brookings Institution', 'Brown University And Survey Research Cent': 'Brown University', 'Cabnegie-Mellon University': 'Carnegie Mellon University', 'Carnegie- Mellon University': 'Carnegie Mellon University', 'Carnegie-Mellon University': 'Carnegie Mellon University', 'Carnegie–Mellon University': 'Carnegie Mellon University', 'Carnigie Mellon University': 'Carnegie Mellon University', 'Carnegie  Mellon University': 'Carnegie Mellon University', 'Carnegie Corporation': 'Carnegie Mellon University', 'Carnegie Endowment For International Peace': 'Carnegie Mellon University', 'Carnegie Institute Of Technology': 'Carnegie Mellon University', 'Chicago United States (City)': 'Chicago Illinois United States (City)', 'Chicago, Illinois': 'Chicago Illinois United States (City)', 'Chicago Illinois (City)': 'Chicago Illinois United States (City)', 'Chicago': 'Chicago Illinois United States (City)', 'Chicago (City)': 'Chicago Illinois United States (City)', 'Hec-Paris': 'Hec Paris', 'Hec': 'Hec Paris', 'Hec School Of Management': 'Hec Paris', 'Herio-Watt University': 'Heriot-Watt University', 'Humboldt Universitit Zu Berlin': 'Humboldt University Of Berlin', 'Humboldt University': 'Humboldt University Of Berlin', 'Humboldt University Berlin': 'Humboldt University Of Berlin', 'Humboldt Universitát Zu Berlin': 'Humboldt University Of Berlin', 'Humboldt-Universitat Zu Berlin': 'Humboldt University Of Berlin', 'Humboldt-Universitát Zu Berlin': 'Humboldt University Of Berlin', 'Morgan Stanley & Co': 'Morgan Stanley', 'Morgan Stanley & Company': 'Morgan Stanley', 'Morgan Stanley Dean Witter And Company': 'Morgan Stanley', 'Morgan Stanley, Inc': 'Morgan Stanley', 'Ottawa, Canada': 'Ottawa Canada (City)', 'Pittsford, New York (City)': 'Pittsford New York United States (City)', 'Pittsburgh Pennslyvania United States (City)': 'Pittsburgh Pennsylvania United States (City)', 'Bell Communications Research Inc': 'Bell Laboratories', 'Bell Communications': 'Bell Laboratories', 'At&T Co': 'At&T', 'At&T Bell Laboratories': 'Bell Laboratories', 'Central Planning Bureau (Netherlands)': 'Central Planning Bureau, The Netherlands', 'Central Planning Bureau (The Netherlands)': 'Central Planning Bureau, The Netherlands', 'Central Planning Bureau, The Hague': 'Central Planning Bureau, The Netherlands', 'Central Missouri State College': 'University of Central Missouri', 'Central Missouri State Teachers College': 'University of Central Missouri', 'Center For Advanced Study In Behavioral Sciences': 'Stanford University', 'Center For Advanced Study In Behavioural Sciences': 'Stanford University', 'Center For Advanced Study In The Behavioral Sciences': 'Stanford University', 'Clare College, Cambridge': 'University Of Cambridge', 'Claremont Graduate School': 'Claremont Graduate University', \"Claremont Men'S College\": 'Claremont Mckenna College', 'Claremont Men’S College': 'Claremont Mckenna College', 'Columbia Univensity': 'Columbia University', 'Cornell Univerisity': 'Cornell University', 'Cornell Universitv': 'Cornell University', 'Cornell University And Economics Research Center': 'Cornell University', 'Cornell College': 'Cornell University', 'Council Of Economic Advisers': 'Council Of Economic Advisors, Washington DC', 'Council Of Economic Advisers, Washington, Dc': 'Council Of Economic Advisors, Washington DC', 'Council Of Economic Advisors': 'Council Of Economic Advisors, Washington DC', 'Council Of Economic Advisors, Washington': 'Council Of Economic Advisors, Washington DC', 'Cowles Comission': 'Yale University', 'Cowles Commission': 'Yale University', 'Cowles Commission For Research Economics': 'Yale University', 'Cowles Commission For Research In Economics': 'Yale University', 'Cowles Foundation': 'Yale University', 'Cowles Foundation For Research In Economics': 'Yale University', 'Cowles Foundation, Yale University': 'Yale University', 'Dartmouth Collegge': 'Dartmouth College', 'Dartmouth Collage': 'Dartmouth College', 'Data Resources , Incorporated': 'Data Resources, Inc', 'Data Resources Incorporated': 'Data Resources, Inc', 'Data Resources. Inc': 'Data Resources, Inc', \"Ecole Nationale De La .Statistique Et De L'Administration Economique\": 'ENSAE Paris', \"Ecole Nationale De La Statique Et De L' Administration Economique\": 'ENSAE Paris', \"Ecole Nationale De La Statistique De L'Administration\": 'ENSAE Paris', \"Ecole Nationale De La Statistique Et De  L'Administration Economique\": 'ENSAE Paris', \"Ecole Nationale De La Statistique Et De I' Administration Economique\": 'ENSAE Paris', \"Ecole Nationale De La Statistique Et De L'Administration Economique\": 'ENSAE Paris', \"Ecole Nationale De La Statistique Et De L'Administration Economique (Ensae)\": 'ENSAE Paris', \"Ecole National De La Statisque Et De I' Administration Economique\": 'ENSAE Paris', \"Ecole Nationale Supdrieure Des Mines Et Institut De Statistique De L'Universitd De Paris\": 'École des Mines de Paris', 'Ecole Nationale Superieure Des Mines': 'École des Mines de Paris', 'Ecole Nationale Superieure Des Mines De Paris Et Centre National De La Recherche Scientifique': 'École des Mines de Paris', 'Ecloe Polytechnique': 'Ecole Polytechnique', 'Ecole  Polytechnique': 'Ecole Polytechnique', 'Ecole Des Hautes Etudes Commerciales, Montréal': 'HEC Montreal', 'Ecole Des Hautes Etudes Commerciales': 'HEC Algeria', 'Ecole Nationale Des Ponts & Chaussées, Paris': 'École des ponts ParisTech', 'Ecole Nationale Des Ponts Et Chaussees': 'École des ponts ParisTech', 'Ecole Nationale Des Ponts Et Chaussées': 'École des ponts ParisTech', 'Ecole Normale Supeieure': 'Ecole Normale Superieure', 'Ecole Normale Superieur': 'Ecole Normale Superieure', 'Ecole Normale Superieure De Cachan': 'Ecole Normale Superieure', 'Ecole Normale Supérieure': 'Ecole Normale Superieure', 'Ecole Nornale Supgrieure, Paris': 'Ecole Normale Superieure', 'Ecole Polytechnique Paris': 'Ecole Polytechnique', 'Econometric Institute, Rotterdam': 'Erasmus University Rotterdam', 'Erasmus Universiteit': 'Erasmus University Rotterdam', 'Erasmus Universiteit Rotterdam': 'Erasmus University Rotterdam', 'Erasmus University': 'Erasmus University Rotterdam', 'Erasmus University Rotterdam.': 'Erasmus University Rotterdam', 'Econometric Insitute Of The Netherlands School Of Economics': 'Erasmus University Rotterdam', 'Econometric Institute, Netherlands School Of Economics': 'Erasmus University Rotterdam', 'Netherlands School Of Economic': 'Erasmus University Rotterdam', 'Netherlands School Of Economics': 'Erasmus University Rotterdam', 'Netherlands School Of Economics, Rotterdam': 'Erasmus University Rotterdam', 'Netherland School Of Economics': 'Erasmus University Rotterdam', 'Netherlands Economic Institute, Rotterdam': 'Erasmus University Rotterdam', 'Educational Testing Service': 'Educational Testing Service, Washington DC', 'Educational Testing Service, 1800 K Street, N.W., Suite 900, Washington, Dc 20006': 'Educational Testing Service, Washington DC', 'Educational Testing Service, Washington': 'Educational Testing Service, Washington DC', 'Electric Power Research Institute': 'Electric Power Research Institute', 'Electric Power Research Institute, Palo Alto': 'Electric Power Research Institute', 'Electricité De France': 'Electricite De France', 'Freie Universitat Berlin': 'Free University Of Berlin', 'Free University Berlin': 'Free University Of Berlin', 'Fundacáo Getulio Vargas': 'Fundacao Getulio Vargas', 'Fundação Getulio Vargas': 'Fundacao Getulio Vargas', 'Fundação Getúlio Vabgas, Rio De Janeibo': 'Fundacao Getulio Vargas', 'Geneva, Switzerland': 'Geneva Switzerland (City)', 'Goethe University': 'Goethe University Frankfurt', 'Goethe University Of Frankfurt': 'Goethe University Frankfurt', 'Goethe Universitüt Frankfurt': 'Goethe University Frankfurt', 'Goethe-University': 'Goethe University Frankfurt', 'Goethe-Università': 'Goethe University Frankfurt', 'Goethe-Universitüt Frankfurt Am Main': 'Goethe University Frankfurt', 'Goldman Sachs & Co': 'Goldman Sachs', 'Goldman Sachs International Ltd': 'Goldman Sachs', 'Goldman School Of Public Policy': 'Goldman Sachs', 'Goldman, Sachs & Co': 'Goldman Sachs', 'Goldman, Sachs And Company': 'Goldman Sachs', 'Goldman, Sachs, & Co.': 'Goldman Sachs', 'Goldman-Sachs & Co': 'Goldman Sachs', 'Glasglow United Kingdom (City)': 'Glasgow United Kingdom (City)', 'Graduate Institute Of International Studies': 'The Graduate Institute, Geneva (IHEID)', 'Graduate Institute Of International Studies, Geneva': 'The Graduate Institute, Geneva (IHEID)', 'Graduate Institute Of International Studies, Geneva, Switzerland': 'The Graduate Institute, Geneva (IHEID)', 'Graduate Institute, Geneva': 'The Graduate Institute, Geneva (IHEID)', 'Graduate School Of Management, Northwestern University, Evanston, Illinois 60201, U.S.A.': 'Northwestem University', 'Graduate School Of Business, Stanford University, Stanford, Ca 94305, U.S.A.': 'Stanford University', 'Grinnel College': 'Grinnell College', 'Hanford Laboratories Operation, Richland, Washington': 'Hanford Laboratories Operation, General Electric Company', 'Harvard Economics': 'Harvard University', 'Herbrew University Of Jerusalem': 'Hebrew University Of Jersualem', 'Hebrew University, Jerusalem': 'Hebrew University Of Jersualem', 'Hong Kong University Of Science': 'Hong Kong University Of Science And Technology', 'Hongkong University Of Science': 'Hong Kong University Of Science And Technology', 'Österreichisches Institut Für Wirtschaftsforschung': 'Austrian Institute Of Economic Research', 'Üsterreichisches Institut Für Wirtschaftsforschung': 'Austrian Institute Of Economic Research', 'École Polytechnique': 'Ecole Polytechnique', 'École Polytechnique Fédérale De Lausanne': 'Ecole Polytechnique', 'École Polytechnique, Paris': 'Ecole Polytechnique', 'Woodrow Wilson School': 'Princeton University', 'Woodrow Wilson School And Princeton University': 'Princeton University', 'Wooprow Wilson School Or Public Affairs': 'Princeton University', 'Wissenschaftszentrum': 'Wissenschaftszentrum Berlin Für Sozialforschung (WZB)', 'Wissenschaftszentrum Berlin': 'Wissenschaftszentrum Berlin Für Sozialforschung (WZB)', 'Wissenschaftszentrum Berlin Für Sozialforschung': 'Wissenschaftszentrum Berlin Für Sozialforschung (WZB)', 'Wissensciiaftszentrum Berlin Fur Sozialforschung, Germany': 'Wissenschaftszentrum Berlin Für Sozialforschung (WZB)', 'University Of  Wissenschaftszentrum': 'Wissenschaftszentrum Berlin Für Sozialforschung (WZB)', 'Wharton School': 'University Of Pennsylvania', 'Wharton School Of Finance': 'University Of Pennsylvania', 'Wharton School Of Finance And Commerce': 'University Of Pennsylvania', 'Wharton School Of University Of Pennsylvania': 'University Of Pennsylvania', 'Wharton School, University Of Pennsylvania': 'University Of Pennsylvania', 'Weitzmann Institute Of Science': 'Weizmann Institute Of Science', 'Weselyan University': 'Wesleyan University', 'Virginia Polytechnic Institute': 'Virginia Polytechnic Institute & State University', 'Virginia Polytechnic Institute And State University': 'Virginia Polytechnic Institute & State University', 'Virginia Polytechnic Institute+S1462': 'Virginia Polytechnic Institute & State University', 'Virginia State University': 'Virginia Polytechnic Institute & State University', 'Virginia Tech': 'Virginia Polytechnic Institute & State University', 'Vienna University Of Commerce': 'Vienna University Of Economics And Business Administration', 'Vienna University Of Economics': 'Vienna University Of Economics And Business Administration', 'Vice President, William M. Mercer, Incorporated': 'William M. Mercer, Incorporated', 'Williamstown United States (City)': 'Williamstown Massachusetts United States (City)', 'Vrije Universiteit': 'Free University Amsterdam', 'Vrije Universiteit Amsterdam': 'Free University Amsterdam', 'Vrije University': 'Free University Amsterdam', 'Vu University Amsterdam': 'Free University Amsterdam', 'Free University': 'Free University Amsterdam', 'Vienna': 'Vienna Austria (City)', 'Veterans Administration Medical Center': 'Veterans Administration', 'Vanguard': 'Vanguard Group', 'Vanderbild University': 'Vanderbilt University', 'Upf': 'Pompeu Fabra University', 'Upf Barcelona': 'Pompeu Fabra University', 'Universitat Pompbu Fabra': 'Pompeu Fabra University', 'Universitat Pompeu Fabra': 'Pompeu Fabra University', 'Universitat Pompeu-Fabra': 'Pompeu Fabra University', 'Universite Catholique De  Louvain': 'Universite Catholique De Louvain', 'Universite Catholique De Louvain, Belgium': 'Universite Catholique De Louvain', 'University Institute Of Economics': 'University Institute Of Economics, Oslo', 'University Institute Of Economics Oslo': 'University Institute Of Economics, Oslo', 'University Institute Of Statistics': 'University Institute Of Statistics, Uppsala', 'University Institute Of Statistics, Uppsala, Sweden': 'University Institute Of Statistics, Uppsala', 'Thomas J Watson Research Center': 'Thomas J. Watson Research Center', 'Technion – Israel Institute Of Technology': 'Technion - Israel Institute Of Technology', 'Technion — Israel Institute Of Technology': 'Technion - Israel Institute Of Technology', 'Technion, Israel': 'Technion - Israel Institute Of Technology', 'Technion- Israel Institute Of Technology': 'Technion - Israel Institute Of Technology', 'Technion-Israel Institute': 'Technion - Israel Institute Of Technology', 'Technion-Israel Institute Of Technology': 'Technion - Israel Institute Of Technology', 'Technion—Israel Institute Of Technology': 'Technion - Israel Institute Of Technology', 'Th Aviv University': 'Tel Aviv University', '(On Leave From) Harvard University': 'Harvard University', 'Academia Sinica, Institute Of Social Sciences, Li Chuang, Szechuan, China': 'Academia Sinica', 'Aerospace Research Laboratories, Wright-Patterson Afb, Ohio': 'Aerospace Research Laboratories', 'Ald': 'University of Allahabad', 'Alfred P. Sloan Foundation': 'Alfred P Sloan Foundation', 'American Bar': 'American Bar Foundation', 'Hec Montréal': 'HEC Montreal', 'Hec Montreal': 'HEC Montreal', 'American Economic Asociation': 'American Economic Association', 'American Economics Association': 'American Economic Association', 'Analysis Group, Inc., San Francisco': 'Analysis Group, Inc', 'Aovama Gakuin University': 'Aoyama Gakuin University', 'Hec University Of Lausanne': 'HEC Lausanne', 'Hec University Of Lausanne And Fame': 'HEC Lausanne', 'Hec-Université De Lausanne': 'HEC Lausanne', 'I.N.S.E.E.': 'The National Institute of Statistics and Economic Studies (Paris)', 'I.N.S.E.E., Paris': 'The National Institute of Statistics and Economic Studies (Paris)', 'National Insitute Of Economic And Social Research': 'National Institute Of Economic And Social Research, London', 'National Institute Of Economic And Social Research': 'National Institute Of Economic And Social Research, London', 'National Institute Of Economic And Social Research And Statistics Commission': 'National Institute Of Economic And Social Research, London', 'New Haven, Ct': 'New Haven Conneticut United States (City)', 'New Haven Connecticut United States (City)': 'New Haven Conneticut United States (City)', 'New Haven': 'New Haven Conneticut United States (City)', 'New Economic School': 'New Economic School, Moscow', 'National Centre For Scientific Research (Cnrs, France)': 'National Centre for Scientific Research (Cnrs, France)', 'National Centre For Scientific Research (Cnrs, France)-Cerses': 'National Centre for Scientific Research (Cnrs, France)', 'National Centre For Scientific Research (Cnrs, France)-Eurequa': 'National Centre for Scientific Research (Cnrs, France)', 'Cnrs': 'National Centre for Scientific Research (Cnrs, France)', 'Cnrs-Eurequa': 'National Centre for Scientific Research (Cnrs, France)', 'Cnrs-Umr': 'National Centre for Scientific Research (Cnrs, France)', 'National Center For Health Services Research And Development': 'National Center For Health Services Research', 'National Center For Health Services Research And Health Care Technology Assessment': 'National Center For Health Services Research', 'National Economic Research Associates, Inc': 'National Economic Research Associates', 'National Economic Research Associates, New Yok': 'National Economic Research Associates', 'National Economic Research Associats': 'National Economic Research Associates', 'National War Labor Board': 'National War Labor Board In Washington', 'National Planning Assocation': 'National Planning Association', 'New School For Social Research, New York City': 'New School For Social Research', 'New York University Graduate School Of Business Administration': 'New York University', 'Norwegian School Of Economics And Business': 'Norwegian School Of Economics', 'Norwegian School Of Economics And Business  Administration': 'Norwegian School Of Economics', 'Norwegian School Of Economics And Business Administration': 'Norwegian School Of Economics', 'Nuffield College': 'University Of Oxford', 'Nuffield College, Oxford': 'University Of Oxford', 'Oberlin College': 'Oberlin College & Conservatory', 'Queens Collegge': 'Queens College', \"Queen'S College\": 'Queens College', 'Queen\"S University': \"Queen's University\", \"Queen'S University\": \"Queen's University\", \"Queen'S University, Canada\": \"Queen's University\", \"Queen'S University, Kingston, Ontario\": \"Queen's University\", \"Queen'S University, Ontario\": \"Queen's University\", 'Queen Mary College': 'Queen Mary University Of London', 'Rand Corportation': 'Rand Corporation', 'Real Estate Research Corporation, Chicago': 'Real Estate Research Corporation', 'Real Estate Research Corporation, Los Angeles, California': 'Real Estate Research Corporation', 'Real Estate Research Córporation, Los Angeles, California': 'Real Estate Research Corporation', 'Research Analysis Corporation, Mclean, Virginia': 'Research Analysis Corporation', 'Audits Of Great Britain, Ltd': 'Audits Of Great Britain', 'Babson Institute': 'Babson College', 'Banca Ditalia': \"Banca D'Italia\", 'Banco Cental De Chile': 'Banco Central De Chile', 'Bank For International Settlements': 'Bank For International Settlements, Basle', 'Banque De France-Dge-Deer': 'Banque De France', 'Bard College Of Columbia University': 'Columbia University', 'Birbeck College, London': 'University Of London', 'Birkbeck College': 'University Of London', 'Booth School Of Business': 'University Of Chicago', 'Boulevard De Con- Stance': 'Boulevard De Constance', \"St Salvator'S College, St Andrews\": 'University Of St Andrews', \"St. Catherine'S College\": 'University Of Oxford', \"St. Catherine'S College, Oxford\": 'University Of Oxford', \"St. Hugh'S College, Oxford\": 'University Of Oxford', \"St. John'S College, Cambridge\": 'University Of Cambridge', \"St. Martin'S College\": \"Saint Martin's University\", \"St. Peter'S College\": 'University Of Oxford', 'Box B. Brown University': 'Brown University', 'Bradeis University': 'Brandeis University', 'Brimmer And Company, Inc.': 'Brimmer And Company', 'Brimmer & Co., Inc. Washington': 'Brimmer And Company', 'Stan/Ord University': 'Stanford  University', 'Stanford Business School': 'Stanford  University', 'Stanford University  University': 'Stanford  University', 'Stanford University Working Paper': 'Stanford  University', 'Stanford University, Stanford': 'Stanford  University', 'Stanford Unizersity': 'Stanford  University', 'Stanford, California United States (State)': 'Stanford California United States (City)', 'Brisbane, Queensland, Australia': 'Brisbane Australia (City)', 'State Department Of Public Service New York, N. Y.': 'State Department Of Public Service  New York', 'State Department Of Public Service, New York, N. Y': 'State Department Of Public Service  New York', 'State College Of Washington': 'Washington State University', 'Brooklyn New York (City)': 'Brooklyn New York United States (City)', 'State University Of New York, Buffalo': 'Suny At Buffalo', \"Bureau D'Economie Théorique Et Appliquée\": \"Bureau D'Économie Théorique Et Appliquée\", 'State Statistical Bureau, Calcutta, India': 'State Statistical Bureau, Calcutta', 'Thammasart University': 'Thammasat University', 'The Brookings Institute': 'Brookings Institution', 'The Brookings Institution': 'Brookings Institution', 'The Brookings Institution, Washington, Dc': 'Brookings Institution', 'Bureau Of The Census': 'Bureau Of Census', 'C.E.P.R.': 'Centre For Economic Policy Research (Cepr, England)', 'The City College, New York': 'The City College, New York', 'The City College, New York City': 'The City College, New York', 'City College Of City University Of New York': 'The City College, New York', 'City College Of New York': 'The City College, New York', 'City College Of The City University Of New York': 'The City College, New York', 'The Hebrew University Of Jerusalem': 'Hebrew University Of Jersualem', 'C.N.R.S.': 'Centre national de la recherche scientifique (CNRS, France)', 'The Hoover Institution': 'Hoover Institution', 'Tinbergen Institute': 'Tinbergen Institute Amsterdam', 'Tinvergen Institute': 'Tinbergen Institute Amsterdam', 'C.S.I.R.O': 'Commonwealth Scientific and Industrial Research Organisation (Austalia)', 'Toulouse School Of Economics (Gremaq': 'Toulouse School Of Economics', 'University Of Minnesot': 'University Of Minnesota', 'California Institute Of Technology Pasedena': 'California Institute Of Technology', 'California State University-Hayward': 'California State University At Hayward', 'California State University-Long Beach': 'California State University At Long Beach', 'University Of Michigan At Ann Arbor': 'University Of Michigan', 'University Of Michigan, Ann Arbor': 'University Of Michigan', 'Californiia Institute Of Technology': 'California Institute Of Technology', 'Cambridge (City)': 'Cambridge Massachusetts United States (City)', 'Cambridge Massachusetts (City)': 'Cambridge Massachusetts United States (City)', 'Cambridge. Massachusetts (City)': 'Cambridge Massachusetts United States (City)', 'University Of Southern California Law Center': 'University Of Southern California', 'University Of Southern California, Cepr': 'University Of Southern California', 'University Of Southern California, Marshall School Of Business': 'University Of Southern California', 'University Of St Andreus': 'University Of St Andrews', 'University Of St. Andrews': 'University Of St Andrews', 'Canadian Institute For Advanced Research': 'Canadian Institute For Advanced Research (Ciar)', 'Canadian National Railways, Montreal': 'Canadian National Railways', 'Canational Bureau Of Economic Researchra City': 'Canberra Australia (City)', 'University Of Tel Aviv': 'Tel Aviv University', 'University Of Toronto, Canada': 'University Of Toronto', 'University Of Texas At Autin': 'University Of Texas At Austin', 'University Of Texas, Austin': 'University Of Texas At Austin', 'University Of Texas-San Antonio': 'University Of Texas At San Antonio', 'Capital Guidence': 'Capital Guidance', 'University Of Vienna Austria (City)': 'University Of Vienna Austria', 'University Of Western Ontario, London': 'University Of Western Ontario', 'University Of Wisconsi': 'University Of Wisconsin', 'Carleton College, Minnesota': 'Carleton College', 'University Of Wisconsin Milwaukee': 'University Of Wisconsin-Milwaukee', 'University Of Wisconsin —Milwaukee': 'University Of Wisconsin-Milwaukee', 'University Of Wisconsin, Madison': 'University Of Wisconsin-Madison', 'University Of Wisconsin- Madison': 'University Of Wisconsin-Madison', 'University Of Wisconsin-Madison+V1223': 'University Of Wisconsin-Madison', 'University Of Wisconsin-Milwakee': 'University Of Wisconsin-Milwaukee', 'University Of Wisconsin-Milwaukee+V1042': 'University Of Wisconsin-Milwaukee', 'University Of Wisconsin–Madison': 'University Of Wisconsin-Madison', 'University Of Wisconsin––Madison': 'University Of Wisconsin-Madison', 'Carlos Iii University': 'Carlos iii University', 'University Pf Zurich': 'University Of Zurich', 'Case Western Reserve': 'Case Western Reserve University', 'Cdc': 'Centers for Disease Control and Prevention', 'Univesity Of California': 'University Of California', 'Univesity Of Chicago': 'University Of Chicago', 'Univeversity Of British Columbia': 'University Of British Columbia', 'Univocity Of Chicago': 'University Of Chicago', 'Unversity Of York': 'University Of York', 'Unwersity Of Chicago': 'University Of Chicago', 'Cefir': 'Centre for Economic and Financial Research (CEFIR, Sweden)', 'Cemfi': 'Center for Monetary and Financial Studies (CEMFI, Madrid)', 'Catholic University Of Louvain.': 'Catholic University Of Louvain', 'Cemfi, Casado Del Alisal': 'Center for Monetary and Financial Studies (CEMFI, Madrid)', 'Cemfi, Madrid': 'Center for Monetary and Financial Studies (CEMFI, Madrid)', 'Cemi, Russian Academy Of Sciences': 'Central Economic Mathematical Institute (CEMI, Russia)', 'Cemmap': 'Centre for Microdata Methods and Practice (cemmap, England)', 'Center For Economic Policy Research': 'Centre For Economic Policy Research (Cepr, England)', 'Center For Economic Reseach And Applications (Cepremap, France), Paris': 'Center For Economic Reseach And Applications (Cepremap, France)', 'Center For Economic Reseach And Applications (Cepremap, France), Paris, France': 'Center For Economic Reseach And Applications (Cepremap, France)', 'Center For Economic Studies-Ifo': 'Center of Economic Studies (CES, Germany)', 'Center For Economic Studies—Ifo': 'Center of Economic Studies (CES, Germany)', 'Central Bank Of China, Hong Kong': 'Central Bank Of China', 'Centre D Enseignement Et De Recherche En Analyse': \"Centre D'Enseignement Et De Recherche En Analyse\", \"Centre D'Enseignement Et De Recherches En Analyse Socio-\": \"Centre D'Enseignement Et De Recherche En Analyse\", \"Centre D'Etudes Prospectives D'Economie Mathematique Appliques A La Planification\": \"Centre D'Etudes Prospectives D'Economie Mathematique Appliquées A La Planification (Cepremap ,Franse)\", 'Cepremap': \"Centre D'Etudes Prospectives D'Economie Mathematique Appliquées A La Planification (Cepremap ,Franse)\", 'Centre De Recerca En Economia International': 'Centre De Recerca En Economia Internacional (Crei, Barcelona)', 'Centre De Recerca In Economia Internacional': 'Centre De Recerca En Economia Internacional (Crei, Barcelona)', 'Crei': 'Centre De Recerca En Economia Internacional (Crei, Barcelona)', 'Crei, Barcelona': 'Centre De Recerca En Economia Internacional (Crei, Barcelona)'}\n",
      "<class 'dict'>\n"
     ]
    }
   ],
   "source": [
    "# Creating a dictionary for consolidation\n",
    "# Read in from Excel sheet, 2 columns first one with incorrect spelling and second one with correct spellig\n",
    "import pandas as pd\n",
    "\n",
    "Corrections = pd.read_excel('/Users/MattJohnson/Library/CloudStorage/OneDrive-UniversityofCapeTown/Masters_thesis/Data checks/consolidated list Final Use.xlsx', 'Final Consolidate')\n",
    "#cities = pd.read_excel('/Users/MattJohnson/Desktop/Affiliations/2_Extracting affilitations/2_Fuzzy matching/University list/consolidated list.xlsx', 'Cities')\n",
    "Corrections = Corrections[['Incorrect spelling', 'Correct spelling']]\n",
    "\n",
    "#Remove cities\n",
    "frames = [Corrections]\n",
    "consolidated_affiliations = pd.concat(frames)\n",
    "print(consolidated_affiliations.shape)\n",
    "\n",
    "for i in range(len(consolidated_affiliations)):\n",
    "    #Replaceing title case and stripping leading space\n",
    "    #affs.iat[i,0] = affs.iat[i,0].strip().title()\n",
    "    consolidated_affiliations.iloc[i]['Incorrect spelling'] = consolidated_affiliations.iloc[i]['Incorrect spelling'].strip()\n",
    "    #affs.iat[i,0] = affs.iat[i,0].strip().upper()\n",
    "\n",
    "consolidated_affiliations_dict = consolidated_affiliations.set_index('Incorrect spelling').to_dict()['Correct spelling']\n",
    "print(consolidated_affiliations_dict)\n",
    "print(type(consolidated_affiliations_dict))"
   ]
  },
  {
   "cell_type": "code",
   "execution_count": 11,
   "metadata": {},
   "outputs": [],
   "source": [
    "import re\n",
    "\n",
    "unique[\"Affiliation_original\"] = \"\"\n",
    "start = 3516\n",
    "end = 3538\n",
    "#for i in range(start,end):\n",
    "for i in range(len(unique)):\n",
    "    #print(i)\n",
    "    list = []\n",
    "    for key in consolidated_affiliations_dict.keys():\n",
    "        #print(key)\n",
    "        if key in unique.iloc[i]['Affiliation']: \n",
    "            if len(key) == len(unique.iloc[i]['Affiliation']):\n",
    "                #print(len(key), len(unique.iloc[i]['Affiliation']))\n",
    "                #print(key)\n",
    "                unique.loc[i,'Affiliation_original'] = unique.loc[i,'Affiliation']\n",
    "                unique.loc[i,'Affiliation']  = consolidated_affiliations_dict[key]\n",
    "                #list.append(key)\n",
    "                #print(consolidated_affiliations_dict[key])\n",
    "                #print(unique.loc[i,'Affiliation'])\n",
    "                #print(list)\n",
    "\n",
    "#print(len(unique.Affiliation.unique()))\n",
    "#print(3632 - len(unique.Affiliation.unique()))\n",
    "#print(unique.iloc[start:end,0:2])"
   ]
  },
  {
   "cell_type": "code",
   "execution_count": 27,
   "metadata": {},
   "outputs": [
    {
     "name": "stdout",
     "output_type": "stream",
     "text": [
      "2958\n",
      "2958\n"
     ]
    }
   ],
   "source": [
    "unique = unique[['Affiliation', 'aff_cum_counts']]\n",
    "\n",
    "unique['aff_cum_counts'] = unique.groupby(['Affiliation']).cumcount()+1\n",
    "\n",
    "#unique = unique[['Affiliation','Affiliation_original', 'aff_cum_counts']]\n",
    "unique.head()\n",
    "print(len(unique))\n",
    "\n",
    "unique = unique.drop_duplicates(subset=['Affiliation'], keep = 'last')\n",
    "print(len(unique))"
   ]
  },
  {
   "cell_type": "code",
   "execution_count": 28,
   "metadata": {},
   "outputs": [
    {
     "name": "stdout",
     "output_type": "stream",
     "text": [
      "2958\n",
      "2958\n",
      "2958\n",
      "0\n",
      "2958\n"
     ]
    }
   ],
   "source": [
    "print(len(unique.Affiliation))\n",
    "#unique.drop_duplicates(subset=['Affiliation'], inplace=True)\n",
    "not_fixed = unique.drop_duplicates(subset=['Affiliation'], keep = False)\n",
    "print(len(not_fixed))\n",
    "#print(len(unique.Affiliation))\n",
    "print(len(unique.Affiliation.unique()))\n",
    "print(len(unique.Affiliation) - len(unique.Affiliation.unique()))\n",
    "\n",
    "unique_post_con = unique.drop_duplicates(subset=['Affiliation'])\n",
    "print(len(unique_post_con))"
   ]
  },
  {
   "cell_type": "code",
   "execution_count": 29,
   "metadata": {},
   "outputs": [],
   "source": [
    "# create a excel writer object\n",
    "with pd.ExcelWriter('/Users/MattJohnson/Desktop/Affiliations/2_Extracting affilitations/3_consolidation/Uniques/uniquev2.xlsx') as writer:\n",
    "    # use to_excel function and specify the sheet_name and index \n",
    "    # to store the dataframe in specified sheet\n",
    "    unique_post_con.to_excel(writer, sheet_name=\"unique_post_con\", index=False)\n",
    "    unique.to_excel(writer, sheet_name=\"unique\", index=False)\n",
    "    not_fixed.to_excel(writer, sheet_name=\"not_fixed\", index=False)"
   ]
  },
  {
   "cell_type": "code",
   "execution_count": 14,
   "metadata": {},
   "outputs": [],
   "source": [
    "#unique.to_excel('/Users/MattJohnson/Desktop/Affiliations/2_Extracting affilitations/3_consolidation/Uniques/uniquev2.xlsx') "
   ]
  }
 ],
 "metadata": {
  "kernelspec": {
   "display_name": "Python 3",
   "language": "python",
   "name": "python3"
  },
  "language_info": {
   "codemirror_mode": {
    "name": "ipython",
    "version": 3
   },
   "file_extension": ".py",
   "mimetype": "text/x-python",
   "name": "python",
   "nbconvert_exporter": "python",
   "pygments_lexer": "ipython3",
   "version": "3.9.6"
  }
 },
 "nbformat": 4,
 "nbformat_minor": 2
}
