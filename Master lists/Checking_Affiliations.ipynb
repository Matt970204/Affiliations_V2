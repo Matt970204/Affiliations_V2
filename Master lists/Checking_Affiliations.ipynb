{
 "cells": [
  {
   "cell_type": "code",
   "execution_count": 2,
   "metadata": {},
   "outputs": [
    {
     "name": "stdout",
     "output_type": "stream",
     "text": [
      "QJE (3162, 13)\n",
      "JPE (4138, 12)\n",
      "RES (2915, 13)\n",
      "AER (10737, 12)\n",
      "ECTA (5110, 13)\n"
     ]
    }
   ],
   "source": [
    "import pandas as pd\n",
    "# Loading QJE Master in\n",
    "QJE_master = pd.read_excel('/Users/MattJohnson/Desktop/Refs + affiliations/Affiliations/Master lists/Processed/QJE_processed.xlsx')\n",
    "#print(\"QJE\", QJE_master.shape)\n",
    "QJE_master  = QJE_master[QJE_master['year'] >= 1940]\n",
    "QJE_master  = QJE_master[QJE_master['year'] <= 2016]\n",
    "QJE_master  = QJE_master[QJE_master['content_type'] == 'Article']\n",
    "print(\"QJE\", QJE_master.shape)\n",
    "\n",
    "# Loading QJE Master in\n",
    "JPE_master = pd.read_excel('/Users/MattJohnson/Desktop/Refs + affiliations/Affiliations/Master lists/Processed/JPE_processed.xlsx')\n",
    "#print(\"JPE\", JPE_master.shape)\n",
    "JPE_master  = JPE_master[JPE_master['year'] >= 1940]\n",
    "JPE_master  = JPE_master[JPE_master['year'] <= 2016]\n",
    "JPE_master  = JPE_master[JPE_master['content_type'] == 'Article']\n",
    "print(\"JPE\", JPE_master.shape)\n",
    "\n",
    "# Loading QJE Master in\n",
    "RES_master = pd.read_excel('/Users/MattJohnson/Desktop/Refs + affiliations/Affiliations/Master lists/Processed/RES_processed.xlsx')\n",
    "#print(\"RES\", RES_master.shape)\n",
    "RES_master  = RES_master[RES_master['year'] >= 1940]\n",
    "RES_master  = RES_master[RES_master['year'] <= 2016]\n",
    "RES_master  = RES_master[RES_master['content_type'] == 'Article']\n",
    "print(\"RES\", RES_master.shape)\n",
    "\n",
    "# Loading QJE Master in\n",
    "AER_master = pd.read_excel('/Users/MattJohnson/Desktop/Refs + affiliations/Affiliations/Master lists/Processed/AER_processed.xlsx')\n",
    "#print(\"AER\", AER_master.shape)\n",
    "AER_master  = AER_master[AER_master['year'] >= 1940]\n",
    "AER_master  = AER_master[AER_master['year'] <= 2016]\n",
    "AER_master  = AER_master[AER_master['content_type'] == 'Article']\n",
    "print(\"AER\", AER_master.shape)\n",
    "\n",
    "# Loading QJE Master in\n",
    "ECTA_master = pd.read_excel('/Users/MattJohnson/Desktop/Refs + affiliations/Affiliations/Master lists/Processed/ECTA_processed.xlsx')\n",
    "#print(\"ECTA\", ECTA_master.shape)\n",
    "ECTA_master  = ECTA_master[ECTA_master['year'] >= 1940]\n",
    "ECTA_master  = ECTA_master[ECTA_master['year'] <= 2016]\n",
    "ECTA_master  = ECTA_master[ECTA_master['content_type'] == 'Article']\n",
    "print(\"ECTA\", ECTA_master.shape)\n"
   ]
  },
  {
   "attachments": {},
   "cell_type": "markdown",
   "metadata": {},
   "source": [
    "Masterlists \n",
    "QJE - 1940 - 2016\n",
    "JPE 1892 - 2016\n",
    "RES 933 - 2018\n",
    "AER 911 - 2019\n",
    "ECTA 1933 - 2019\n",
    "\n",
    "Scopus\n",
    "QJE 1940 - 2020\n",
    "JPE - 1969 - 2020\n",
    "RES - 1940 - 2020\n",
    "AER 1978 - 2021\n",
    "ECTA 1974 - 2021"
   ]
  },
  {
   "cell_type": "code",
   "execution_count": 3,
   "metadata": {},
   "outputs": [
    {
     "name": "stdout",
     "output_type": "stream",
     "text": [
      "QJE (2790, 14)\n",
      "QJE_contains (2418, 14)\n",
      "QJE_missing (372, 14)\n",
      "QJE_total_missing 744\n",
      "JPE (958, 14)\n",
      "JPE_contains (798, 14)\n",
      "JPE_missing (160, 14)\n",
      "JPE_total_missing 3340\n",
      "RES (2221, 14)\n",
      "RES_contains (1987, 14)\n",
      "RES_missing (234, 14)\n",
      "RES_total_missing 928\n",
      "AER (2221, 14)\n",
      "AER_contains (2593, 14)\n",
      "AER_missing (128, 14)\n",
      "AER_total_missing 8144\n",
      "ECTA (1236, 21)\n",
      "ECTA_contains (999, 21)\n",
      "ECTA_missing (237, 21)\n",
      "ECTA_total_missing 4111\n"
     ]
    }
   ],
   "source": [
    "import numpy as np\n",
    "QJE_SCOPUS = pd.read_excel('/Users/MattJohnson/Desktop/Refs + affiliations/Affiliations/Scopus/QJE_SCOPUS.xlsx')\n",
    "#print(QJE_SCOPUS.shape)\n",
    "\n",
    "QJE_SCOPUS['document type'] = QJE_SCOPUS['document type'].str.strip()\n",
    "\n",
    "QJE_SCOPUS  = QJE_SCOPUS[QJE_SCOPUS['year'] >= 1940]\n",
    "QJE_SCOPUS  = QJE_SCOPUS[QJE_SCOPUS['year'] <= 2016]\n",
    "QJE_SCOPUS  = QJE_SCOPUS[QJE_SCOPUS['document type'] == 'Article']\n",
    "\n",
    "QJE_SCOPUS['affiliations'].replace('', np.nan, inplace=True)\n",
    "QJE_SCOPUS_missing_aff = QJE_SCOPUS[~QJE_SCOPUS.index.isin(QJE_SCOPUS.dropna(subset=['affiliations']).index)]\n",
    "QJE_SCOPUS_contains_aff = QJE_SCOPUS.dropna(subset=['affiliations'])\n",
    "QJE_total_missing = QJE_master.shape[0] - QJE_SCOPUS_contains_aff.shape[0]\n",
    "print('QJE',QJE_SCOPUS.shape)\n",
    "print('QJE_contains',QJE_SCOPUS_contains_aff.shape)\n",
    "print('QJE_missing',QJE_SCOPUS_missing_aff.shape)\n",
    "print('QJE_total_missing',QJE_total_missing)\n",
    "\n",
    "QJE_SCOPUS_missing_aff.to_excel('/Users/MattJohnson/Desktop/Refs + affiliations/Affiliations/Scopus-masterlist/QJE_SCOPUS_missing_aff.xlsx')\n",
    "QJE_SCOPUS_contains_aff.to_excel('/Users/MattJohnson/Desktop/Refs + affiliations/Affiliations/Scopus-masterlist/QJE_SCOPUS_contains_aff.xlsx')\n",
    "\n",
    "JPE_SCOPUS = pd.read_excel('/Users/MattJohnson/Desktop/Refs + affiliations/Affiliations/Scopus/JPE_SCOPUS.xlsx')\n",
    "#print(JPE_SCOPUS.shape)\n",
    "\n",
    "JPE_SCOPUS['document type'] = JPE_SCOPUS['document type'].str.strip()\n",
    "\n",
    "JPE_SCOPUS  = JPE_SCOPUS[JPE_SCOPUS['year'] >= 1940]\n",
    "JPE_SCOPUS  = JPE_SCOPUS[JPE_SCOPUS['year'] <= 2016]\n",
    "JPE_SCOPUS  = JPE_SCOPUS[JPE_SCOPUS['document type'] == 'Article']\n",
    "\n",
    "JPE_SCOPUS['affiliations'].replace('', np.nan, inplace=True)\n",
    "JPE_SCOPUS_missing_aff = JPE_SCOPUS[~JPE_SCOPUS.index.isin(JPE_SCOPUS.dropna(subset=['affiliations']).index)]\n",
    "JPE_SCOPUS_contains_aff = JPE_SCOPUS.dropna(subset=['affiliations'])\n",
    "JPE_total_missing = JPE_master.shape[0] - JPE_SCOPUS_contains_aff.shape[0]\n",
    "print('JPE',JPE_SCOPUS.shape)\n",
    "print('JPE_contains',JPE_SCOPUS_contains_aff.shape)\n",
    "print('JPE_missing',JPE_SCOPUS_missing_aff.shape)\n",
    "print('JPE_total_missing', JPE_total_missing)\n",
    "\n",
    "RES_SCOPUS = pd.read_excel('/Users/MattJohnson/Desktop/Refs + affiliations/Affiliations/Scopus/RES_SCOPUS.xlsx')\n",
    "\n",
    "RES_SCOPUS['document type'] = RES_SCOPUS['document type'].str.strip()\n",
    "\n",
    "RES_SCOPUS  = RES_SCOPUS[RES_SCOPUS['year'] >= 1940]\n",
    "RES_SCOPUS  = RES_SCOPUS[RES_SCOPUS['year'] <= 2016]\n",
    "RES_SCOPUS  = RES_SCOPUS[RES_SCOPUS['document type'] == 'Article']\n",
    "\n",
    "RES_SCOPUS['affiliations'].replace('', np.nan, inplace=True)\n",
    "RES_SCOPUS_missing_aff = RES_SCOPUS[~RES_SCOPUS.index.isin(RES_SCOPUS.dropna(subset=['affiliations']).index)]\n",
    "RES_SCOPUS_contains_aff = RES_SCOPUS.dropna(subset=['affiliations'])\n",
    "RES_total_missing = RES_master.shape[0] - RES_SCOPUS_contains_aff.shape[0]\n",
    "print('RES',RES_SCOPUS.shape)\n",
    "print('RES_contains',RES_SCOPUS_contains_aff.shape)\n",
    "print('RES_missing',RES_SCOPUS_missing_aff.shape)\n",
    "print('RES_total_missing', RES_total_missing)\n",
    "\n",
    "AER_SCOPUS = pd.read_excel('/Users/MattJohnson/Desktop/Refs + affiliations/Affiliations/Scopus/AER_SCOPUS.xlsx')\n",
    "\n",
    "AER_SCOPUS['document type'] = AER_SCOPUS['document type'].str.strip()\n",
    "\n",
    "AER_SCOPUS  = AER_SCOPUS[AER_SCOPUS['year'] >= 1940]\n",
    "AER_SCOPUS  = AER_SCOPUS[AER_SCOPUS['year'] <= 2016]\n",
    "AER_SCOPUS  = AER_SCOPUS[AER_SCOPUS['document type'] == 'Article']\n",
    "\n",
    "AER_SCOPUS['affiliations'].replace('', np.nan, inplace=True)\n",
    "AER_SCOPUS_missing_aff = AER_SCOPUS[~AER_SCOPUS.index.isin(AER_SCOPUS.dropna(subset=['affiliations']).index)]\n",
    "AER_SCOPUS_contains_aff = AER_SCOPUS.dropna(subset=['affiliations'])\n",
    "AER_total_missing = AER_master.shape[0] - AER_SCOPUS_contains_aff.shape[0]\n",
    "print('AER',RES_SCOPUS.shape)\n",
    "print('AER_contains',AER_SCOPUS_contains_aff.shape)\n",
    "print('AER_missing',AER_SCOPUS_missing_aff.shape)\n",
    "print('AER_total_missing', AER_total_missing)\n",
    "\n",
    "ECTA_SCOPUS = pd.read_excel('/Users/MattJohnson/Desktop/Refs + affiliations/Affiliations/Scopus/Econometrica_SCOPUS.xlsx')\n",
    "\n",
    "ECTA_SCOPUS['document type'] = ECTA_SCOPUS['document type'].str.strip()\n",
    "\n",
    "ECTA_SCOPUS  = ECTA_SCOPUS[ECTA_SCOPUS['year'] >= 1940]\n",
    "ECTA_SCOPUS  = ECTA_SCOPUS[ECTA_SCOPUS['year'] <= 2016]\n",
    "ECTA_SCOPUS  = ECTA_SCOPUS[ECTA_SCOPUS['document type'] == 'Article']\n",
    "\n",
    "ECTA_SCOPUS['affiliations'].replace('', np.nan, inplace=True)\n",
    "ECTA_SCOPUS_missing_aff = ECTA_SCOPUS[~ECTA_SCOPUS.index.isin(ECTA_SCOPUS.dropna(subset=['affiliations']).index)]\n",
    "ECTA_SCOPUS_contains_aff = ECTA_SCOPUS.dropna(subset=['affiliations'])\n",
    "ECTA_total_missing = ECTA_master.shape[0] - ECTA_SCOPUS_contains_aff.shape[0]\n",
    "print('ECTA',ECTA_SCOPUS.shape)\n",
    "print('ECTA_contains',ECTA_SCOPUS_contains_aff.shape)\n",
    "print('ECTA_missing',ECTA_SCOPUS_missing_aff.shape)\n",
    "print('ECTA_total_missing', ECTA_total_missing)"
   ]
  },
  {
   "cell_type": "code",
   "execution_count": 4,
   "metadata": {},
   "outputs": [
    {
     "name": "stdout",
     "output_type": "stream",
     "text": [
      "26062\n",
      "8795\n",
      "13927\n",
      "22722 JPE is the difference\n",
      "6077\n",
      "4405\n"
     ]
    }
   ],
   "source": [
    "print(QJE_master.shape[0] + JPE_master.shape[0] + RES_master.shape[0] + AER_master.shape[0] + ECTA_master.shape[0])\n",
    "print(QJE_SCOPUS_contains_aff.shape[0] + JPE_SCOPUS_contains_aff.shape[0] + RES_SCOPUS_contains_aff.shape[0] + AER_SCOPUS_contains_aff.shape[0] + ECTA_SCOPUS_contains_aff.shape[0])\n",
    "print(QJE_total_missing + RES_total_missing + AER_total_missing + ECTA_total_missing)\n",
    "print(8795 + 13927, 'JPE is the difference')\n",
    "\n",
    "print(QJE_master.shape[0] + RES_master.shape[0])\n",
    "print(QJE_SCOPUS_contains_aff.shape[0] + RES_SCOPUS_contains_aff.shape[0])"
   ]
  },
  {
   "cell_type": "code",
   "execution_count": 5,
   "metadata": {},
   "outputs": [
    {
     "data": {
      "text/plain": [
       "authors             object\n",
       "title               object\n",
       "journal             object\n",
       "volume               int64\n",
       "issue              float64\n",
       "year                 int64\n",
       "pages               object\n",
       "DOI                 object\n",
       "affiliations        object\n",
       "abstract            object\n",
       "citations           object\n",
       "document type       object\n",
       "index keywords      object\n",
       "author keywords    float64\n",
       "dtype: object"
      ]
     },
     "execution_count": 5,
     "metadata": {},
     "output_type": "execute_result"
    }
   ],
   "source": [
    "#QJE_SCOPUS = QJE_SCOPUS.astype({'affiliations': str})\n",
    "QJE_SCOPUS['affiliations'] = QJE_SCOPUS['affiliations'].astype(str)\n",
    "QJE_SCOPUS.dtypes\n"
   ]
  },
  {
   "attachments": {},
   "cell_type": "markdown",
   "metadata": {},
   "source": [
    "# Merging scopus onto masterlist through title"
   ]
  },
  {
   "cell_type": "code",
   "execution_count": 6,
   "metadata": {},
   "outputs": [
    {
     "name": "stdout",
     "output_type": "stream",
     "text": [
      "(2915, 13)\n",
      "(2221, 14)\n"
     ]
    }
   ],
   "source": [
    "# testing RES first\n",
    "print(RES_master.shape)\n",
    "print(RES_SCOPUS.shape)\n",
    "\n",
    "cleaned = pd.read_excel('/Users/MattJohnson/Desktop/Refs + affiliations/Affiliations/Master lists/Processed/RES_processed.xlsx')\n",
    "\n",
    "scopus = pd.read_excel('/Users/MattJohnson/Desktop/Refs + affiliations/Affiliations/Scopus/RES_SCOPUS.xlsx')\n",
    "\n",
    "cleaned['volume']=cleaned['volume'].astype(int)\n",
    "scopus['pages']=scopus['pages'].str.strip()\n",
    "\n",
    "Merged=pd.merge(cleaned, scopus, on=['year', 'issue','volume','pages'], how='left')\n",
    "pd.set_option('display.max_columns', None)\n",
    "pd.set_option('display.max_rows', None)\n",
    "sum(Merged['title_y'].isna()==False)"
   ]
  }
 ],
 "metadata": {
  "kernelspec": {
   "display_name": "Python 3",
   "language": "python",
   "name": "python3"
  },
  "language_info": {
   "codemirror_mode": {
    "name": "ipython",
    "version": 3
   },
   "file_extension": ".py",
   "mimetype": "text/x-python",
   "name": "python",
   "nbconvert_exporter": "python",
   "pygments_lexer": "ipython3",
   "version": "3.9.6"
  },
  "orig_nbformat": 4,
  "vscode": {
   "interpreter": {
    "hash": "aee8b7b246df8f9039afb4144a1f6fd8d2ca17a180786b69acc140d282b71a49"
   }
  }
 },
 "nbformat": 4,
 "nbformat_minor": 2
}
