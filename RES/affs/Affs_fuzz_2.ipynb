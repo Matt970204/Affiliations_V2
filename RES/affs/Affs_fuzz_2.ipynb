{
 "cells": [
  {
   "cell_type": "code",
   "execution_count": 9,
   "metadata": {},
   "outputs": [
    {
     "name": "stdout",
     "output_type": "stream",
     "text": [
      "[('London School Of Economics', 90), ('Columbia Business School', 90)]\n"
     ]
    }
   ],
   "source": [
    "from thefuzz import process\n",
    "test = ' 5535London School Of Economics5553 dbgtrfdf ddgg fdffColumbia Business School'\n",
    "#test = RES_2000.iloc[0,0]\n",
    "choices = ['London School Of Economics','Columbia Business School']\n",
    "print(process.extract(test,choices))"
   ]
  }
 ],
 "metadata": {
  "kernelspec": {
   "display_name": "Python 3",
   "language": "python",
   "name": "python3"
  },
  "language_info": {
   "codemirror_mode": {
    "name": "ipython",
    "version": 3
   },
   "file_extension": ".py",
   "mimetype": "text/x-python",
   "name": "python",
   "nbconvert_exporter": "python",
   "pygments_lexer": "ipython3",
   "version": "3.9.6"
  },
  "orig_nbformat": 4
 },
 "nbformat": 4,
 "nbformat_minor": 2
}
